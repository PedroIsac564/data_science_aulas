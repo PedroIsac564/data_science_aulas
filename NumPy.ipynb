{
  "nbformat": 4,
  "nbformat_minor": 0,
  "metadata": {
    "colab": {
      "provenance": [],
      "authorship_tag": "ABX9TyN55lV5HZ8ZnYfzj2zbHmKg",
      "include_colab_link": true
    },
    "kernelspec": {
      "name": "python3",
      "display_name": "Python 3"
    },
    "language_info": {
      "name": "python"
    }
  },
  "cells": [
    {
      "cell_type": "markdown",
      "metadata": {
        "id": "view-in-github",
        "colab_type": "text"
      },
      "source": [
        "<a href=\"https://colab.research.google.com/github/PedroIsac564/data_science_aulas/blob/main/NumPy.ipynb\" target=\"_parent\"><img src=\"https://colab.research.google.com/assets/colab-badge.svg\" alt=\"Open In Colab\"/></a>"
      ]
    },
    {
      "cell_type": "code",
      "execution_count": null,
      "metadata": {
        "colab": {
          "base_uri": "https://localhost:8080/"
        },
        "id": "UwjuPmQkofnN",
        "outputId": "7017b895-e9fb-41ec-ec0c-b63d99518a68"
      },
      "outputs": [
        {
          "output_type": "stream",
          "name": "stdout",
          "text": [
            "1\n"
          ]
        }
      ],
      "source": [
        "print(1)"
      ]
    },
    {
      "cell_type": "code",
      "source": [
        "w1, w2, w3 = 0.3, 0.2, 0.5\n",
        "\n",
        "print(w1)\n",
        "print(w2)\n",
        "print(w3)"
      ],
      "metadata": {
        "colab": {
          "base_uri": "https://localhost:8080/"
        },
        "id": "WmIb_m8Y0QoM",
        "outputId": "adaf0628-1240-4db8-f24e-8525c9b79a67"
      },
      "execution_count": null,
      "outputs": [
        {
          "output_type": "stream",
          "name": "stdout",
          "text": [
            "0.3\n",
            "0.2\n",
            "0.5\n"
          ]
        }
      ]
    },
    {
      "cell_type": "code",
      "source": [
        "#Pesos da equação\n",
        "w1, w2, w3 = 0.3, 0.2, 0.5\n",
        "\n",
        "#dados climaticos da regiao A\n",
        "regiaoA_temp = 22\n",
        "regiaoA_chuva = 67\n",
        "regiaoA_umid = 65\n",
        "\n",
        "#aplicando o modelo\n",
        "regiaoA_goiaba = regiaoA_temp * w1 + regiaoA_chuva * w2 + regiaoA_umid * w3\n",
        "print(f\"Na região A a produção de {regiaoA_goiaba} toneladas por hectares\")"
      ],
      "metadata": {
        "id": "nzlVjuDI0-jD",
        "colab": {
          "base_uri": "https://localhost:8080/"
        },
        "outputId": "bc9da0a0-9de8-48ab-b15c-3a2679d467a2"
      },
      "execution_count": null,
      "outputs": [
        {
          "output_type": "stream",
          "name": "stdout",
          "text": [
            "Na região A a produção de 52.5 toneladas por hectares\n"
          ]
        }
      ]
    },
    {
      "cell_type": "code",
      "source": [
        "RegiaoA = [22, 67, 65]\n",
        "RegiaoB = [24, 88, 95]\n",
        "RegiaoC = [17, 134, 50]\n",
        "RegiaoD = [18, 96, 70]\n",
        "\n",
        "pesos = [w1, w2, w3]"
      ],
      "metadata": {
        "id": "f6lJiV0BEH4l"
      },
      "execution_count": null,
      "outputs": []
    },
    {
      "cell_type": "code",
      "source": [
        "# Criando função\n",
        "def test(a,b):\n",
        "  print(a+b)\n",
        "x = \"Test\"\n",
        "y = \"3\"\n",
        "test(x, y)"
      ],
      "metadata": {
        "colab": {
          "base_uri": "https://localhost:8080/"
        },
        "id": "OWfcvWb-HS0c",
        "outputId": "12c46ded-2c20-4fbd-f050-7e6f4215ef93"
      },
      "execution_count": null,
      "outputs": [
        {
          "output_type": "stream",
          "name": "stdout",
          "text": [
            "Test3\n"
          ]
        }
      ]
    },
    {
      "cell_type": "code",
      "source": [
        "# Usando zip para juntar listas\n",
        "\n",
        "nomes = ['Pedro', 'Xandão', 'Pelé']\n",
        "idade = [18, 36, 85]\n",
        "\n",
        "#Combinando lista\n",
        "lista_completa = list(zip(nomes, idade))\n",
        "print(lista_completa)"
      ],
      "metadata": {
        "colab": {
          "base_uri": "https://localhost:8080/"
        },
        "id": "duPqlAVgKqWa",
        "outputId": "78422628-6ee4-4fa5-c6cc-8a07a135d300"
      },
      "execution_count": null,
      "outputs": [
        {
          "output_type": "stream",
          "name": "stdout",
          "text": [
            "[('Pedro', 18), ('Xandão', 18), ('Pelé', 49)]\n"
          ]
        }
      ]
    },
    {
      "cell_type": "code",
      "source": [
        "RegiaoA = [22, 67, 65]\n",
        "RegiaoB = [24, 88, 95]\n",
        "RegiaoC = [17, 134, 50]\n",
        "RegiaoD = [18, 96, 70]\n",
        "\n",
        "pesos = [w1, w2, w3]\n",
        "\n",
        "def producao_goiaba(regiao, pesos):\n",
        "  result = 0\n",
        "  for x, w in zip(regiao, pesos):\n",
        "    result += x * w\n",
        "  return result\n",
        "\n",
        "print(producao_goiaba(RegiaoA, pesos))"
      ],
      "metadata": {
        "colab": {
          "base_uri": "https://localhost:8080/"
        },
        "id": "jsDfyMScMEO0",
        "outputId": "f0794780-862f-4b28-b2e9-2f2896f735b2"
      },
      "execution_count": null,
      "outputs": [
        {
          "output_type": "stream",
          "name": "stdout",
          "text": [
            "52.5\n"
          ]
        }
      ]
    },
    {
      "cell_type": "code",
      "source": [
        "import numpy as np\n",
        "\n",
        "RegiaoA = np.array([22, 67, 65])\n",
        "\n",
        "print(type(RegiaoA))\n",
        "\n",
        "pesos = np.array([w1, w2, w3])\n",
        "\n",
        "print(type(pesos))"
      ],
      "metadata": {
        "colab": {
          "base_uri": "https://localhost:8080/"
        },
        "id": "6tRgrRBAVWxs",
        "outputId": "ecd3ae99-6e84-4333-e14f-0aaaf25c1873"
      },
      "execution_count": null,
      "outputs": [
        {
          "output_type": "stream",
          "name": "stdout",
          "text": [
            "<class 'numpy.ndarray'>\n",
            "<class 'numpy.ndarray'>\n"
          ]
        }
      ]
    },
    {
      "cell_type": "code",
      "source": [
        "reg_a = np.dot(RegiaoA, pesos)\n",
        "print('Regiao A: {}'.format(reg_a))"
      ],
      "metadata": {
        "id": "HrVRlk95a2g1"
      },
      "execution_count": null,
      "outputs": []
    },
    {
      "cell_type": "code",
      "source": [
        "# Lista em Python\n",
        "arr1 = list(range(2000000))\n",
        "arr2 = list(range(1000000, 3000000))\n",
        "\n",
        "# vetor em Numpy\n",
        "arr1_np = np.array(arr1)\n",
        "arr2_np = np.array(arr2)"
      ],
      "metadata": {
        "id": "mh32B80WcK-M"
      },
      "execution_count": null,
      "outputs": []
    },
    {
      "cell_type": "code",
      "source": [
        "%%time\n",
        "arr1 = list(range(2000000))\n",
        "arr2 = list(range(1000000, 3000000))\n",
        "result = 0\n",
        "for x1, x2 in zip(arr1, arr2):\n",
        "  result += x1 * x2\n",
        "print(result)"
      ],
      "metadata": {
        "colab": {
          "base_uri": "https://localhost:8080/"
        },
        "id": "y1EO1zwKebJU",
        "outputId": "1b324b3a-e6a7-4573-d289-de4887c41f5c"
      },
      "execution_count": null,
      "outputs": [
        {
          "output_type": "stream",
          "name": "stdout",
          "text": [
            "4666663666667000000\n",
            "CPU times: user 516 ms, sys: 240 ms, total: 756 ms\n",
            "Wall time: 765 ms\n"
          ]
        }
      ]
    },
    {
      "cell_type": "code",
      "source": [
        "%time\n",
        "arr1 = list(range(2000000))\n",
        "arr2 = list(range(1000000, 3000000))\n",
        "arr1_np = np.array(arr1)\n",
        "arr2_np = np.array(arr2)\n",
        "print(np.dot(arr1_np, arr2_np))"
      ],
      "metadata": {
        "colab": {
          "base_uri": "https://localhost:8080/"
        },
        "id": "EQkTfa6YfAdc",
        "outputId": "01f2f2cd-edeb-47b9-d999-140c803e77bf"
      },
      "execution_count": null,
      "outputs": [
        {
          "output_type": "stream",
          "name": "stdout",
          "text": [
            "CPU times: user 3 µs, sys: 0 ns, total: 3 µs\n",
            "Wall time: 8.58 µs\n",
            "4666663666667000000\n"
          ]
        }
      ]
    },
    {
      "cell_type": "code",
      "source": [
        "#criando matriz usando numpay array\n",
        "dados_climaticos = np.array ([[22, 67, 65], [24, 88, 95], [17, 134, 50], [18, 96, 70]])\n",
        "\n",
        "print(dados_climaticos)"
      ],
      "metadata": {
        "colab": {
          "base_uri": "https://localhost:8080/"
        },
        "id": "Sd5S_gBNf0HN",
        "outputId": "c095d5d1-9915-4a52-8424-aa192d529a0c"
      },
      "execution_count": null,
      "outputs": [
        {
          "output_type": "stream",
          "name": "stdout",
          "text": [
            "[[ 22  67  65]\n",
            " [ 24  88  95]\n",
            " [ 17 134  50]\n",
            " [ 18  96  70]]\n"
          ]
        }
      ]
    },
    {
      "cell_type": "code",
      "source": [
        "print(dados_climaticos.shape)\n",
        "print(pesos.shape)\n",
        "\n",
        "# 3D array\n",
        "arr3 = np.array([[[11,12,13], [13,1,15]],[[15,16,17], []]])"
      ],
      "metadata": {
        "id": "Ma4qjG6Yi4Js"
      },
      "execution_count": null,
      "outputs": []
    },
    {
      "cell_type": "code",
      "source": [
        "print(pesos.dtype)\n",
        "print('--------')\n",
        "print(dados_climaticos.dtype)"
      ],
      "metadata": {
        "colab": {
          "base_uri": "https://localhost:8080/"
        },
        "id": "Xa7tp9WUj04N",
        "outputId": "c04a1636-357f-491b-bf26-5ccf35671541"
      },
      "execution_count": null,
      "outputs": [
        {
          "output_type": "stream",
          "name": "stdout",
          "text": [
            "float64\n",
            "--------\n",
            "int64\n"
          ]
        }
      ]
    },
    {
      "cell_type": "code",
      "source": [
        "np.matmul(dados_climaticos, pesos)"
      ],
      "metadata": {
        "colab": {
          "base_uri": "https://localhost:8080/"
        },
        "id": "YsbqUVw6lrOk",
        "outputId": "05e55b6e-8fef-4c5a-8e7f-e41413847688"
      },
      "execution_count": null,
      "outputs": [
        {
          "output_type": "execute_result",
          "data": {
            "text/plain": [
              "array([52.5, 72.3, 56.9, 59.6])"
            ]
          },
          "metadata": {},
          "execution_count": 26
        }
      ]
    },
    {
      "cell_type": "code",
      "source": [
        "dados_climaticos @ pesos"
      ],
      "metadata": {
        "colab": {
          "base_uri": "https://localhost:8080/"
        },
        "id": "gbkxy2JDl4x0",
        "outputId": "4fb7faf7-9a9f-40e3-ae2c-27ab06377549"
      },
      "execution_count": null,
      "outputs": [
        {
          "output_type": "execute_result",
          "data": {
            "text/plain": [
              "array([52.5, 72.3, 56.9, 59.6])"
            ]
          },
          "metadata": {},
          "execution_count": 27
        }
      ]
    },
    {
      "cell_type": "code",
      "source": [
        "#Puxando os dados de uma tabela do exel para criar um array em forma de planilha\n",
        "import numpy as np\n",
        "goiaba_csv = np.genfromtxt('/content/goiaba.csv', delimiter = ',')"
      ],
      "metadata": {
        "id": "W5BfTsnkMnC9"
      },
      "execution_count": null,
      "outputs": []
    },
    {
      "cell_type": "code",
      "source": [
        "goiaba_csv"
      ],
      "metadata": {
        "colab": {
          "base_uri": "https://localhost:8080/"
        },
        "id": "NQ7PkRKmOYI0",
        "outputId": "961691eb-1e00-4b62-c22d-228ecfad5ec6"
      },
      "execution_count": null,
      "outputs": [
        {
          "output_type": "execute_result",
          "data": {
            "text/plain": [
              "array([[23., 29., 95.],\n",
              "       [24., 20., 21.],\n",
              "       [18., 23., 16.],\n",
              "       [19., 30., 36.]])"
            ]
          },
          "metadata": {},
          "execution_count": 15
        }
      ]
    },
    {
      "cell_type": "code",
      "source": [
        "pesos = np.array([0.4, 0.2, 0.8])"
      ],
      "metadata": {
        "id": "0s132mHkOkd9"
      },
      "execution_count": null,
      "outputs": []
    },
    {
      "cell_type": "code",
      "source": [
        "rendimento = goiaba_csv @ pesos"
      ],
      "metadata": {
        "id": "gsqCE4U_OyW8"
      },
      "execution_count": null,
      "outputs": []
    },
    {
      "cell_type": "code",
      "source": [
        "rendimento"
      ],
      "metadata": {
        "colab": {
          "base_uri": "https://localhost:8080/"
        },
        "id": "NI0M9VcAO3YL",
        "outputId": "601a868d-131c-41ca-ebde-9623ef5b3d75"
      },
      "execution_count": null,
      "outputs": [
        {
          "output_type": "execute_result",
          "data": {
            "text/plain": [
              "array([91. , 30.4, 24.6, 42.4])"
            ]
          },
          "metadata": {},
          "execution_count": 18
        }
      ]
    },
    {
      "cell_type": "code",
      "source": [
        "# incluir o resultado na região do array\n",
        "resultado = np.concatenate((goiaba_csv, rendimento.reshape(4, 1)), axis = 1)\n",
        "resultado"
      ],
      "metadata": {
        "colab": {
          "base_uri": "https://localhost:8080/"
        },
        "id": "cGMAXnfjSDSL",
        "outputId": "32878b7e-5268-44d6-bffa-7e76e0fed80f"
      },
      "execution_count": null,
      "outputs": [
        {
          "output_type": "execute_result",
          "data": {
            "text/plain": [
              "array([[23. , 29. , 95. , 91. ],\n",
              "       [24. , 20. , 21. , 30.4],\n",
              "       [18. , 23. , 16. , 24.6],\n",
              "       [19. , 30. , 36. , 42.4]])"
            ]
          },
          "metadata": {},
          "execution_count": 19
        }
      ]
    },
    {
      "cell_type": "code",
      "source": [
        "# Salva uma coluna com todos os resultados e gera um novo arquivo\n",
        "np.savetxt('goiaba_resultado.csv',\n",
        "           resultado,\n",
        "           fmt = '%.2f',\n",
        "           delimiter = ',',\n",
        "           header = 'temperatura,precipitação,umidade,rendimento',\n",
        "           comments='')"
      ],
      "metadata": {
        "id": "cFxRUJcRVZCe"
      },
      "execution_count": null,
      "outputs": []
    },
    {
      "cell_type": "code",
      "source": [
        "goiaba_resultado_csv = np.genfromtxt('/content/goiaba_resultado.csv', delimiter = ',')"
      ],
      "metadata": {
        "id": "KZN6YskkYB3K"
      },
      "execution_count": null,
      "outputs": []
    },
    {
      "cell_type": "code",
      "source": [
        "goiaba_resultado_csv"
      ],
      "metadata": {
        "colab": {
          "base_uri": "https://localhost:8080/"
        },
        "id": "seHb-Q9vYXVp",
        "outputId": "44e84271-790e-4ce5-ae15-60299e87627c"
      },
      "execution_count": null,
      "outputs": [
        {
          "output_type": "execute_result",
          "data": {
            "text/plain": [
              "array([[ nan,  nan,  nan,  nan],\n",
              "       [23. , 29. , 95. , 91. ],\n",
              "       [24. , 20. , 21. , 30.4],\n",
              "       [18. , 23. , 16. , 24.6],\n",
              "       [19. , 30. , 36. , 42.4]])"
            ]
          },
          "metadata": {},
          "execution_count": 28
        }
      ]
    }
  ]
}