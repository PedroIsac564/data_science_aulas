{
  "nbformat": 4,
  "nbformat_minor": 0,
  "metadata": {
    "colab": {
      "provenance": [],
      "authorship_tag": "ABX9TyNTcVdtymnaYFHdLB81kijD",
      "include_colab_link": true
    },
    "kernelspec": {
      "name": "python3",
      "display_name": "Python 3"
    },
    "language_info": {
      "name": "python"
    }
  },
  "cells": [
    {
      "cell_type": "markdown",
      "metadata": {
        "id": "view-in-github",
        "colab_type": "text"
      },
      "source": [
        "<a href=\"https://colab.research.google.com/github/PedroIsac564/data_science_aulas/blob/main/Pandas.ipynb\" target=\"_parent\"><img src=\"https://colab.research.google.com/assets/colab-badge.svg\" alt=\"Open In Colab\"/></a>"
      ]
    },
    {
      "cell_type": "code",
      "execution_count": null,
      "metadata": {
        "colab": {
          "base_uri": "https://localhost:8080/"
        },
        "id": "UwjuPmQkofnN",
        "outputId": "7017b895-e9fb-41ec-ec0c-b63d99518a68"
      },
      "outputs": [
        {
          "output_type": "stream",
          "name": "stdout",
          "text": [
            "1\n"
          ]
        }
      ],
      "source": [
        "print(1)"
      ]
    },
    {
      "cell_type": "code",
      "source": [
        "w1, w2, w3 = 0.3, 0.2, 0.5\n",
        "\n",
        "print(w1)\n",
        "print(w2)\n",
        "print(w3)"
      ],
      "metadata": {
        "colab": {
          "base_uri": "https://localhost:8080/"
        },
        "id": "WmIb_m8Y0QoM",
        "outputId": "adaf0628-1240-4db8-f24e-8525c9b79a67"
      },
      "execution_count": null,
      "outputs": [
        {
          "output_type": "stream",
          "name": "stdout",
          "text": [
            "0.3\n",
            "0.2\n",
            "0.5\n"
          ]
        }
      ]
    },
    {
      "cell_type": "code",
      "source": [
        "#Pesos da equação\n",
        "w1, w2, w3 = 0.3, 0.2, 0.5\n",
        "\n",
        "#dados climaticos da regiao A\n",
        "regiaoA_temp = 22\n",
        "regiaoA_chuva = 67\n",
        "regiaoA_umid = 65\n",
        "\n",
        "#aplicando o modelo\n",
        "regiaoA_goiaba = regiaoA_temp * w1 + regiaoA_chuva * w2 + regiaoA_umid * w3\n",
        "print(f\"Na região A a produção de {regiaoA_goiaba} toneladas por hectares\")"
      ],
      "metadata": {
        "id": "nzlVjuDI0-jD",
        "colab": {
          "base_uri": "https://localhost:8080/"
        },
        "outputId": "bc9da0a0-9de8-48ab-b15c-3a2679d467a2"
      },
      "execution_count": 4,
      "outputs": [
        {
          "output_type": "stream",
          "name": "stdout",
          "text": [
            "Na região A a produção de 52.5 toneladas por hectares\n"
          ]
        }
      ]
    },
    {
      "cell_type": "code",
      "source": [
        "RegiaoA = [22, 67, 65]\n",
        "RegiaoB = [24, 88, 95]\n",
        "RegiaoC = [17, 134, 50]\n",
        "RegiaoD = [18, 96, 70]\n",
        "\n",
        "pesos = [w1, w2, w3]"
      ],
      "metadata": {
        "id": "f6lJiV0BEH4l"
      },
      "execution_count": null,
      "outputs": []
    }
  ]
}