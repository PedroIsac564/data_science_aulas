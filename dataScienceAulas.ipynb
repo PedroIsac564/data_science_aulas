{
  "nbformat": 4,
  "nbformat_minor": 0,
  "metadata": {
    "colab": {
      "provenance": [],
      "authorship_tag": "ABX9TyNE+oLfpn3yT/8E3xnnqrQV",
      "include_colab_link": true
    },
    "kernelspec": {
      "name": "python3",
      "display_name": "Python 3"
    },
    "language_info": {
      "name": "python"
    }
  },
  "cells": [
    {
      "cell_type": "markdown",
      "metadata": {
        "id": "view-in-github",
        "colab_type": "text"
      },
      "source": [
        "<a href=\"https://colab.research.google.com/github/PedroIsac564/data_science_aulas/blob/main/dataScienceAulas.ipynb\" target=\"_parent\"><img src=\"https://colab.research.google.com/assets/colab-badge.svg\" alt=\"Open In Colab\"/></a>"
      ]
    },
    {
      "cell_type": "code",
      "execution_count": null,
      "metadata": {
        "colab": {
          "base_uri": "https://localhost:8080/"
        },
        "id": "OxDo-GQnTZQN",
        "outputId": "96915eca-1550-4bdc-f7ec-8be127116ba8"
      },
      "outputs": [
        {
          "output_type": "stream",
          "name": "stdout",
          "text": [
            "Hello World\n"
          ]
        }
      ],
      "source": [
        "print(\"Hello World\")"
      ]
    },
    {
      "cell_type": "code",
      "source": [
        "print(1 + 1)"
      ],
      "metadata": {
        "colab": {
          "base_uri": "https://localhost:8080/"
        },
        "id": "0_Nz0gwkXg2R",
        "outputId": "7fb241b1-9b1c-48eb-c4a1-2e0fb1b1067a"
      },
      "execution_count": null,
      "outputs": [
        {
          "output_type": "stream",
          "name": "stdout",
          "text": [
            "2\n"
          ]
        }
      ]
    },
    {
      "cell_type": "code",
      "source": [
        "print(type('!'))"
      ],
      "metadata": {
        "colab": {
          "base_uri": "https://localhost:8080/"
        },
        "id": "e1or284RcGSC",
        "outputId": "e76c640e-79f6-4662-f277-da23f704e1da"
      },
      "execution_count": null,
      "outputs": [
        {
          "output_type": "stream",
          "name": "stdout",
          "text": [
            "<class 'str'>\n"
          ]
        }
      ]
    },
    {
      "cell_type": "code",
      "source": [
        "# exemplo de tpagem dinâmica\n",
        "x = 10 #x é um inteiro\n",
        "print(x)\n",
        "print(type(x))\n",
        "\n",
        "x = \"Hello\" # x agora é uma string\n"
      ],
      "metadata": {
        "id": "hJ8D_P7wfVar"
      },
      "execution_count": null,
      "outputs": []
    },
    {
      "cell_type": "code",
      "source": [
        "#soma de variaveis\n",
        "a = 10;\n",
        "b = 5;\n",
        "\n",
        "print(a + b)"
      ],
      "metadata": {
        "colab": {
          "base_uri": "https://localhost:8080/"
        },
        "id": "2xJDeYb0ILS7",
        "outputId": "5fbc7c16-5bfc-4b3c-f3d2-303332d0cdb4"
      },
      "execution_count": null,
      "outputs": [
        {
          "output_type": "stream",
          "name": "stdout",
          "text": [
            "15\n"
          ]
        }
      ]
    },
    {
      "cell_type": "code",
      "source": [
        "a = promp"
      ],
      "metadata": {
        "id": "HJPLSNZmLQr1"
      },
      "execution_count": null,
      "outputs": []
    },
    {
      "cell_type": "code",
      "source": [
        "dias = ['Segunda', 'Terça', 'Quarta']\n",
        "for dia in dias:\n",
        "  print(dia)"
      ],
      "metadata": {
        "colab": {
          "base_uri": "https://localhost:8080/"
        },
        "id": "jkarazGU469R",
        "outputId": "615fde09-5031-4ad2-a816-d205224b0657"
      },
      "execution_count": null,
      "outputs": [
        {
          "output_type": "stream",
          "name": "stdout",
          "text": [
            "Segunda\n",
            "Terça\n",
            "Quarta\n"
          ]
        }
      ]
    },
    {
      "cell_type": "code",
      "source": [
        "for letra in 'Segunda':\n",
        "  print(letra)"
      ],
      "metadata": {
        "colab": {
          "base_uri": "https://localhost:8080/"
        },
        "id": "BDKVXUJJ6-WJ",
        "outputId": "28fef6d5-c4d8-4e2c-b95c-4ec7f0e69765"
      },
      "execution_count": null,
      "outputs": [
        {
          "output_type": "stream",
          "name": "stdout",
          "text": [
            "S\n",
            "e\n",
            "g\n",
            "u\n",
            "n\n",
            "d\n",
            "a\n"
          ]
        }
      ]
    },
    {
      "cell_type": "code",
      "source": [
        "frutas = ['maça', 'banana', 'uva']\n",
        "for fruta in frutas:\n",
        "  print(f\"A fruta {fruta}\")"
      ],
      "metadata": {
        "colab": {
          "base_uri": "https://localhost:8080/"
        },
        "id": "8B2FEuXI9m05",
        "outputId": "fe558d65-f267-4eaa-fd3c-eb58757f986c"
      },
      "execution_count": null,
      "outputs": [
        {
          "output_type": "stream",
          "name": "stdout",
          "text": [
            "A fruta maça\n",
            "A fruta banana\n",
            "A fruta uva\n"
          ]
        }
      ]
    },
    {
      "cell_type": "code",
      "source": [
        "person1 = {\n",
        "    'nome': 'Pedro Isac',\n",
        "    'idade': 18,\n",
        "    'cidadeNasceu': 'Campinas',\n",
        "    'vivo': True,\n",
        "}\n",
        "\n",
        "for key in person1:\n",
        "  print(f\"key: {key}  Value: {person1[key]}\")"
      ],
      "metadata": {
        "colab": {
          "base_uri": "https://localhost:8080/"
        },
        "id": "2EMoykGK-DyR",
        "outputId": "56d02cbc-849b-4344-d757-5d71bed98c01"
      },
      "execution_count": null,
      "outputs": [
        {
          "output_type": "stream",
          "name": "stdout",
          "text": [
            "key: nome  Value: Pedro Isac\n",
            "key: idade  Value: 18\n",
            "key: cidadeNasceu  Value: Campinas\n",
            "key: vivo  Value: True\n"
          ]
        }
      ]
    },
    {
      "cell_type": "code",
      "source": [
        "for i in range(7):\n",
        "  print(i)"
      ],
      "metadata": {
        "colab": {
          "base_uri": "https://localhost:8080/"
        },
        "id": "VHSaxF8xBKsp",
        "outputId": "76408ff2-ee53-4f23-e59e-68c4b525cb82"
      },
      "execution_count": null,
      "outputs": [
        {
          "output_type": "stream",
          "name": "stdout",
          "text": [
            "0\n",
            "1\n",
            "2\n",
            "3\n",
            "4\n",
            "5\n",
            "6\n"
          ]
        }
      ]
    },
    {
      "cell_type": "code",
      "source": [
        "for i in range(3, 10):\n",
        "  print(i)"
      ],
      "metadata": {
        "colab": {
          "base_uri": "https://localhost:8080/"
        },
        "id": "DfU8MCcrCTw4",
        "outputId": "57a7651f-466c-4765-e77f-c9ca48c0c49e"
      },
      "execution_count": null,
      "outputs": [
        {
          "output_type": "stream",
          "name": "stdout",
          "text": [
            "3\n",
            "4\n",
            "5\n",
            "6\n",
            "7\n",
            "8\n",
            "9\n"
          ]
        }
      ]
    },
    {
      "cell_type": "code",
      "source": [
        "for i in range(2, 22,2):\n",
        "  print(f\"a tabuada do 2 é: {i}\")"
      ],
      "metadata": {
        "colab": {
          "base_uri": "https://localhost:8080/"
        },
        "id": "jkc4zjlfDPcq",
        "outputId": "d2ce435b-6862-481f-e696-a75acbe2bde9"
      },
      "execution_count": null,
      "outputs": [
        {
          "output_type": "stream",
          "name": "stdout",
          "text": [
            "a tabuada do 2 é: 2\n",
            "a tabuada do 2 é: 4\n",
            "a tabuada do 2 é: 6\n",
            "a tabuada do 2 é: 8\n",
            "a tabuada do 2 é: 10\n",
            "a tabuada do 2 é: 12\n",
            "a tabuada do 2 é: 14\n",
            "a tabuada do 2 é: 16\n",
            "a tabuada do 2 é: 18\n",
            "a tabuada do 2 é: 20\n"
          ]
        }
      ]
    },
    {
      "cell_type": "code",
      "source": [
        "persons = [{\n",
        "    'nome': 'Pedro Isac',\n",
        "    'idade': 18,\n",
        "    'cidadeNasceu': 'Campinas',\n",
        "    'namorando': True,\n",
        "},{\n",
        "    'nome': 'paola',\n",
        "    'idade': 18,\n",
        "    'cidadeNasceu': 'Campinas',\n",
        "    'namorando': True,\n",
        "}]\n",
        "for person in persons:\n",
        "  for key in person:\n",
        "    print(key, \":\", person[key])\n",
        "  print(\" \")"
      ],
      "metadata": {
        "colab": {
          "base_uri": "https://localhost:8080/"
        },
        "id": "BfwxgXzYFv1J",
        "outputId": "861db4a7-068d-40d9-82a0-79a0cf5d99f4"
      },
      "execution_count": null,
      "outputs": [
        {
          "output_type": "stream",
          "name": "stdout",
          "text": [
            "nome : Pedro Isac\n",
            "idade : 18\n",
            "cidadeNasceu : Campinas\n",
            "namorando : True\n",
            " \n",
            "nome : paola\n",
            "idade : 18\n",
            "cidadeNasceu : Campinas\n",
            "namorando : True\n",
            " \n"
          ]
        }
      ]
    },
    {
      "cell_type": "code",
      "source": [
        "for i in range(1, 6):\n",
        "  print(i)"
      ],
      "metadata": {
        "colab": {
          "base_uri": "https://localhost:8080/"
        },
        "id": "_zbQlSl1KyeJ",
        "outputId": "475eeafb-8aae-4889-a06c-a590d56f4f07"
      },
      "execution_count": null,
      "outputs": [
        {
          "output_type": "stream",
          "name": "stdout",
          "text": [
            "1\n",
            "2\n",
            "3\n",
            "4\n",
            "5\n"
          ]
        }
      ]
    },
    {
      "cell_type": "code",
      "source": [
        "numero = int(input(\"Passe um valor para ver a sua tabuada(1 a 10):\"))\n",
        "print(f\"A tabuada de {numero} é\")\n",
        "for i in range(1, 11):\n",
        "  print(f\"{numero} X {i} = {numero*i}\")"
      ],
      "metadata": {
        "colab": {
          "base_uri": "https://localhost:8080/"
        },
        "id": "sJaodvQzRRPy",
        "outputId": "1348feb0-ce69-4fe7-d474-ba0b6dd72ef0"
      },
      "execution_count": null,
      "outputs": [
        {
          "output_type": "stream",
          "name": "stdout",
          "text": [
            "Passe um valor para ver a sua tabuada(1 a 10):5\n",
            "A tabuada de 5 é\n",
            "5 X 1 = 5\n",
            "5 X 2 = 10\n",
            "5 X 3 = 15\n",
            "5 X 4 = 20\n",
            "5 X 5 = 25\n",
            "5 X 6 = 30\n",
            "5 X 7 = 35\n",
            "5 X 8 = 40\n",
            "5 X 9 = 45\n",
            "5 X 10 = 50\n"
          ]
        }
      ]
    },
    {
      "cell_type": "code",
      "source": [
        "for i in range(0, 101):\n",
        "  if i % 2 == 0:\n",
        "    print(i)"
      ],
      "metadata": {
        "colab": {
          "base_uri": "https://localhost:8080/"
        },
        "id": "A0mtGoVOWEQj",
        "outputId": "53277b97-71ed-4ad5-aa52-e12fc11ea996"
      },
      "execution_count": null,
      "outputs": [
        {
          "output_type": "stream",
          "name": "stdout",
          "text": [
            "0\n",
            "2\n",
            "4\n",
            "6\n",
            "8\n",
            "10\n",
            "12\n",
            "14\n",
            "16\n",
            "18\n",
            "20\n",
            "22\n",
            "24\n",
            "26\n",
            "28\n",
            "30\n",
            "32\n",
            "34\n",
            "36\n",
            "38\n",
            "40\n",
            "42\n",
            "44\n",
            "46\n",
            "48\n",
            "50\n",
            "52\n",
            "54\n",
            "56\n",
            "58\n",
            "60\n",
            "62\n",
            "64\n",
            "66\n",
            "68\n",
            "70\n",
            "72\n",
            "74\n",
            "76\n",
            "78\n",
            "80\n",
            "82\n",
            "84\n",
            "86\n",
            "88\n",
            "90\n",
            "92\n",
            "94\n",
            "96\n",
            "98\n",
            "100\n"
          ]
        }
      ]
    },
    {
      "cell_type": "code",
      "source": [
        "for letra in \"PYTHON\":\n",
        "  print(letra)"
      ],
      "metadata": {
        "colab": {
          "base_uri": "https://localhost:8080/"
        },
        "id": "fdIqCqBeYPux",
        "outputId": "6016e71c-bba7-4339-e33e-437ca0c58e09"
      },
      "execution_count": null,
      "outputs": [
        {
          "output_type": "stream",
          "name": "stdout",
          "text": [
            "P\n",
            "Y\n",
            "T\n",
            "H\n",
            "O\n",
            "N\n"
          ]
        }
      ]
    },
    {
      "cell_type": "markdown",
      "source": [
        "desafios\n"
      ],
      "metadata": {
        "id": "h44KLDx2bvdJ"
      }
    },
    {
      "cell_type": "code",
      "source": [
        "a = int(input(\"\"))\n",
        "b = int(input(\"\"))\n",
        "soma = a + b\n",
        "print(f\"A soma é : 5{soma}\")"
      ],
      "metadata": {
        "colab": {
          "base_uri": "https://localhost:8080/"
        },
        "id": "jLCPlitFbw5A",
        "outputId": "dc6ce15b-a1d6-4c70-f8d0-946b76b40757"
      },
      "execution_count": null,
      "outputs": [
        {
          "output_type": "stream",
          "name": "stdout",
          "text": [
            "5\n",
            "4\n",
            "A soma é : 59\n"
          ]
        }
      ]
    },
    {
      "cell_type": "code",
      "source": [
        "qntd = int(input(\"digite o total de vendas desse mes: \"))\n",
        "total = 0\n",
        "for i in range(qntd):\n",
        "  precoP = float(input(f\"digite o preço do produto {i + 1} \"))\n",
        "  total = total + precoP\n",
        "print(f\"O total de vendas do dia foi: R${total:.2f}\")"
      ],
      "metadata": {
        "colab": {
          "base_uri": "https://localhost:8080/"
        },
        "id": "2-8g76tLf_LS",
        "outputId": "7178bb48-283a-44d9-dbe4-889d78a14716"
      },
      "execution_count": null,
      "outputs": [
        {
          "output_type": "stream",
          "name": "stdout",
          "text": [
            "digite o total de vendas desse mes: 1\n",
            "digite o preço do produto 1 2\n",
            "O total de vendas do dia foi: R$2.00\n"
          ]
        }
      ]
    },
    {
      "cell_type": "code",
      "source": [
        "numero_de_serie = int(input(\"Digite o número de série de seu computador: \"))\n",
        "if numero_de_serie > 1000 and numero_de_serie < 9999:\n",
        "    print(f\"Esse número '{numero_de_serie}' é válido! Bem vindo ao Windows\")\n",
        "else:\n",
        "    print(f\"Esse número '{numero_de_serie}' não é válido! Insira o número de série válido\")"
      ],
      "metadata": {
        "id": "UBcHFVIOoOSk",
        "colab": {
          "base_uri": "https://localhost:8080/"
        },
        "outputId": "6290d115-d37f-4a9f-a499-519556b973ec"
      },
      "execution_count": 10,
      "outputs": [
        {
          "output_type": "stream",
          "name": "stdout",
          "text": [
            "Digite o número de série de seu computador: 3333\n",
            "Esse número '3333' é válido! Bem vindo ao Windows\n"
          ]
        }
      ]
    }
  ]
}