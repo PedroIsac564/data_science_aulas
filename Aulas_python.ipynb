{
  "nbformat": 4,
  "nbformat_minor": 0,
  "metadata": {
    "colab": {
      "provenance": [],
      "authorship_tag": "ABX9TyM4uCdEyZpPNQJURFDPHgag",
      "include_colab_link": true
    },
    "kernelspec": {
      "name": "python3",
      "display_name": "Python 3"
    },
    "language_info": {
      "name": "python"
    }
  },
  "cells": [
    {
      "cell_type": "markdown",
      "metadata": {
        "id": "view-in-github",
        "colab_type": "text"
      },
      "source": [
        "<a href=\"https://colab.research.google.com/github/PedroIsac564/data_science_aulas/blob/main/Aulas_python.ipynb\" target=\"_parent\"><img src=\"https://colab.research.google.com/assets/colab-badge.svg\" alt=\"Open In Colab\"/></a>"
      ]
    },
    {
      "cell_type": "code",
      "source": [
        "!python -V"
      ],
      "metadata": {
        "colab": {
          "base_uri": "https://localhost:8080/"
        },
        "id": "y5KkHqhqHboN",
        "outputId": "cc2ef189-d9e1-4b12-d286-5ec85c020d6e"
      },
      "execution_count": null,
      "outputs": [
        {
          "output_type": "stream",
          "name": "stdout",
          "text": [
            "Python 3.10.12\n"
          ]
        }
      ]
    },
    {
      "cell_type": "markdown",
      "source": [
        "**Dia 1**"
      ],
      "metadata": {
        "id": "5JHnxfjRH8r1"
      }
    },
    {
      "cell_type": "code",
      "source": [
        "# Dia 1\n",
        "print(\"Hello World!\")"
      ],
      "metadata": {
        "colab": {
          "base_uri": "https://localhost:8080/"
        },
        "id": "4D_PxgxCHhGM",
        "outputId": "b65e6424-21f4-4709-b4e7-d045e4806a40"
      },
      "execution_count": null,
      "outputs": [
        {
          "output_type": "stream",
          "name": "stdout",
          "text": [
            "Hello World!\n"
          ]
        }
      ]
    },
    {
      "cell_type": "markdown",
      "source": [
        "**Dia 2**"
      ],
      "metadata": {
        "id": "wkPXZXzjHnnm"
      }
    },
    {
      "cell_type": "code",
      "source": [
        "# Dia 2\n",
        "noticia = 'Em nota oficial (leia completa abaixo) divulgada nesta terça-feira (12), a defesa do atacante Bruno Henrique, do Flamengo, informou que protocolou no último sábado (9) um pedido de arquivamento das investigações por suposta manipulação de resultados em partida do Brasileirão 2023, além da devolução dos bens do atleta que foram apreendidos.'\n",
        "\n",
        "print(noticia)\n",
        "\n",
        "contador = 0\n",
        "\n",
        "i = noticia.split(' ')\n",
        "for i in i:\n",
        "    if i == 'do':\n",
        "        contador = contador + 1\n",
        "\n",
        "print('Nesta noticia tem ' + str(contador) + ' \"do\" separados em toda a noticia.' )"
      ],
      "metadata": {
        "colab": {
          "base_uri": "https://localhost:8080/"
        },
        "id": "-MBx-0w5Hkh1",
        "outputId": "6999344a-638a-4e3a-da20-4f88a2a172de"
      },
      "execution_count": null,
      "outputs": [
        {
          "output_type": "stream",
          "name": "stdout",
          "text": [
            "Em nota oficial (leia completa abaixo) divulgada nesta terça-feira (12), a defesa do atacante Bruno Henrique, do Flamengo, informou que protocolou no último sábado (9) um pedido de arquivamento das investigações por suposta manipulação de resultados em partida do Brasileirão 2023, além da devolução dos bens do atleta que foram apreendidos.\n",
            "Nesta noticia tem 4 \"do\" separados em toda a noticia.\n"
          ]
        }
      ]
    },
    {
      "cell_type": "code",
      "source": [
        "# Código para verificar a versão do Python\n",
        "!python -V"
      ],
      "metadata": {
        "colab": {
          "base_uri": "https://localhost:8080/"
        },
        "id": "d7JT3BqvlGs8",
        "outputId": "6414bf53-67d6-4dc6-9397-6fe65ed5fe36"
      },
      "execution_count": null,
      "outputs": [
        {
          "output_type": "stream",
          "name": "stdout",
          "text": [
            "Python 3.10.12\n"
          ]
        }
      ]
    },
    {
      "cell_type": "markdown",
      "source": [
        "# Tipo de dado"
      ],
      "metadata": {
        "id": "vCbWm3RAq1KD"
      }
    },
    {
      "cell_type": "code",
      "source": [
        "# Para verficar o tipo do dado\n",
        "print(type(5))\n",
        "print(type(10.0))\n",
        "print(type('Python'))\n",
        "print(type('W'))\n",
        "print(type(True))"
      ],
      "metadata": {
        "colab": {
          "base_uri": "https://localhost:8080/"
        },
        "id": "AVjdm3ivq49R",
        "outputId": "e2193ebc-051c-4445-9693-ce7d7650ebaa"
      },
      "execution_count": null,
      "outputs": [
        {
          "output_type": "stream",
          "name": "stdout",
          "text": [
            "<class 'int'>\n",
            "<class 'float'>\n",
            "<class 'str'>\n",
            "<class 'str'>\n",
            "<class 'bool'>\n"
          ]
        }
      ]
    },
    {
      "cell_type": "markdown",
      "source": [
        "# Tipagem dinâmica"
      ],
      "metadata": {
        "id": "ngL6HQqsuHER"
      }
    },
    {
      "cell_type": "code",
      "source": [
        "#Ex de tipagem dinâmica\n",
        "x = 10 # x é um inteiro\n",
        "print(x)\n",
        "print(type(x))\n",
        "\n",
        "x = 'Hello' # x é um texto(é uma string)\n",
        "print(x)\n",
        "print(type(x))"
      ],
      "metadata": {
        "colab": {
          "base_uri": "https://localhost:8080/"
        },
        "id": "BDDZinemuMDx",
        "outputId": "a96ecaad-cbd4-4d50-e3b8-1cf6140aa56a"
      },
      "execution_count": null,
      "outputs": [
        {
          "output_type": "stream",
          "name": "stdout",
          "text": [
            "10\n",
            "<class 'int'>\n",
            "Hello\n",
            "<class 'str'>\n"
          ]
        }
      ]
    },
    {
      "cell_type": "markdown",
      "source": [
        "# Operações matemáticas"
      ],
      "metadata": {
        "id": "peJ_X5fMmN9L"
      }
    },
    {
      "cell_type": "code",
      "source": [
        "#Soma\n",
        "print(4 + 4)\n",
        "\n",
        "#Subtração\n",
        "print(5 - 3)\n",
        "\n",
        "#Multiplicação\n",
        "print(5 * 3)\n",
        "\n",
        "#Divisão\n",
        "print(20 / 5)\n",
        "\n",
        "#Potenciação\n",
        "print(3**3)\n",
        "\n",
        "#Módulo = Serve para ver se o numero é impar ou par(se for 1: numero impar; se for 0: numero par)\n",
        "print(17 % 2)\n",
        "\n",
        "#if n % 2 == 0\n",
        "\n",
        "#Round = Serve para considerar 'n' casas após a vírgula\n",
        "print(round(10.23743,3))\n",
        "\n",
        "#Pow = Eleva o número pelo o número da direita\n",
        "print(pow(2,3))"
      ],
      "metadata": {
        "colab": {
          "base_uri": "https://localhost:8080/"
        },
        "id": "zAGyupAimYvL",
        "outputId": "1f3fa7a2-32fb-460b-939d-3a54f63f9303"
      },
      "execution_count": null,
      "outputs": [
        {
          "output_type": "stream",
          "name": "stdout",
          "text": [
            "8\n",
            "2\n",
            "15\n",
            "4.0\n",
            "27\n",
            "1\n",
            "10.237\n",
            "8\n"
          ]
        }
      ]
    },
    {
      "cell_type": "markdown",
      "source": [
        "# Variáveis"
      ],
      "metadata": {
        "id": "ynXnaIfAr5vS"
      }
    },
    {
      "cell_type": "code",
      "source": [
        "#Com variáveis\n",
        "velocidade = 10\n",
        "tempo = 5\n",
        "distancia = velocidade * tempo\n",
        "resultado = velocidade * 10\n",
        "\n",
        "print(velocidade)\n",
        "print(tempo)\n",
        "\n",
        "\n",
        "\n",
        "\n",
        "\n",
        "\n",
        "\n",
        "\n",
        "# Começe os nomes com uma letra ou underline(_)\n",
        "_nome = 'Pedro'\n",
        "idade = 30\n",
        "\n",
        "#\n",
        "#\n",
        "\n",
        "# Seja descritivo ou significativo nos nomes\n",
        "idade_do_usuario = 30\n",
        "\n",
        "# Maiúsculo serve para criar constantes\n",
        "PI = 3,14"
      ],
      "metadata": {
        "colab": {
          "base_uri": "https://localhost:8080/"
        },
        "id": "UCISCQAsr4-C",
        "outputId": "ed88fe4c-b255-4b13-a9d8-4aada80cdda5"
      },
      "execution_count": null,
      "outputs": [
        {
          "output_type": "stream",
          "name": "stdout",
          "text": [
            "10\n",
            "5\n",
            "Campinas\n",
            "Valinhos\n",
            "Vinhedo\n",
            "Campinas Valinhos Vinhedo\n",
            "Campinas Valinhos Vinhedo\n",
            "São Paulo\n",
            "Rio de Janeiro\n",
            "Belo Horizonte\n"
          ]
        }
      ]
    },
    {
      "cell_type": "markdown",
      "source": [
        "# \"Exercicio\""
      ],
      "metadata": {
        "id": "YyA2w-no1s83"
      }
    },
    {
      "cell_type": "code",
      "source": [
        "cityEnd1 = 'Campinas'\n",
        "cityEnd2 = 'Valinhos'\n",
        "cityEnd3 = 'Vinhedo'\n",
        "\n",
        "print(cityEnd1)\n",
        "print(cityEnd2)\n",
        "print(cityEnd3)\n",
        "\n",
        "print(cityEnd1 , cityEnd2 , cityEnd3)\n",
        "print(cityEnd1 + \" \" + cityEnd2 + \" \" + cityEnd3)\n",
        "\n",
        "city1, city2, city3 = \"São Paulo\", \"Rio de Janeiro\", \"Belo Horizonte\"\n",
        "print(city1)\n",
        "print(city2)\n",
        "print(city3)"
      ],
      "metadata": {
        "colab": {
          "base_uri": "https://localhost:8080/"
        },
        "id": "q-hGMfZy1shp",
        "outputId": "9ae1b945-42a3-4e2e-fdcb-f690c5649d2f"
      },
      "execution_count": null,
      "outputs": [
        {
          "output_type": "stream",
          "name": "stdout",
          "text": [
            "Campinas\n",
            "Valinhos\n",
            "Vinhedo\n",
            "Campinas Valinhos Vinhedo\n",
            "Campinas Valinhos Vinhedo\n",
            "São Paulo\n",
            "Rio de Janeiro\n",
            "Belo Horizonte\n"
          ]
        }
      ]
    },
    {
      "cell_type": "code",
      "source": [
        "velocidade = 10\n",
        "tempo = 5\n",
        "distancia = velocidade * tempo\n",
        "resultado = velocidade * 10\n",
        "velocidade + (4 * resultado) - distancia"
      ],
      "metadata": {
        "colab": {
          "base_uri": "https://localhost:8080/"
        },
        "id": "hSWQuwR-2yJg",
        "outputId": "9ab3f646-1707-47c9-fe96-73aeb210750c"
      },
      "execution_count": null,
      "outputs": [
        {
          "output_type": "execute_result",
          "data": {
            "text/plain": [
              "360"
            ]
          },
          "metadata": {},
          "execution_count": 35
        }
      ]
    },
    {
      "cell_type": "code",
      "source": [
        "# Concatenando variavel\n",
        "pNome = 'Pedro'\n",
        "sNome = 'Isac'\n",
        "tNome = 'de'\n",
        "qNome = 'Souza'\n",
        "\n",
        "nomeCompleto = pNome + \" \" + sNome + \" \" + tNome + \" \" + qNome\n",
        "\n",
        "print(nomeCompleto)\n",
        "print(type(nomeCompleto))"
      ],
      "metadata": {
        "colab": {
          "base_uri": "https://localhost:8080/"
        },
        "id": "U5tVb-_E3cew",
        "outputId": "23395153-4f9d-4d45-e18b-b65c0fc4c0d1"
      },
      "execution_count": null,
      "outputs": [
        {
          "output_type": "stream",
          "name": "stdout",
          "text": [
            "Pedro Isac de Souza\n",
            "<class 'str'>\n"
          ]
        }
      ]
    },
    {
      "cell_type": "markdown",
      "source": [
        "# **1)** Crie um programa que armazene o seu nome em uma variável e, em seguida, imprima uma  mensagem de saudação personalizada."
      ],
      "metadata": {
        "id": "x1VG_FnpAzsu"
      }
    },
    {
      "cell_type": "code",
      "source": [
        "nome = 'Pedro'\n",
        "\n",
        "print(\"Olá \" + nome + \", como vai?\")"
      ],
      "metadata": {
        "colab": {
          "base_uri": "https://localhost:8080/"
        },
        "id": "28zYz72AAzsv",
        "outputId": "e4fc7fb8-87a5-460b-84e8-58e217e25689"
      },
      "execution_count": null,
      "outputs": [
        {
          "output_type": "stream",
          "name": "stdout",
          "text": [
            "Olá Pedro, como vai?\n"
          ]
        }
      ]
    },
    {
      "cell_type": "markdown",
      "source": [
        "# **2)** Crie um programa que armazene dois números em variáveis e imprima a soma desses  números"
      ],
      "metadata": {
        "id": "QwYF926PAn9m"
      }
    },
    {
      "cell_type": "code",
      "source": [
        "numero1 = 7\n",
        "numero2 = 17\n",
        "\n",
        "print(numero1 + numero2)"
      ],
      "metadata": {
        "colab": {
          "base_uri": "https://localhost:8080/"
        },
        "id": "stCFAzOtAsse",
        "outputId": "93a2d979-d6c1-47e4-9c77-5e25533532df"
      },
      "execution_count": null,
      "outputs": [
        {
          "output_type": "stream",
          "name": "stdout",
          "text": [
            "24\n"
          ]
        }
      ]
    },
    {
      "cell_type": "markdown",
      "source": [
        "# **3)** Crie um programa que armazene uma mensagem inicial e outra final em variáveis. Em  seguida, imprima a mensagem concatenada."
      ],
      "metadata": {
        "id": "VHfQ7VYECOze"
      }
    },
    {
      "cell_type": "code",
      "source": [
        "msg1 = \"Feliz\"\n",
        "msg2 = \"Aniversário!\"\n",
        "\n",
        "print(msg1 + \" \" + msg2)"
      ],
      "metadata": {
        "colab": {
          "base_uri": "https://localhost:8080/"
        },
        "id": "JNHSHEUzCV9e",
        "outputId": "9cff2467-21dd-4fc0-b8a1-b2f1c78772d0"
      },
      "execution_count": null,
      "outputs": [
        {
          "output_type": "stream",
          "name": "stdout",
          "text": [
            "Feliz Aniversário!\n"
          ]
        }
      ]
    },
    {
      "cell_type": "markdown",
      "source": [
        "# **4)** Uma agência de viagens pretende realizar um voo para as Bahamas. O custo de operação do  avião é de 5.000 dólares. Até o momento, 29 pessoas se inscreveram para a viagem. Se a  agência cobra 200 dólares por passagem, qual será o lucro obtido pela empresa? Crie  variáveis para representar cada quantidade numérica e utilize operações aritméticas  apropriadas."
      ],
      "metadata": {
        "id": "VM_NoDHPC17-"
      }
    },
    {
      "cell_type": "code",
      "source": [
        "operacaoAv = 5000\n",
        "pessoas = 29\n",
        "passagem = 200\n",
        "\n",
        "resultado = pessoas * passagem - operacaoAv\n",
        "\n",
        "print(\"A empresa lucrará \" + str(resultado) + \" de dólares, junto com \" + str(operacaoAv) + \" para realizar a operação.\")"
      ],
      "metadata": {
        "colab": {
          "base_uri": "https://localhost:8080/"
        },
        "id": "H9X4AizFC8Vt",
        "outputId": "f3813040-312b-417b-fd88-9a6b435f9033"
      },
      "execution_count": null,
      "outputs": [
        {
          "output_type": "stream",
          "name": "stdout",
          "text": [
            "A empresa lucrará 800 de dólares, junto com 5000 para realizar a operação.\n"
          ]
        }
      ]
    },
    {
      "cell_type": "markdown",
      "source": [
        "# **5)** Na Escola Senai, a turma de Informática está organizando um evento online. Eles decidiram  vender camisetas personalizadas para arrecadar fundos. Cada camiseta custa 25 reais, e a  turma planeja vender 50 camisetas. Crie um programa simples em Python que utilize  variáveis para representar o preço da camiseta, a quantidade planejada de camisetas para  venda e calcule o total arrecadado pela turma. Em seguida, imprima o resultado."
      ],
      "metadata": {
        "id": "q6e_Gw_gFEut"
      }
    },
    {
      "cell_type": "code",
      "source": [
        "camisetas = 25\n",
        "camisetas_vender = 50\n",
        "resultado = camisetas * camisetas_vender\n",
        "\n",
        "print(\"O total arrecadado pela turma é R$\" + str(resultado) + \",00\")"
      ],
      "metadata": {
        "colab": {
          "base_uri": "https://localhost:8080/"
        },
        "id": "fHbBM_ahFJ3V",
        "outputId": "bf366173-96fb-4854-8c53-d19740848721"
      },
      "execution_count": null,
      "outputs": [
        {
          "output_type": "stream",
          "name": "stdout",
          "text": [
            "O total arrecadado pela turma é R$1250,00\n"
          ]
        }
      ]
    },
    {
      "cell_type": "markdown",
      "source": [
        "# **Dia 3**"
      ],
      "metadata": {
        "id": "oKd9x4OM1DyF"
      }
    },
    {
      "cell_type": "code",
      "source": [
        "# Declarar uma string\n",
        "dia_da_semana = 'segunda'\n",
        "mes = 'janeiro'\n",
        "\n",
        "print(dia_da_semana)\n",
        "print(mes)"
      ],
      "metadata": {
        "colab": {
          "base_uri": "https://localhost:8080/"
        },
        "id": "hdjEHHOU1dk0",
        "outputId": "ab492112-afed-4e3a-c6dd-85a328eca986"
      },
      "execution_count": null,
      "outputs": [
        {
          "output_type": "stream",
          "name": "stdout",
          "text": [
            "segunda\n",
            "janeiro\n"
          ]
        }
      ]
    },
    {
      "cell_type": "code",
      "source": [
        "# Método len(de Length) para ver quantas letras tem na palavra\n",
        "dia_da_semana = 'segunda'\n",
        "mes = 'janeiro'\n",
        "\n",
        "print(len(dia_da_semana))\n",
        "print(len(mes))"
      ],
      "metadata": {
        "colab": {
          "base_uri": "https://localhost:8080/"
        },
        "id": "Nbiw_zpt3VQU",
        "outputId": "101967a2-8646-4ce8-bce8-86f894d1f624"
      },
      "execution_count": null,
      "outputs": [
        {
          "output_type": "stream",
          "name": "stdout",
          "text": [
            "7\n",
            "7\n"
          ]
        }
      ]
    },
    {
      "cell_type": "code",
      "source": [
        "# Pegando uma letra ou pedaço da palavra da variavel\n",
        "dia_da_semana = 'segunda'\n",
        "\n",
        "#primeira letra da string\n",
        "print(dia_da_semana[0])\n",
        "\n",
        "#ultima letra da string\n",
        "print(dia_da_semana[-1])\n",
        "\n",
        "#pedaço do texto\n",
        "print(dia_da_semana[0:4])"
      ],
      "metadata": {
        "colab": {
          "base_uri": "https://localhost:8080/"
        },
        "id": "Hcx80fpq4pms",
        "outputId": "4db61e53-a942-4356-8d1f-03c824328d54"
      },
      "execution_count": null,
      "outputs": [
        {
          "output_type": "stream",
          "name": "stdout",
          "text": [
            "s\n",
            "a\n",
            "segu\n"
          ]
        }
      ]
    },
    {
      "cell_type": "code",
      "source": [
        "# Concatenando\n",
        "dia_da_semana = 'segunda'\n",
        "\n",
        "#juntar texto\n",
        "print(dia_da_semana + ' é tristeza!!!')"
      ],
      "metadata": {
        "colab": {
          "base_uri": "https://localhost:8080/"
        },
        "id": "SGqEa3q55-7z",
        "outputId": "77945872-a57c-45dc-d229-06cacc29ad1b"
      },
      "execution_count": null,
      "outputs": [
        {
          "output_type": "stream",
          "name": "stdout",
          "text": [
            "segunda é tristeza!!!\n"
          ]
        }
      ]
    },
    {
      "cell_type": "code",
      "source": [
        "dia_da_semana = 'Segunda A dosodo 0000000'\n",
        "\n",
        "# deixar em minuscula\n",
        "print(dia_da_semana.lower())\n",
        "\n",
        "# deixar em maiúscula\n",
        "print(dia_da_semana.upper())\n",
        "\n",
        "# deixar só a primeira letra maiúscula\n",
        "print(dia_da_semana.capitalize())\n",
        "\n",
        "# lembrando que esses metodos não alteram a variável (só no print)\n",
        "print(dia_da_semana)"
      ],
      "metadata": {
        "colab": {
          "base_uri": "https://localhost:8080/"
        },
        "id": "MQZyfEv66pDz",
        "outputId": "94fa6659-b5d8-4f9b-80f2-bee029ed1dd8"
      },
      "execution_count": null,
      "outputs": [
        {
          "output_type": "stream",
          "name": "stdout",
          "text": [
            "segunda a dosodo 0000000\n",
            "SEGUNDA A DOSODO 0000000\n",
            "Segunda a dosodo 0000000\n",
            "Segunda A dosodo 0000000\n"
          ]
        }
      ]
    },
    {
      "cell_type": "code",
      "source": [
        "#Replace COM LOWER para mudar a frase o resultado no print\n",
        "\n",
        "frase = 'SegunDa é Triste!'\n",
        "frase = frase.lower()\n",
        "print(frase)\n",
        "\n",
        "print(frase.replace('segun', 'bala').replace('triste', 'top'))\n",
        "\n",
        "'''-------------------------------------------------------------------- '''\n",
        "#Replace COM UPPER para mudar a frase o resultado no print\n",
        "\n",
        "frase = 'SegunDa é Triste!'\n",
        "frase = frase.upper()\n",
        "print(frase)\n",
        "\n",
        "print(frase.replace('SEGUN', 'BALA').replace('TRISTE', 'TOP'))"
      ],
      "metadata": {
        "colab": {
          "base_uri": "https://localhost:8080/"
        },
        "id": "Pi8I2V4l8jSD",
        "outputId": "6d153bad-a153-4115-eb0d-65e2f2cdef71"
      },
      "execution_count": null,
      "outputs": [
        {
          "output_type": "stream",
          "name": "stdout",
          "text": [
            "SEGUNDA É TRISTE!\n",
            "BALADA É TOP!\n"
          ]
        }
      ]
    },
    {
      "cell_type": "code",
      "source": [
        "frase = 'A segunda acabou!'\n",
        "print(frase.lower().count('a'))"
      ],
      "metadata": {
        "colab": {
          "base_uri": "https://localhost:8080/"
        },
        "id": "_S48QDi6BZep",
        "outputId": "ed6c82ae-a2bf-4217-b4fc-b7d7397ba6b1"
      },
      "execution_count": null,
      "outputs": [
        {
          "output_type": "stream",
          "name": "stdout",
          "text": [
            "4\n"
          ]
        }
      ]
    },
    {
      "cell_type": "code",
      "source": [
        "# Quebrar texto\n",
        "\n",
        "frase = 'A segunda acabou!'\n",
        "\n",
        "print(frase)\n",
        "print(type(frase))\n",
        "\n",
        "#Aqui ele acaba virando uma lista(Array), adicionando todas as palavras separadamente\n",
        "frase_split = frase.split()\n",
        "print(frase_split)\n",
        "print(type(frase_split))"
      ],
      "metadata": {
        "colab": {
          "base_uri": "https://localhost:8080/"
        },
        "id": "WADAK0uwHjYA",
        "outputId": "aaa430c2-4b76-40e2-afb1-ee7f6e32e515"
      },
      "execution_count": null,
      "outputs": [
        {
          "output_type": "stream",
          "name": "stdout",
          "text": [
            "A segunda acabou!\n",
            "<class 'str'>\n",
            "['A', 'segunda', 'acabou!']\n",
            "<class 'list'>\n"
          ]
        }
      ]
    },
    {
      "cell_type": "code",
      "source": [
        "# Quebrar texto\n",
        "\n",
        "frase = '    A segunda acabou!     '\n",
        "\n",
        "print(frase)\n",
        "print(type(frase))\n",
        "\n",
        "#Aqui ele acaba virando uma lista(Array), adicionando todas as palavras separadamente\n",
        "frase_split = frase.split()\n",
        "print(frase_split)\n",
        "print(type(frase_split))\n",
        "print('-------------------------')\n",
        "\n",
        "#remover espaço no inicio e no final\n",
        "frase_strip = frase.strip()\n",
        "print(frase_strip)\n",
        "frase_strip = frase_strip.split(' ')\n",
        "print(frase_split)\n",
        "print(type(frase_split))"
      ],
      "metadata": {
        "colab": {
          "base_uri": "https://localhost:8080/"
        },
        "id": "_x3JZZBkKJ94",
        "outputId": "b91e9824-a900-447e-b54c-c41429718981"
      },
      "execution_count": null,
      "outputs": [
        {
          "output_type": "stream",
          "name": "stdout",
          "text": [
            "    A segunda acabou!     \n",
            "<class 'str'>\n",
            "['A', 'segunda', 'acabou!']\n",
            "<class 'list'>\n",
            "-------------------------\n",
            "A segunda acabou!\n",
            "['A', 'segunda', 'acabou!']\n",
            "<class 'list'>\n"
          ]
        }
      ]
    },
    {
      "cell_type": "code",
      "source": [
        "#Serve para quebrar a linha do texto com \\\n",
        "print('O texto começa na primeira linha \\\\n continua na segunda linha')\n",
        "\n",
        "#Para aparecer o '\\' no texto como string apenas escreva mais uma('\\\\')\n",
        "print(\"\\\\n\")\n",
        "print(\"\\n\")\n",
        "print(\"\\n\")\n",
        "\n",
        "print('Pulei três linhas')"
      ],
      "metadata": {
        "colab": {
          "base_uri": "https://localhost:8080/"
        },
        "id": "wef5HfO3N1iY",
        "outputId": "f2243bd9-38bd-4be8-840e-2d957b67d35e"
      },
      "execution_count": null,
      "outputs": [
        {
          "output_type": "stream",
          "name": "stdout",
          "text": [
            "O texto começa na primeira linha \\n continua na segunda linha\n",
            "\\n\n",
            "\n",
            "\n",
            "\n",
            "\n",
            "Pulei três linhas\n"
          ]
        }
      ]
    },
    {
      "cell_type": "markdown",
      "source": [
        "#**Concatenação de strings**"
      ],
      "metadata": {
        "id": "YRdE4xGvSdu2"
      }
    },
    {
      "cell_type": "code",
      "source": [
        "nome = \"Pedro\"\n",
        "idade = 18\n",
        "print(\"Olá, \" + nome + \"! Você tem \" + str(idade) + \" anos.\")"
      ],
      "metadata": {
        "colab": {
          "base_uri": "https://localhost:8080/"
        },
        "id": "BSKizhbvR8m_",
        "outputId": "c36b104b-7c33-405b-f028-f35699fe48ca"
      },
      "execution_count": null,
      "outputs": [
        {
          "output_type": "stream",
          "name": "stdout",
          "text": [
            "Olá, Pedro! Você tem 18 anos.\n"
          ]
        }
      ]
    },
    {
      "cell_type": "markdown",
      "source": [
        "# **Formatação de strings com % **negrito**"
      ],
      "metadata": {
        "id": "GmdV2TCAWjH-"
      }
    },
    {
      "cell_type": "code",
      "source": [
        "nome = \"Pedro\"\n",
        "idade = 18\n",
        "print(\"Olá, %s! Você tem %d anos.\" % (nome, idade))"
      ],
      "metadata": {
        "colab": {
          "base_uri": "https://localhost:8080/"
        },
        "id": "mPVuh_bySdbH",
        "outputId": "8b85783b-5817-4db0-d11c-fb82bca6bf50"
      },
      "execution_count": null,
      "outputs": [
        {
          "output_type": "stream",
          "name": "stdout",
          "text": [
            "Olá, Pedro! Você tem 18 anos.\n"
          ]
        }
      ]
    },
    {
      "cell_type": "markdown",
      "source": [
        "# **Método format()**"
      ],
      "metadata": {
        "id": "lPjO241PS5DO"
      }
    },
    {
      "cell_type": "code",
      "source": [
        "nome = \"Pedro\"\n",
        "idade = 18\n",
        "print(\"Olá, {}! Você tem {} anos.\".format(nome, idade))"
      ],
      "metadata": {
        "colab": {
          "base_uri": "https://localhost:8080/"
        },
        "id": "YFGTVTJbV7rG",
        "outputId": "7ef9120a-0378-4aa8-b95a-37a87c1a46cb"
      },
      "execution_count": null,
      "outputs": [
        {
          "output_type": "stream",
          "name": "stdout",
          "text": [
            "Olá, Pedro! Você tem 18 anos.\n"
          ]
        }
      ]
    },
    {
      "cell_type": "markdown",
      "source": [
        "# **F-strings (Format Strings)**"
      ],
      "metadata": {
        "id": "7yWf886jWIEW"
      }
    },
    {
      "cell_type": "code",
      "source": [
        "nome = \"Pedro\"\n",
        "idade = 18\n",
        "print(f\"Olá, {nome}! Você tem {idade} anos.\")"
      ],
      "metadata": {
        "colab": {
          "base_uri": "https://localhost:8080/"
        },
        "id": "UsToCVWdWGxm",
        "outputId": "7890083f-fb44-4b00-af10-8e5eae4d1219"
      },
      "execution_count": null,
      "outputs": [
        {
          "output_type": "stream",
          "name": "stdout",
          "text": [
            "Olá, Pedro! Você tem 18 anos.\n"
          ]
        }
      ]
    },
    {
      "cell_type": "markdown",
      "source": [
        "# **Print e input**"
      ],
      "metadata": {
        "id": "kHgjsBZaY8st"
      }
    },
    {
      "cell_type": "code",
      "source": [
        "nome = input(\"Digite seu nome: \")\n",
        "print(f\"Olá, {nome}! Seja Bem-vindo.\")"
      ],
      "metadata": {
        "colab": {
          "base_uri": "https://localhost:8080/"
        },
        "id": "2-hlIui2ZBTV",
        "outputId": "6e2bf3f5-7d9c-41a8-81fa-f5ca8bdc4a1c"
      },
      "execution_count": null,
      "outputs": [
        {
          "output_type": "stream",
          "name": "stdout",
          "text": [
            "Digite seu nome: Isac\n",
            "Olá, Isac! Seja Bem-vindo.\n"
          ]
        }
      ]
    },
    {
      "cell_type": "markdown",
      "source": [
        "Desafio"
      ],
      "metadata": {
        "id": "QzQm52udaa-d"
      }
    },
    {
      "cell_type": "code",
      "source": [
        "frase1 = input(\"Digite qualquer frase: \")\n",
        "print(f\"a ultima letra é: {frase1[-1]}\")\n",
        "\n",
        "frase2 = input(\"Digite outra frase qualquer: \")\n",
        "print(f\"a ultima letra é: {frase2[-1]}\")"
      ],
      "metadata": {
        "colab": {
          "base_uri": "https://localhost:8080/"
        },
        "id": "WubG7gE8aco3",
        "outputId": "5053005c-9a8b-4a10-e5b9-160bb687ed64"
      },
      "execution_count": null,
      "outputs": [
        {
          "output_type": "stream",
          "name": "stdout",
          "text": [
            "Digite qualquer frase: mercenario doidao\n",
            "a ultima letra é: o\n",
            "Digite outra frase qualquer: parapeito do predio é alto igual meu pai\n",
            "a ultima letra é: i\n"
          ]
        }
      ]
    },
    {
      "cell_type": "markdown",
      "source": [
        "desafio 2"
      ],
      "metadata": {
        "id": "eHLZIpGUWuQk"
      }
    },
    {
      "cell_type": "code",
      "source": [
        "nome = input(\"Digite seu primeiro nome: \")\n",
        "sobrenome = input(\"Digite agora o sobrenome: \")\n",
        "nome_completo = nome + ' ' + sobrenome\n",
        "\n",
        "print(nome_completo)"
      ],
      "metadata": {
        "colab": {
          "base_uri": "https://localhost:8080/"
        },
        "id": "w8eblnMMVm3M",
        "outputId": "3696b335-89df-46ee-e11f-8b7e744d5d07"
      },
      "execution_count": null,
      "outputs": [
        {
          "output_type": "stream",
          "name": "stdout",
          "text": [
            "Digite seu primeiro nome: Pedro\n",
            "Digite agora o sobrenome: Isac\n",
            "Pedro Isac\n"
          ]
        }
      ]
    },
    {
      "cell_type": "markdown",
      "source": [
        "desafio 3"
      ],
      "metadata": {
        "id": "eGrh733uYjD7"
      }
    },
    {
      "cell_type": "code",
      "source": [
        "frase = input(f'Digite uma frase: ')\n",
        "nova_palavra = input(f'Palvra nova: ')\n",
        "antiga_palavra = input(f'Palvra antiga: ')\n",
        "\n",
        "print(frase)\n",
        "print(\"-------------\")\n",
        "print(frase.replace(antiga_palavra , nova_palavra))"
      ],
      "metadata": {
        "colab": {
          "base_uri": "https://localhost:8080/"
        },
        "id": "3UO6LFfzYj9j",
        "outputId": "261b9548-c2cb-4e54-e4b0-14b22baf0c86"
      },
      "execution_count": null,
      "outputs": [
        {
          "output_type": "stream",
          "name": "stdout",
          "text": [
            "Digite uma frase: Java é a minha linguagem favorita\n",
            "Palvra nova: Python\n",
            "Palvra antiga: Java\n",
            "Java é a minha linguagem favorita\n",
            "-------------\n",
            "Python é a minha linguagem favorita\n"
          ]
        }
      ]
    },
    {
      "cell_type": "markdown",
      "source": [
        "desafio 4"
      ],
      "metadata": {
        "id": "_hvCGW7fgXJZ"
      }
    },
    {
      "cell_type": "code",
      "source": [
        "num1 = input(\"Numero 1: \")\n",
        "A = num1\n",
        "num2 = input(\"Numero 2: \")\n",
        "B = num2\n",
        "\n",
        "resultado = (A + B)\n",
        "print(resultado)"
      ],
      "metadata": {
        "colab": {
          "base_uri": "https://localhost:8080/"
        },
        "id": "SXhjOpKKgYmC",
        "outputId": "2992e3a7-6eba-47ba-ac4e-d24008140e06"
      },
      "execution_count": null,
      "outputs": [
        {
          "output_type": "stream",
          "name": "stdout",
          "text": [
            "Numero 1: 50\n",
            "Numero 2: 50\n",
            "5050\n"
          ]
        }
      ]
    },
    {
      "cell_type": "code",
      "source": [
        "A = int(input(\"Valor A: \"))\n",
        "B = int(input(\"Valor B: \"))\n",
        "\n",
        "resultado = (A + B)\n",
        "print(resultado)\n",
        "\n",
        "\n"
      ],
      "metadata": {
        "colab": {
          "base_uri": "https://localhost:8080/"
        },
        "id": "dvHcPERWlEwJ",
        "outputId": "4c95de2a-e812-4c60-b11c-889eaa983deb"
      },
      "execution_count": null,
      "outputs": [
        {
          "output_type": "stream",
          "name": "stdout",
          "text": [
            "Valor A: 972\n",
            "Valor B: 458\n",
            "1430\n"
          ]
        }
      ]
    },
    {
      "cell_type": "code",
      "source": [
        "nome_vendedor = input(\"Informe seu nome: \")\n",
        "salario_fixo = float(input(\"informe seu salário fixo: \"))\n",
        "total_vendas = float(input(\"e por fim, escreva o total de vendas efetuadas por você no mês(em dinheiro): \"))\n",
        "\n",
        "comissao = 0.15 * total_vendas\n",
        "valor_total = comissao + salario_fixo\n",
        "print(f\"Então Sr.{nome_vendedor}, o valor total de quanto o senhor deverá ganhar ao final do mês é: R${valor_total}\")"
      ],
      "metadata": {
        "colab": {
          "base_uri": "https://localhost:8080/"
        },
        "id": "RrzzHWGHwEwf",
        "outputId": "967c9681-5ffc-4b1d-ad64-2bb5b42be86e"
      },
      "execution_count": null,
      "outputs": [
        {
          "output_type": "stream",
          "name": "stdout",
          "text": [
            "Informe seu nome: pedro\n",
            "informe seu salário fixo: 1000\n",
            "e por fim, escreva o total de vendas efetuadas por você no mês(em dinheiro): 1000\n",
            "Então Sr.pedro, o valor total de quanto o senhor deverá ganhar ao final do mês é: R$1150.0\n"
          ]
        }
      ]
    },
    {
      "cell_type": "code",
      "source": [
        "string = \"Então Sr.Pedro, o valor total de quanto o senhor deverá ganhar ao final do mês é: R$1500.00\"\n",
        "print(len(string))"
      ],
      "metadata": {
        "colab": {
          "base_uri": "https://localhost:8080/"
        },
        "id": "E-2Az4fizAPW",
        "outputId": "fdda7b67-54e2-4749-ad81-b6c4d5ed2d84"
      },
      "execution_count": null,
      "outputs": [
        {
          "output_type": "stream",
          "name": "stdout",
          "text": [
            "91\n"
          ]
        }
      ]
    },
    {
      "cell_type": "code",
      "source": [
        "string = \"Bom dia, Pythonista!\"\n",
        "print(string.lower())"
      ],
      "metadata": {
        "colab": {
          "base_uri": "https://localhost:8080/"
        },
        "id": "Wk4tJRKhzhxG",
        "outputId": "f1c28186-c476-44b9-9d7f-f2bb44ede8a2"
      },
      "execution_count": null,
      "outputs": [
        {
          "output_type": "stream",
          "name": "stdout",
          "text": [
            "bom dia, pythonista!\n"
          ]
        }
      ]
    },
    {
      "cell_type": "code",
      "source": [
        "texto = \" Python é uma linguagem de programação poderosa. \"\n",
        "print(texto)\n",
        "print(\"-----------------------------------------\")\n",
        "\n",
        "texto = texto.lower()\n",
        "texto_strip = texto.strip()\n",
        "texto_strip = texto.replace(\"poderosa\" , \"versátil\")\n",
        "print(texto_strip)\n",
        "\n",
        "'''--------------------------------------------'''\n",
        "#Jeito mais facil de fazer\n",
        "\n",
        "texto = \" Python é uma linguagem de programação poderosa. \"\n",
        "texto_tratado = texto.strip().lower().replace(\"poderosa\", \"versátil\")\n",
        "print(texto_tratado)"
      ],
      "metadata": {
        "colab": {
          "base_uri": "https://localhost:8080/"
        },
        "id": "F6exWdhPz9N-",
        "outputId": "3d6b82ea-ac48-471b-80ed-392f3e55be7e"
      },
      "execution_count": null,
      "outputs": [
        {
          "output_type": "stream",
          "name": "stdout",
          "text": [
            " Python é uma linguagem de programação poderosa. \n",
            "-----------------------------------------\n",
            " python é uma linguagem de programação versátil. \n"
          ]
        }
      ]
    },
    {
      "cell_type": "code",
      "source": [
        "#Declarar uma list\n",
        "frutas = ['banana', 'uva', 'manga']\n",
        "\n",
        "print(frutas)\n",
        "print(frutas[0])\n",
        "print('----------')\n",
        "print(frutas[2])\n",
        "print(type(frutas))"
      ],
      "metadata": {
        "colab": {
          "base_uri": "https://localhost:8080/"
        },
        "id": "-p5rGNVUiDYM",
        "outputId": "9b9356f1-b2f0-47d9-be46-6cc3067236c2"
      },
      "execution_count": null,
      "outputs": [
        {
          "output_type": "stream",
          "name": "stdout",
          "text": [
            "['banana', 'uva', 'manga']\n",
            "banana\n",
            "----------\n",
            "manga\n",
            "<class 'list'>\n"
          ]
        }
      ]
    },
    {
      "cell_type": "code",
      "source": [
        "#desclarar outros tipos na lista\n",
        "a_lista = ['banana', None, 'uva', 'Goiaba', 4==4]\n",
        "print(a_lista)"
      ],
      "metadata": {
        "colab": {
          "base_uri": "https://localhost:8080/"
        },
        "id": "6RCyWh8QkHVs",
        "outputId": "a0b4dfa8-6407-4bd8-bcb5-a3698b0c4376"
      },
      "execution_count": null,
      "outputs": [
        {
          "output_type": "stream",
          "name": "stdout",
          "text": [
            "['banana', None, 'uva', 'Goiaba', True]\n"
          ]
        }
      ]
    },
    {
      "cell_type": "code",
      "source": [
        "#colocar uma lista em outra lista\n",
        "a_lista = [23, None, 3.14, frutas, 3 <= 5]\n",
        "print(a_lista)\n",
        "print(a_lista[0])\n",
        "print(a_lista[3][2])"
      ],
      "metadata": {
        "colab": {
          "base_uri": "https://localhost:8080/"
        },
        "id": "sEKc1fEgkt4E",
        "outputId": "9f9c605d-20fc-4a69-bf8a-fcacc24a902f"
      },
      "execution_count": null,
      "outputs": [
        {
          "output_type": "stream",
          "name": "stdout",
          "text": [
            "[23, None, 3.14, ['banana', 'uva', 'manga'], True]\n",
            "23\n",
            "manga\n"
          ]
        }
      ]
    },
    {
      "cell_type": "code",
      "source": [
        "#Criando uma matriz 3x3\n",
        "matriz = [\n",
        "    [1, 2, 3],\n",
        "    [4, 5, 6],\n",
        "    [7, 8, 9]\n",
        "]\n",
        "\n",
        "print(matriz)\n",
        "print(type(matriz))\n",
        "\n",
        "#Acessando elementos da matriz\n",
        "print(matriz[0][0])\n",
        "print(matriz[1][2])\n",
        "\n",
        "matriz[0][0] = 10\n",
        "matriz[1][2] = 'a'"
      ],
      "metadata": {
        "colab": {
          "base_uri": "https://localhost:8080/"
        },
        "id": "pvwRxy1UoAgT",
        "outputId": "f7308761-9cc1-43bb-9498-49b5a7d09fb0"
      },
      "execution_count": null,
      "outputs": [
        {
          "output_type": "stream",
          "name": "stdout",
          "text": [
            "[[1, 2, 3], [4, 5, 6], [7, 8, 9]]\n",
            "<class 'list'>\n",
            "1\n",
            "6\n"
          ]
        }
      ]
    },
    {
      "cell_type": "code",
      "source": [
        "#declarar lista vazia\n",
        "lista_vazia = []\n",
        "\n",
        "print(lista_vazia)"
      ],
      "metadata": {
        "colab": {
          "base_uri": "https://localhost:8080/"
        },
        "id": "9dMVM_Eeu4FR",
        "outputId": "3630d88c-6037-4304-fd81-8f29597fabbe"
      },
      "execution_count": null,
      "outputs": [
        {
          "output_type": "stream",
          "name": "stdout",
          "text": [
            "[]\n"
          ]
        }
      ]
    },
    {
      "cell_type": "code",
      "source": [
        "#utilizar o len\n",
        "\n",
        "print(len(lista_vazia))\n",
        "print('-----------')\n",
        "print(len(frutas))"
      ],
      "metadata": {
        "colab": {
          "base_uri": "https://localhost:8080/"
        },
        "id": "Cbu8t2X3wPjS",
        "outputId": "f6323775-e5e8-4634-cce7-c63bb7f6c3fb"
      },
      "execution_count": null,
      "outputs": [
        {
          "output_type": "stream",
          "name": "stdout",
          "text": [
            "0\n",
            "-----------\n",
            "3\n"
          ]
        }
      ]
    },
    {
      "cell_type": "code",
      "source": [
        "#pegar pedaco da lista\n",
        "\n",
        "print(a_lista)\n",
        "print('\\n')\n",
        "print(a_lista[:2])\n",
        "print('\\n')\n",
        "print(a_lista[2:4])"
      ],
      "metadata": {
        "colab": {
          "base_uri": "https://localhost:8080/"
        },
        "id": "MDR83nOTxgwx",
        "outputId": "8c5b9579-b740-46a4-ab74-817a10557683"
      },
      "execution_count": null,
      "outputs": [
        {
          "output_type": "stream",
          "name": "stdout",
          "text": [
            "[23, None, 3.14, ['banana', 'uva', 'manga'], True]\n",
            "\n",
            "\n",
            "[23, None]\n",
            "\n",
            "\n",
            "[3.14, ['banana', 'uva', 'manga']]\n"
          ]
        }
      ]
    },
    {
      "cell_type": "code",
      "source": [
        "#Um novo valor também pode ser inserido em um indice especifico usando o metodo insert\n",
        "frutas.insert(1, 'abaxaqui')\n",
        "\n",
        "print(frutas)"
      ],
      "metadata": {
        "colab": {
          "base_uri": "https://localhost:8080/"
        },
        "id": "F1SHZEvP2v4I",
        "outputId": "61e3335a-f076-4989-c859-30cc0ee7039b"
      },
      "execution_count": null,
      "outputs": [
        {
          "output_type": "stream",
          "name": "stdout",
          "text": [
            "['banana', 'abaxaqui', 'melão', 'uva', 'manga']\n"
          ]
        }
      ]
    },
    {
      "cell_type": "markdown",
      "source": [
        "# **Importante**"
      ],
      "metadata": {
        "id": "Fs5A1bp85Ryn"
      }
    },
    {
      "cell_type": "code",
      "source": [
        "#Existe o append também para inserir(mas sempre no final)\n",
        "frutas.append('maça')\n",
        "\n",
        "print(frutas)"
      ],
      "metadata": {
        "colab": {
          "base_uri": "https://localhost:8080/"
        },
        "id": "YB_rjbsJ5JZQ",
        "outputId": "c9070467-250f-48bc-803f-68d6ab8fbf47"
      },
      "execution_count": null,
      "outputs": [
        {
          "output_type": "stream",
          "name": "stdout",
          "text": [
            "['banana', 'abaxaqui', 'melão', 'uva', 'manga', 'maça']\n"
          ]
        }
      ]
    },
    {
      "cell_type": "code",
      "source": [
        "fruta_adicionais = [\"caju\", \"morango\", \"abacaxi\"]\n",
        "frutas.extend(fruta_adicionais)\n",
        "print(frutas)"
      ],
      "metadata": {
        "colab": {
          "base_uri": "https://localhost:8080/"
        },
        "id": "znFNOOmj6uFI",
        "outputId": "fc02bc87-87c5-4e4e-b3c3-677b5a905b8f"
      },
      "execution_count": null,
      "outputs": [
        {
          "output_type": "stream",
          "name": "stdout",
          "text": [
            "['banana', 'abaxaqui', 'uva', 'manga', 'maça', 'caju', 'morango', 'caju', 'morango', 'abacaxi', ['abacaxi', 'pera'], 'caju', 'morango', 'abacaxi', 'caju', 'morango', 'abacaxi']\n"
          ]
        }
      ]
    },
    {
      "cell_type": "code",
      "source": [
        "frutas.append([\"abacaxi\", \"pera\"])\n",
        "print(frutas)"
      ],
      "metadata": {
        "colab": {
          "base_uri": "https://localhost:8080/"
        },
        "id": "3RiKjxEl8HXf",
        "outputId": "2c523670-d195-40e2-ba8f-979e8b9968ef"
      },
      "execution_count": null,
      "outputs": [
        {
          "output_type": "stream",
          "name": "stdout",
          "text": [
            "['banana', 'abaxaqui', 'uva', 'manga', 'maça', 'caju', 'morango', 'caju', 'morango', 'abacaxi', ['abacaxi', 'pera']]\n"
          ]
        }
      ]
    },
    {
      "cell_type": "code",
      "source": [
        "#Criando uma lista\n",
        "numeros = [1,2,3,4,3,5]\n",
        "\n",
        "#Removendo o numero 3 da lista\n",
        "numeros.remove(3)\n",
        "\n",
        "print(numeros)"
      ],
      "metadata": {
        "colab": {
          "base_uri": "https://localhost:8080/"
        },
        "id": "NzJVEZlQ9i_Y",
        "outputId": "bd17ab2a-284d-4afa-d8b3-6dc02ba7796a"
      },
      "execution_count": null,
      "outputs": [
        {
          "output_type": "stream",
          "name": "stdout",
          "text": [
            "[1, 2, 4, 3, 5]\n"
          ]
        }
      ]
    },
    {
      "cell_type": "code",
      "source": [
        "#existe o pop para remover também\n",
        "print(frutas)\n",
        "fruta_removida = frutas.pop()\n",
        "print(frutas)\n",
        "print(fruta_removida)"
      ],
      "metadata": {
        "colab": {
          "base_uri": "https://localhost:8080/"
        },
        "id": "T8M6MEp2_hwH",
        "outputId": "7b46b56d-0c9a-46a6-f590-afa7a51e7a29"
      },
      "execution_count": null,
      "outputs": [
        {
          "output_type": "stream",
          "name": "stdout",
          "text": [
            "['banana', 'abaxaqui', 'uva', 'manga', 'maça', 'caju', 'morango', 'abacaxi']\n",
            "['banana', 'abaxaqui', 'uva', 'manga', 'maça', 'caju', 'morango']\n",
            "abacaxi\n"
          ]
        }
      ]
    },
    {
      "cell_type": "code",
      "source": [
        "print(frutas)"
      ],
      "metadata": {
        "colab": {
          "base_uri": "https://localhost:8080/"
        },
        "id": "6b7dBa_1Cg7X",
        "outputId": "24a6fd7d-5ae0-4365-aa15-c51e00756bab"
      },
      "execution_count": null,
      "outputs": [
        {
          "output_type": "stream",
          "name": "stdout",
          "text": [
            "['banana', 'abaxaqui', 'uva', 'manga', 'maça', 'caju', 'morango', 'caju', 'morango', 'abacaxi', ['abacaxi', 'pera']]\n"
          ]
        }
      ]
    },
    {
      "cell_type": "code",
      "source": [
        "#Junta listas\n",
        "mais_frutas = frutas + ['morango'] + ['goiaba', 'tangerina']\n",
        "print(mais_frutas)"
      ],
      "metadata": {
        "colab": {
          "base_uri": "https://localhost:8080/"
        },
        "id": "HrbJgr6zE7xm",
        "outputId": "00be29e0-28ef-408a-b004-443378ed95d6"
      },
      "execution_count": null,
      "outputs": [
        {
          "output_type": "stream",
          "name": "stdout",
          "text": [
            "['banana', 'abaxaqui', 'uva', 'manga', 'maça', 'caju', 'morango', 'caju', 'morango', 'abacaxi', ['abacaxi', 'pera'], 'caju', 'morango', 'abacaxi', 'caju', 'morango', 'abacaxi', 'morango', 'goiaba', 'tangerina']\n"
          ]
        }
      ]
    },
    {
      "cell_type": "code",
      "source": [
        "#Para criar uma cópia de  uma lista, use o método copy.\n",
        "mais_frutas_copia = mais_frutas.copy()\n",
        "print(mais_frutas_copia)\n",
        "\n",
        "#Modificar lista\n",
        "mais_frutas_copia.remove('goiaba')\n",
        "mais_frutas_copia.pop()\n",
        "print(mais_frutas_copia)\n",
        "print(mais_frutas)"
      ],
      "metadata": {
        "colab": {
          "base_uri": "https://localhost:8080/"
        },
        "id": "abzXIIRWDzIO",
        "outputId": "87f6d674-490f-4fcd-ff71-4dfc4c6a95e7"
      },
      "execution_count": null,
      "outputs": [
        {
          "output_type": "stream",
          "name": "stdout",
          "text": [
            "['banana', 'abaxaqui', 'uva', 'manga', 'maça', 'caju', 'morango', 'caju', 'morango', 'abacaxi', ['abacaxi', 'pera'], 'caju', 'morango', 'abacaxi', 'caju', 'morango', 'abacaxi', 'morango', 'goiaba', 'tangerina']\n",
            "['banana', 'abaxaqui', 'uva', 'manga', 'maça', 'caju', 'morango', 'caju', 'morango', 'abacaxi', ['abacaxi', 'pera'], 'caju', 'morango', 'abacaxi', 'caju', 'morango', 'abacaxi', 'morango']\n",
            "['banana', 'abaxaqui', 'uva', 'manga', 'maça', 'caju', 'morango', 'caju', 'morango', 'abacaxi', ['abacaxi', 'pera'], 'caju', 'morango', 'abacaxi', 'caju', 'morango', 'abacaxi', 'morango', 'goiaba', 'tangerina']\n"
          ]
        }
      ]
    },
    {
      "cell_type": "markdown",
      "source": [
        "# **Site para estudar 'Métodos de Lista'** [https://www.w3schools.com/python/python_ref_list.asp](https://www.w3schools.com/python/python_ref_list.asp)"
      ],
      "metadata": {
        "id": "2qxFezLPFSOV"
      }
    },
    {
      "cell_type": "markdown",
      "source": [
        "# **Exercicio**"
      ],
      "metadata": {
        "id": "3t7R24cDGK2N"
      }
    },
    {
      "cell_type": "code",
      "source": [
        "cidades_sul = ['Curitiba', 'Florianópolis', 'Porto Alegre']\n",
        "cidades_norte = ['Manaus', 'Belém', 'Macapá']\n",
        "cidades_norte.extend(cidades_sul)\n",
        "\n",
        "print(cidades_norte)"
      ],
      "metadata": {
        "colab": {
          "base_uri": "https://localhost:8080/"
        },
        "id": "SfuvaNlkFtxM",
        "outputId": "3fffe5d7-ba63-4767-a865-18c79f3d6da5"
      },
      "execution_count": null,
      "outputs": [
        {
          "output_type": "stream",
          "name": "stdout",
          "text": [
            "['Manaus', 'Belém', 'Macapá', 'Curitiba', 'Florianópolis', 'Porto Alegre']\n"
          ]
        }
      ]
    },
    {
      "cell_type": "code",
      "source": [
        "cidades_sul = ['Curitiba', 'Florianópolis', 'Porto Alegre']\n",
        "cidades_norte = ['Manaus', 'Belém', 'Macapá']\n",
        "cidades_norte_sul = cidades_sul + cidades_norte\n",
        "print(cidades_norte_sul)"
      ],
      "metadata": {
        "colab": {
          "base_uri": "https://localhost:8080/"
        },
        "id": "ydw-NfKOH64V",
        "outputId": "b2d1f2ab-372a-4271-92a2-fc661558c7da"
      },
      "execution_count": null,
      "outputs": [
        {
          "output_type": "stream",
          "name": "stdout",
          "text": [
            "['Curitiba', 'Florianópolis', 'Porto Alegre', 'Manaus', 'Belém', 'Macapá']\n"
          ]
        }
      ]
    },
    {
      "cell_type": "code",
      "source": [
        "numeros = [10,20,30,40,20,50,60,40]\n",
        "print(numeros)\n",
        "#Set remove coisas duplicadas e acaba transformando em um dicionario que nao usa []conchetes, mas sim {}chaves\n",
        "m_set = set(numeros)\n",
        "#para transformar em lista denovo\n",
        "listab = list(m_set)\n",
        "print(listab)\n",
        "#Organizar a lista em ordem crescente\n",
        "print(sorted(listab))"
      ],
      "metadata": {
        "colab": {
          "base_uri": "https://localhost:8080/"
        },
        "id": "mdn8w7l0YIDO",
        "outputId": "66d03818-6d9e-4d69-d347-6ea5654fc774"
      },
      "execution_count": null,
      "outputs": [
        {
          "output_type": "stream",
          "name": "stdout",
          "text": [
            "[10, 20, 30, 40, 20, 50, 60, 40]\n",
            "[40, 10, 50, 20, 60, 30]\n",
            "[10, 20, 30, 40, 50, 60]\n"
          ]
        }
      ]
    },
    {
      "cell_type": "code",
      "source": [
        "linguagem = ['P', 'Y', 'T', 'H', 'O', 'N']\n",
        "#junte todos os itens de uma tupla em uma string, usando um caractere hash como separador\n",
        "palavra = \"\".join(linguagem)\n",
        "print(palavra)"
      ],
      "metadata": {
        "colab": {
          "base_uri": "https://localhost:8080/"
        },
        "id": "QgfyiTiRd71l",
        "outputId": "fe69d7ce-ba8b-4762-d96e-2fddb5791542"
      },
      "execution_count": null,
      "outputs": [
        {
          "output_type": "stream",
          "name": "stdout",
          "text": [
            "PYTHON\n"
          ]
        }
      ]
    },
    {
      "cell_type": "code",
      "source": [
        "numeros = [1, 3, 5, 7, 9]\n",
        "\n",
        "print(1 * numeros[0] * numeros[1] * numeros[2] * numeros[3] * numeros[4])"
      ],
      "metadata": {
        "colab": {
          "base_uri": "https://localhost:8080/"
        },
        "id": "9OOGZG9u1TZB",
        "outputId": "cf0d0c01-48db-4630-95f2-805b51b94e6f"
      },
      "execution_count": null,
      "outputs": [
        {
          "output_type": "stream",
          "name": "stdout",
          "text": [
            "945\n"
          ]
        }
      ]
    },
    {
      "cell_type": "code",
      "source": [
        "numeros = [1, 3, 5, 7, 9]\n",
        "\n",
        "resultado = 1\n",
        "resultado *= numeros[0]\n",
        "print(resultado)"
      ],
      "metadata": {
        "id": "sPmKoUrA11AI"
      },
      "execution_count": null,
      "outputs": []
    },
    {
      "cell_type": "code",
      "source": [
        "numeros = [1, 3, 5, 7, 9]\n",
        "\n",
        "resultado = 1\n",
        "resultado *= numeros[0]\n",
        "resultado *= numeros[1]\n",
        "resultado *= numeros[2]\n",
        "resultado *= numeros[3]\n",
        "resultado *= numeros[4]\n",
        "\n",
        "print(resultado)"
      ],
      "metadata": {
        "colab": {
          "base_uri": "https://localhost:8080/"
        },
        "id": "XkSs0AzikPYT",
        "outputId": "22642574-0e0d-4017-da62-2f8d5bcfb48b"
      },
      "execution_count": null,
      "outputs": [
        {
          "output_type": "stream",
          "name": "stdout",
          "text": [
            "945\n"
          ]
        }
      ]
    },
    {
      "cell_type": "code",
      "source": [
        "cores = [\"vermelho\", \"azul\", \"verde\", \"amarelo\", \"roxo\"]\n",
        "cor_excluida = cores.pop(1)\n",
        "print(cores)\n",
        "print(cor_excluida)"
      ],
      "metadata": {
        "colab": {
          "base_uri": "https://localhost:8080/"
        },
        "id": "F_C_6N7umPvz",
        "outputId": "fb88d895-ee16-4421-e646-9bede8f02a5e"
      },
      "execution_count": null,
      "outputs": [
        {
          "output_type": "stream",
          "name": "stdout",
          "text": [
            "['vermelho', 'verde', 'amarelo', 'roxo']\n",
            "azul\n"
          ]
        }
      ]
    },
    {
      "cell_type": "code",
      "source": [
        "cores = [\"vermelho\", \"azul\", \"verde\", \"amarelo\", \"roxo\"]\n",
        "cores.remove('azul')\n",
        "print(cores)"
      ],
      "metadata": {
        "colab": {
          "base_uri": "https://localhost:8080/"
        },
        "id": "iNTiiwiUoP4b",
        "outputId": "9c980235-eb06-41c4-bc3d-886a533eb2ff"
      },
      "execution_count": null,
      "outputs": [
        {
          "output_type": "stream",
          "name": "stdout",
          "text": [
            "['vermelho', 'verde', 'amarelo', 'roxo']\n"
          ]
        }
      ]
    },
    {
      "cell_type": "code",
      "source": [
        "frutas = [\"maçã\", \"banana\", \"laranja\", \"morango\"]\n",
        "frutas.append(\"uva\")\n",
        "print(frutas)"
      ],
      "metadata": {
        "colab": {
          "base_uri": "https://localhost:8080/"
        },
        "id": "c8Ye_ZZzoHqc",
        "outputId": "5d0d6d20-7075-4465-fff6-3a2dd8f08f7e"
      },
      "execution_count": null,
      "outputs": [
        {
          "output_type": "stream",
          "name": "stdout",
          "text": [
            "['maçã', 'banana', 'laranja', 'morango', 'uva']\n"
          ]
        }
      ]
    },
    {
      "cell_type": "code",
      "source": [
        "nomes = [\"Alice\", \"Bob\", \"Charlie\", \"David\"]\n",
        "print(nomes)"
      ],
      "metadata": {
        "colab": {
          "base_uri": "https://localhost:8080/"
        },
        "id": "qmm2rJOFonnC",
        "outputId": "bc08a96b-0e57-49de-e72f-7017ddf1283a"
      },
      "execution_count": null,
      "outputs": [
        {
          "output_type": "stream",
          "name": "stdout",
          "text": [
            "['Alice', 'Bob', 'Charlie', 'David']\n"
          ]
        }
      ]
    },
    {
      "cell_type": "markdown",
      "source": [
        "# **Usando a estrutura if**"
      ],
      "metadata": {
        "id": "JDpi0ur24F13"
      }
    },
    {
      "cell_type": "code",
      "source": [
        "nomes = [\"Alice\", \"Bob\", \"Charlie\", \"David\"]\n",
        "if \"Alice\" in nomes:\n",
        "  print(\"O nome Alicia tem na lista\")\n",
        "else:\n",
        "  print(\"Não existe esse nome\")\n"
      ],
      "metadata": {
        "colab": {
          "base_uri": "https://localhost:8080/"
        },
        "id": "pDaTJDiH2qa3",
        "outputId": "22995d31-cdf0-40c2-cba9-2e3501fd2286"
      },
      "execution_count": null,
      "outputs": [
        {
          "output_type": "stream",
          "name": "stdout",
          "text": [
            "O nome Alicia tem na lista\n"
          ]
        }
      ]
    },
    {
      "cell_type": "markdown",
      "source": [
        "# **Não usando a estrutura if**"
      ],
      "metadata": {
        "id": "fVisgOVK4KRe"
      }
    },
    {
      "cell_type": "code",
      "source": [
        "nomes = [\"Alice\", \"Bob\", \"Charlie\", \"David\"]\n",
        "\n",
        "existe = \"Alice\" in nomes\n",
        "\n",
        "print(existe)"
      ],
      "metadata": {
        "colab": {
          "base_uri": "https://localhost:8080/"
        },
        "id": "AXCzCvHK4Ne2",
        "outputId": "bcdc7e72-eed7-4636-a924-bc12b15c2f14"
      },
      "execution_count": null,
      "outputs": [
        {
          "output_type": "stream",
          "name": "stdout",
          "text": [
            "True\n"
          ]
        }
      ]
    },
    {
      "cell_type": "markdown",
      "source": [
        "# **Declarando um dicionario**"
      ],
      "metadata": {
        "id": "5XslMImJ5hGX"
      }
    },
    {
      "cell_type": "code",
      "source": [
        "#declarando o dicionario\n",
        "pessoa1 = {\n",
        "    'nome' : 'Pedro Isac',\n",
        "    'sexo' : 'Macho',\n",
        "    'idade' : '18',\n",
        "    'casado' : 'Obvio amo a Paola',\n",
        "}\n",
        "\n",
        "print(pessoa1)"
      ],
      "metadata": {
        "colab": {
          "base_uri": "https://localhost:8080/"
        },
        "id": "OU6YVMGB5keH",
        "outputId": "b438281d-1008-45e8-df56-e01e64004ebf"
      },
      "execution_count": null,
      "outputs": [
        {
          "output_type": "stream",
          "name": "stdout",
          "text": [
            "{'nome': 'Pedro Isac', 'sexo': 'Macho', 'idade': '18', 'casado': 'Obvio amo a Paola'}\n"
          ]
        }
      ]
    },
    {
      "cell_type": "markdown",
      "source": [
        "# **Declarando de outra forma um dicionario**"
      ],
      "metadata": {
        "id": "m1iwKhPs7zJ2"
      }
    },
    {
      "cell_type": "code",
      "source": [
        "#usar a função dict\n",
        "pessoa2 = dict(nome=\"Pedro\", sexo=\"Macho\", idade=18, casado=\"Sim, com a Paola. Mais respeito pfv\")\n",
        "\n",
        "print(pessoa2)"
      ],
      "metadata": {
        "colab": {
          "base_uri": "https://localhost:8080/"
        },
        "id": "goXS1HEj74i2",
        "outputId": "3c80d5d0-5f63-431a-f59f-5c7b38451f37"
      },
      "execution_count": null,
      "outputs": [
        {
          "output_type": "stream",
          "name": "stdout",
          "text": [
            "{'nome': 'Pedro', 'sexo': 'Macho', 'idade': 18, 'casado': 'Sim, com a Paola. Mais respeito pfv'}\n"
          ]
        }
      ]
    },
    {
      "cell_type": "code",
      "source": [
        "pessoa1 = {\n",
        "    'nome' : 'Pedro Isac',\n",
        "    'sexo' : 'Macho',\n",
        "    'idade' : '18',\n",
        "    'casado' : 'Obvio amo a Paola',\n",
        "}\n",
        "print(pessoa1['idade'] + \" anos e \" + pessoa1['sexo'])"
      ],
      "metadata": {
        "colab": {
          "base_uri": "https://localhost:8080/"
        },
        "id": "jjyp36qO9Heo",
        "outputId": "4726ad5c-7739-4ba3-a220-7670fd5676e7"
      },
      "execution_count": null,
      "outputs": [
        {
          "output_type": "stream",
          "name": "stdout",
          "text": [
            "18 anos e Macho\n"
          ]
        }
      ]
    },
    {
      "cell_type": "code",
      "source": [
        "dict1 = {}\n",
        "print(dict1)\n",
        "#usa o [] para add\n",
        "dict1['chave'] = 'não esta mais vazio'\n",
        "print(dict1)"
      ],
      "metadata": {
        "colab": {
          "base_uri": "https://localhost:8080/"
        },
        "id": "ae91z7m6_WfV",
        "outputId": "2ad89afc-ac92-490a-a83f-f7cc5ef89512"
      },
      "execution_count": null,
      "outputs": [
        {
          "output_type": "stream",
          "name": "stdout",
          "text": [
            "{}\n",
            "{'chave': 'não esta mais vazio'}\n"
          ]
        }
      ]
    },
    {
      "cell_type": "markdown",
      "source": [
        "# **Dicionarios com lista**"
      ],
      "metadata": {
        "id": "SPb_nlelAn1d"
      }
    },
    {
      "cell_type": "code",
      "source": [
        "dict2 ={'Pessoa1': ['willian', 30, 'Professor'],\n",
        "        'Pessoa2': ['pedro', 18, 'Medico']}\n",
        "print(dict2)\n",
        "print(dict2['Pessoa1'][0])"
      ],
      "metadata": {
        "colab": {
          "base_uri": "https://localhost:8080/"
        },
        "id": "AtQgBIXOAq_t",
        "outputId": "5bec8336-42ff-462e-dd22-5a897e03a907"
      },
      "execution_count": null,
      "outputs": [
        {
          "output_type": "stream",
          "name": "stdout",
          "text": [
            "{'Pessoa1': ['willian', 30, 'Professor'], 'Pessoa2': ['pedro', 18, 'Medico']}\n",
            "willian\n"
          ]
        }
      ]
    },
    {
      "cell_type": "code",
      "source": [
        "pessoa = {\n",
        "    'nome': 'Pedro',\n",
        "    'idade': 18,\n",
        "    'endereco': {\n",
        "        'rua':'Rua Francisco Fernandes Mendes',\n",
        "        'cidade': 'Campinas',\n",
        "        'estado': 'São Paulo'\n",
        "    }\n",
        "}\n",
        "\n",
        "print(\"Nome: \", pessoa['nome'])\n",
        "print(\"Idade: \", pessoa['idade'])\n",
        "print(\"Endereço: \", pessoa['endereco']['rua'], \"de\", pessoa['endereco']['cidade'])"
      ],
      "metadata": {
        "colab": {
          "base_uri": "https://localhost:8080/"
        },
        "id": "HEzgXoFIC71c",
        "outputId": "6f975136-f1f9-4f0a-9f3d-80308287d37f"
      },
      "execution_count": null,
      "outputs": [
        {
          "output_type": "stream",
          "name": "stdout",
          "text": [
            "Nome:  Pedro\n",
            "Idade:  18\n",
            "Endereço:  Rua Francisco Fernandes Mendes de Campinas\n"
          ]
        }
      ]
    },
    {
      "cell_type": "markdown",
      "source": [
        "# **importante - métodos**"
      ],
      "metadata": {
        "id": "aIumHhmIkLl4"
      }
    },
    {
      "cell_type": "code",
      "source": [
        "pessoa = {\n",
        "    'nome': 'Pedro',\n",
        "    'idade': 18,\n",
        "    'endereco': {\n",
        "        'rua':'Rua Francisco Fernandes Mendes',\n",
        "        'cidade': 'Campinas',\n",
        "        'estado': 'São Paulo'\n",
        "    }\n",
        "}\n",
        "\n",
        "#Alterar a informação já criada\n",
        "pessoa['idade'] = 17\n",
        "\n",
        "#adicionar um novo campo e chave\n",
        "pessoa['Nacionalidade'] = 'Brasileiro'\n",
        "\n",
        "print(pessoa)\n",
        "#Para remover uma chave e o valor associado de um dicionario, use o método pop\n",
        "\n",
        "pessoa.pop('Nacionalidade')\n",
        "print(pessoa)\n",
        "\n",
        "#os dicionarios também fornecem métodos para vizualizar a lista\n",
        "print(pessoa.keys())\n",
        "\n",
        "print(pessoa.values())\n",
        "print(pessoa.items())"
      ],
      "metadata": {
        "colab": {
          "base_uri": "https://localhost:8080/"
        },
        "id": "7zMtSrj-isZA",
        "outputId": "4845ea6c-9858-49ad-d89a-d750697057ed"
      },
      "execution_count": null,
      "outputs": [
        {
          "output_type": "stream",
          "name": "stdout",
          "text": [
            "{'nome': 'Pedro', 'idade': 17, 'endereco': {'rua': 'Rua Francisco Fernandes Mendes', 'cidade': 'Campinas', 'estado': 'São Paulo'}, 'Nacionalidade': 'Brasileiro'}\n",
            "{'nome': 'Pedro', 'idade': 17, 'endereco': {'rua': 'Rua Francisco Fernandes Mendes', 'cidade': 'Campinas', 'estado': 'São Paulo'}}\n",
            "dict_keys(['nome', 'idade', 'endereco'])\n",
            "dict_values(['Pedro', 17, {'rua': 'Rua Francisco Fernandes Mendes', 'cidade': 'Campinas', 'estado': 'São Paulo'}])\n",
            "dict_items([('nome', 'Pedro'), ('idade', 17), ('endereco', {'rua': 'Rua Francisco Fernandes Mendes', 'cidade': 'Campinas', 'estado': 'São Paulo'})])\n"
          ]
        }
      ]
    },
    {
      "cell_type": "markdown",
      "source": [
        "# **Método clear**"
      ],
      "metadata": {
        "id": "4m79YuYfssy-"
      }
    },
    {
      "cell_type": "code",
      "source": [
        "#criando um dicionario\n",
        "meu_dic = {'a':1,'b':2,'c':3,}\n",
        "\n",
        "#exibindo o dicionario original\n",
        "print(\"Dicionario original:\", meu_dic)\n",
        "\n",
        "#usando o método clear para remover tds os itens\n",
        "meu_dic.clear()\n",
        "\n",
        "#exibindo o dicionario depois do clear\n",
        "print('Dicionario após o clear:', meu_dic)"
      ],
      "metadata": {
        "colab": {
          "base_uri": "https://localhost:8080/"
        },
        "id": "54X-Vx59n9kI",
        "outputId": "dfd15e54-16b4-43b8-9dac-968fee5b6eda"
      },
      "execution_count": null,
      "outputs": [
        {
          "output_type": "stream",
          "name": "stdout",
          "text": [
            "Dicionario original: {'a': 1, 'b': 2, 'c': 3}\n",
            "Dicionario após o clear: {}\n"
          ]
        }
      ]
    },
    {
      "cell_type": "markdown",
      "source": [
        "# **Método del**"
      ],
      "metadata": {
        "id": "cax9Nryzsrg2"
      }
    },
    {
      "cell_type": "code",
      "source": [
        "#criando um dicionario\n",
        "meu_dic = {'a':1,'b':2,'c':3,}\n",
        "\n",
        "#exibindo o dicionario original\n",
        "print(\"Dicionario original:\", meu_dic)\n",
        "\n",
        "#usando o instrução del para remover o item associado á chave 'b'\n",
        "del meu_dic['b']\n",
        "\n",
        "#exibindo o dicionario depois da remoção\n",
        "print('Dicionario após deletar o \"b\":', meu_dic)"
      ],
      "metadata": {
        "colab": {
          "base_uri": "https://localhost:8080/"
        },
        "id": "cAo6Kz0AqidP",
        "outputId": "9df90776-f30c-4ed1-e98a-9dabe486ea47"
      },
      "execution_count": null,
      "outputs": [
        {
          "output_type": "stream",
          "name": "stdout",
          "text": [
            "Dicionario original: {'a': 1, 'b': 2, 'c': 3}\n",
            "Dicionario após deletar o \"b\": {'a': 1, 'c': 3}\n"
          ]
        }
      ]
    },
    {
      "cell_type": "markdown",
      "source": [
        "# **Método update**"
      ],
      "metadata": {
        "id": "gUpf_e_xslP3"
      }
    },
    {
      "cell_type": "code",
      "source": [
        "#criando um dicionario\n",
        "dic1 = {'a':1,'b':2}\n",
        "dic2 = {'b':3,'c':4}\n",
        "print('Dicionario antes update:', dic1)\n",
        "\n",
        "dic1.update(dic2)\n",
        "print('Dicionario após update:', dic1)"
      ],
      "metadata": {
        "colab": {
          "base_uri": "https://localhost:8080/"
        },
        "id": "oYPMcUg5rNAv",
        "outputId": "3c37ab51-01d4-46b8-8740-e7fbeaf402c2"
      },
      "execution_count": null,
      "outputs": [
        {
          "output_type": "stream",
          "name": "stdout",
          "text": [
            "Dicionario antes update: {'a': 1, 'b': 2}\n",
            "Dicionario após update: {'a': 1, 'b': 3, 'c': 4}\n"
          ]
        }
      ]
    },
    {
      "cell_type": "markdown",
      "source": [
        "# **Link sobre os métodos** [ref_dictionary](https://www.w3schools.com/python/python_ref_dictionary.asp)"
      ],
      "metadata": {
        "id": "HjkD1x6Zu6s2"
      }
    },
    {
      "cell_type": "code",
      "source": [
        "#pratica\n",
        "informacoes_pessoa = {\n",
        "    'Nome':'Maria',\n",
        "    'Idade': 28,\n",
        "    'Cidade':'São Paulo'\n",
        "}\n",
        "nome = informacoes_pessoa['Nome']\n",
        "idade = informacoes_pessoa['Idade']\n",
        "\n",
        "print(f\"{nome} tem {idade} anos e mora na cidade de {informacoes_pessoa['Cidade']}\")"
      ],
      "metadata": {
        "colab": {
          "base_uri": "https://localhost:8080/"
        },
        "id": "Z5hHohEgvIkW",
        "outputId": "2513ae29-c864-4938-e348-425c51e52571"
      },
      "execution_count": null,
      "outputs": [
        {
          "output_type": "stream",
          "name": "stdout",
          "text": [
            "Maria tem 28 anos e mora na cidade de São Paulo\n"
          ]
        }
      ]
    },
    {
      "cell_type": "markdown",
      "source": [
        "# **mudei usando update mas tem outro jeito em baixo**"
      ],
      "metadata": {
        "id": "sZ_PscPj6p0c"
      }
    },
    {
      "cell_type": "code",
      "source": [
        "#Criar um dicionario de estoque e att os valores\n",
        "estoque = {\n",
        "    'Maçãs': 10,\n",
        "    'Bananas': 15,\n",
        "    'Laranjas': 8,\n",
        "}\n",
        "\n",
        "produtos_novos = {\n",
        "    'Maçãs': 3,\n",
        "    'Bananas': 40\n",
        "}\n",
        "print(estoque)\n",
        "\n",
        "estoque.update(produtos_novos)\n",
        "print(estoque)"
      ],
      "metadata": {
        "colab": {
          "base_uri": "https://localhost:8080/"
        },
        "id": "r-5DM_ZkzB4m",
        "outputId": "2bd4d790-2e6b-4330-8572-f912bf3aa314"
      },
      "execution_count": null,
      "outputs": [
        {
          "output_type": "stream",
          "name": "stdout",
          "text": [
            "{'Maçãs': 10, 'Bananas': 15, 'Laranjas': 8}\n",
            "{'Maçãs': 3, 'Bananas': 40, 'Laranjas': 8}\n"
          ]
        }
      ]
    },
    {
      "cell_type": "markdown",
      "source": [
        "# **outro jeito**"
      ],
      "metadata": {
        "id": "eLjfwB736wC0"
      }
    },
    {
      "cell_type": "code",
      "source": [
        "estoque = {\n",
        "    'Maçãs': 10,\n",
        "    'Bananas': 15,\n",
        "    'Laranjas': 8,\n",
        "}\n",
        "\n",
        "estoque['Maçãs'] = 20\n",
        "estoque['Laranjas'] += 5\n",
        "\n",
        "print(estoque)"
      ],
      "metadata": {
        "colab": {
          "base_uri": "https://localhost:8080/"
        },
        "id": "-NOOAp0Q6x1L",
        "outputId": "b2c61438-3006-47a0-c689-bc77347afc3d"
      },
      "execution_count": null,
      "outputs": [
        {
          "output_type": "stream",
          "name": "stdout",
          "text": [
            "{'Maçãs': 20, 'Bananas': 15, 'Laranjas': 13}\n"
          ]
        }
      ]
    },
    {
      "cell_type": "code",
      "source": [
        "notas_alunos={'João': 8.5,'Maria': 9.0,'Carlos': 7.2}\n",
        "removido = notas_alunos.pop('Maria', 'Aluno não encontrado')\n",
        "\n",
        "print(\"notas alunos:\", notas_alunos)\n",
        "print(f'aluno removido: {removido}')"
      ],
      "metadata": {
        "colab": {
          "base_uri": "https://localhost:8080/"
        },
        "id": "G6mY8yia782r",
        "outputId": "42e60e01-17f3-4476-c1d1-44ac043dc041"
      },
      "execution_count": null,
      "outputs": [
        {
          "output_type": "stream",
          "name": "stdout",
          "text": [
            "notas alunos: {'João': 8.5, 'Carlos': 7.2}\n",
            "aluno removido: 9.0\n"
          ]
        }
      ]
    },
    {
      "cell_type": "markdown",
      "source": [
        "# **exercicio - atividade 5**"
      ],
      "metadata": {
        "id": "mG93J13_G_lJ"
      }
    },
    {
      "cell_type": "code",
      "source": [
        "dicionario = {'idade': 25, 'nome': 'Ana'}\n",
        "dicionario['idade'] = 26\n",
        "print(dicionario)"
      ],
      "metadata": {
        "colab": {
          "base_uri": "https://localhost:8080/"
        },
        "id": "t0KV6f9zGWRB",
        "outputId": "ca6cf371-8d38-4899-f177-8e45fab9e5fc"
      },
      "execution_count": null,
      "outputs": [
        {
          "output_type": "stream",
          "name": "stdout",
          "text": [
            "{'idade': 26, 'nome': 'Ana'}\n"
          ]
        }
      ]
    },
    {
      "cell_type": "code",
      "source": [
        "dicionario = {'a': 1, 'b': 2, 'c': 3}\n",
        "dicionario.pop('b')\n",
        "\n",
        "print(dicionario)"
      ],
      "metadata": {
        "colab": {
          "base_uri": "https://localhost:8080/"
        },
        "id": "Q-hxqwgVG-I5",
        "outputId": "e1efdc4b-ead4-41b3-f840-d46995376aa5"
      },
      "execution_count": null,
      "outputs": [
        {
          "output_type": "stream",
          "name": "stdout",
          "text": [
            "{'a': 1, 'c': 3}\n"
          ]
        }
      ]
    },
    {
      "cell_type": "markdown",
      "source": [
        "# **Tupla**\n",
        "tuplas são fixas, e nao aceitam de jeito nenhum add, mudar o nome e deletar"
      ],
      "metadata": {
        "id": "RZHqr_RouqKq"
      }
    },
    {
      "cell_type": "code",
      "source": [
        "#criação\n",
        "frutas = ('banana', 'uva', 'laranja')\n",
        "print(frutas)\n",
        "print(type(frutas))\n",
        "\n",
        "#ver o tamanho dela\n",
        "len(frutas)\n",
        "\n",
        "#pegar o primeiro e o ultimo item\n",
        "print(frutas[0])\n",
        "print(frutas[-1])"
      ],
      "metadata": {
        "colab": {
          "base_uri": "https://localhost:8080/"
        },
        "id": "5FQ1CKH4urth",
        "outputId": "3230fb4a-5d22-43eb-fe66-fe72589d11eb"
      },
      "execution_count": null,
      "outputs": [
        {
          "output_type": "stream",
          "name": "stdout",
          "text": [
            "('banana', 'uva', 'laranja')\n",
            "<class 'tuple'>\n",
            "banana\n",
            "laranja\n"
          ]
        }
      ]
    },
    {
      "cell_type": "code",
      "source": [
        "frutas.append('Maça')"
      ],
      "metadata": {
        "colab": {
          "base_uri": "https://localhost:8080/",
          "height": 141
        },
        "id": "t0xpYZSO2iY_",
        "outputId": "0e2d562e-3727-4503-9152-825319f0b33f"
      },
      "execution_count": null,
      "outputs": [
        {
          "output_type": "error",
          "ename": "AttributeError",
          "evalue": "'tuple' object has no attribute 'append'",
          "traceback": [
            "\u001b[0;31m---------------------------------------------------------------------------\u001b[0m",
            "\u001b[0;31mAttributeError\u001b[0m                            Traceback (most recent call last)",
            "\u001b[0;32m<ipython-input-13-c17357172ac2>\u001b[0m in \u001b[0;36m<cell line: 1>\u001b[0;34m()\u001b[0m\n\u001b[0;32m----> 1\u001b[0;31m \u001b[0mfrutas\u001b[0m\u001b[0;34m.\u001b[0m\u001b[0mappend\u001b[0m\u001b[0;34m(\u001b[0m\u001b[0;34m'Maça'\u001b[0m\u001b[0;34m)\u001b[0m\u001b[0;34m\u001b[0m\u001b[0;34m\u001b[0m\u001b[0m\n\u001b[0m",
            "\u001b[0;31mAttributeError\u001b[0m: 'tuple' object has no attribute 'append'"
          ]
        }
      ]
    },
    {
      "cell_type": "code",
      "source": [
        "frutas[-1] = 'Abacaxi'"
      ],
      "metadata": {
        "colab": {
          "base_uri": "https://localhost:8080/",
          "height": 141
        },
        "id": "vG0VwR0e2cZ_",
        "outputId": "2c501f94-54c9-455f-f7db-c179f3bce6de"
      },
      "execution_count": null,
      "outputs": [
        {
          "output_type": "error",
          "ename": "TypeError",
          "evalue": "'tuple' object does not support item assignment",
          "traceback": [
            "\u001b[0;31m---------------------------------------------------------------------------\u001b[0m",
            "\u001b[0;31mTypeError\u001b[0m                                 Traceback (most recent call last)",
            "\u001b[0;32m<ipython-input-10-a9117c784d79>\u001b[0m in \u001b[0;36m<cell line: 1>\u001b[0;34m()\u001b[0m\n\u001b[0;32m----> 1\u001b[0;31m \u001b[0mfrutas\u001b[0m\u001b[0;34m[\u001b[0m\u001b[0;34m-\u001b[0m\u001b[0;36m1\u001b[0m\u001b[0;34m]\u001b[0m \u001b[0;34m=\u001b[0m \u001b[0;34m'Abacaxi'\u001b[0m\u001b[0;34m\u001b[0m\u001b[0;34m\u001b[0m\u001b[0m\n\u001b[0m",
            "\u001b[0;31mTypeError\u001b[0m: 'tuple' object does not support item assignment"
          ]
        }
      ]
    },
    {
      "cell_type": "code",
      "source": [
        "del frutas[-1]"
      ],
      "metadata": {
        "colab": {
          "base_uri": "https://localhost:8080/",
          "height": 141
        },
        "id": "jge5Lpwd2Wwn",
        "outputId": "7a7c7af3-39e5-4788-8b25-927c49b7c7a4"
      },
      "execution_count": null,
      "outputs": [
        {
          "output_type": "error",
          "ename": "TypeError",
          "evalue": "'tuple' object doesn't support item deletion",
          "traceback": [
            "\u001b[0;31m---------------------------------------------------------------------------\u001b[0m",
            "\u001b[0;31mTypeError\u001b[0m                                 Traceback (most recent call last)",
            "\u001b[0;32m<ipython-input-9-77a3a9f665ab>\u001b[0m in \u001b[0;36m<cell line: 1>\u001b[0;34m()\u001b[0m\n\u001b[0;32m----> 1\u001b[0;31m \u001b[0;32mdel\u001b[0m \u001b[0mfrutas\u001b[0m\u001b[0;34m[\u001b[0m\u001b[0;34m-\u001b[0m\u001b[0;36m1\u001b[0m\u001b[0;34m]\u001b[0m\u001b[0;34m\u001b[0m\u001b[0;34m\u001b[0m\u001b[0m\n\u001b[0m",
            "\u001b[0;31mTypeError\u001b[0m: 'tuple' object doesn't support item deletion"
          ]
        }
      ]
    },
    {
      "cell_type": "markdown",
      "source": [
        "# **da pa transformar uma tupla em lista e de lista para tupla**"
      ],
      "metadata": {
        "id": "1y14TzkI1uWX"
      }
    },
    {
      "cell_type": "code",
      "source": [
        "minha_lista = [4, 5, 6]\n",
        "tupla_resultante = tuple(minha_lista)\n",
        "print(tupla_resultante) #output: (4, 5, 6)\n",
        "print(type(tupla_resultante))"
      ],
      "metadata": {
        "colab": {
          "base_uri": "https://localhost:8080/"
        },
        "id": "7jkgAd1W1qHI",
        "outputId": "14debc68-45ec-43c4-e4fe-b8f0a14f0b2c"
      },
      "execution_count": null,
      "outputs": [
        {
          "output_type": "stream",
          "name": "stdout",
          "text": [
            "(4, 5, 6)\n",
            "<class 'tuple'>\n"
          ]
        }
      ]
    },
    {
      "cell_type": "code",
      "source": [
        "minha_lista = (4, 5, 6)\n",
        "tupla_resultante = list(minha_lista)\n",
        "print(tupla_resultante) #output: [4, 5, 6]\n",
        "print(type(tupla_resultante))"
      ],
      "metadata": {
        "colab": {
          "base_uri": "https://localhost:8080/"
        },
        "id": "kjK0i6SI2PpI",
        "outputId": "404f6070-d6d7-4bb5-e8a3-c4f92d880e5a"
      },
      "execution_count": null,
      "outputs": [
        {
          "output_type": "stream",
          "name": "stdout",
          "text": [
            "[4, 5, 6]\n",
            "<class 'list'>\n"
          ]
        }
      ]
    },
    {
      "cell_type": "markdown",
      "source": [
        "# **Exemplos de uso de tupla: ** para pegar coordenadas (latitude e longitude)"
      ],
      "metadata": {
        "id": "y2ufegcf5AuX"
      }
    },
    {
      "cell_type": "code",
      "source": [
        "coordenadas = (-22.9712, -46.9964)\n",
        "print(coordenadas)"
      ],
      "metadata": {
        "colab": {
          "base_uri": "https://localhost:8080/"
        },
        "id": "XT2v1zgU5fuv",
        "outputId": "c5e703c5-6b5b-4b49-9582-f6093c4287aa"
      },
      "execution_count": null,
      "outputs": [
        {
          "output_type": "stream",
          "name": "stdout",
          "text": [
            "(-22.9712, -46.9964)\n"
          ]
        }
      ]
    },
    {
      "cell_type": "code",
      "source": [
        "melhores_animes_do_mundo = ('One Punch', 'Hajime no Ippo', 'Berserk', 69.9, (1,2,3))\n",
        "print(melhores_animes_do_mundo)\n",
        "print(type(melhores_animes_do_mundo))"
      ],
      "metadata": {
        "colab": {
          "base_uri": "https://localhost:8080/"
        },
        "id": "-VhfKYIw6CU-",
        "outputId": "a919ca0c-62f5-44e0-bfc4-e04a363fe97b"
      },
      "execution_count": null,
      "outputs": [
        {
          "output_type": "stream",
          "name": "stdout",
          "text": [
            "('One Punch', 'Hajime no Ippo', 'Berserk', 69.9, (1, 2, 3))\n",
            "<class 'tuple'>\n"
          ]
        }
      ]
    },
    {
      "cell_type": "markdown",
      "source": [
        "exercicio"
      ],
      "metadata": {
        "id": "4sERhEI47f2Q"
      }
    },
    {
      "cell_type": "code",
      "source": [
        "fruta = ('maça', 'abacaxi', 'caju')\n",
        "tuplaC = list(fruta)\n",
        "tuplaC.append('tomate')\n",
        "fruta = tuple(tuplaC)\n",
        "print(fruta)"
      ],
      "metadata": {
        "colab": {
          "base_uri": "https://localhost:8080/"
        },
        "id": "nl22nWel7hZ-",
        "outputId": "e67c36d9-0cd4-48d0-9855-10c080f91e2f"
      },
      "execution_count": null,
      "outputs": [
        {
          "output_type": "stream",
          "name": "stdout",
          "text": [
            "('maça', 'abacaxi', 'caju', 'tomate')\n"
          ]
        }
      ]
    },
    {
      "cell_type": "code",
      "source": [
        "aluno = ('maça', 'abacaxi', 'caju')\n",
        "tuplaC = list(fruta)\n",
        "tuplaC.append('tomate')\n",
        "fruta = tuple(tuplaC)\n",
        "print(fruta)"
      ],
      "metadata": {
        "colab": {
          "base_uri": "https://localhost:8080/"
        },
        "id": "-n-Nr_xXLGH7",
        "outputId": "779cfc46-2d16-4d26-8edb-d7b5c97ad472"
      },
      "execution_count": null,
      "outputs": [
        {
          "output_type": "stream",
          "name": "stdout",
          "text": [
            "('maça', 'abacaxi', 'caju', 'tomate', 'tomate')\n"
          ]
        }
      ]
    },
    {
      "cell_type": "code",
      "source": [
        "notas_aluno = (8.0, 10.0, 4)\n",
        "notas_convertidas = list(notas_aluno)\n",
        "\n",
        "notas_aluno = ((8.0 + 10.0 + 4)/3)\n",
        "print(notas_aluno)"
      ],
      "metadata": {
        "colab": {
          "base_uri": "https://localhost:8080/"
        },
        "id": "Q_vnFOXrLYUz",
        "outputId": "498e0d57-d86c-478b-ceda-8ddf65032b62"
      },
      "execution_count": null,
      "outputs": [
        {
          "output_type": "stream",
          "name": "stdout",
          "text": [
            "7.333333333333333\n"
          ]
        }
      ]
    },
    {
      "cell_type": "code",
      "source": [
        "loginU = input(\"Digite o seu login: \")\n",
        "senhaU = input(\"Digite a sua senha: \")\n",
        "usuario = (loginU, senhaU)\n",
        "print(usuario)\n",
        "\n",
        "usuario[1] = '123645'"
      ],
      "metadata": {
        "colab": {
          "base_uri": "https://localhost:8080/",
          "height": 228
        },
        "id": "yRdx3Al-MthU",
        "outputId": "a3e86591-462f-4f7c-e2fc-f3e57f73be18"
      },
      "execution_count": null,
      "outputs": [
        {
          "output_type": "stream",
          "name": "stdout",
          "text": [
            "Digite o seu login: teste@teste.com\n",
            "Digite a sua senha: teste1234\n",
            "('teste@teste.com', 'teste1234')\n"
          ]
        },
        {
          "output_type": "error",
          "ename": "TypeError",
          "evalue": "'tuple' object does not support item assignment",
          "traceback": [
            "\u001b[0;31m---------------------------------------------------------------------------\u001b[0m",
            "\u001b[0;31mTypeError\u001b[0m                                 Traceback (most recent call last)",
            "\u001b[0;32m<ipython-input-49-4fabc1202a1f>\u001b[0m in \u001b[0;36m<cell line: 6>\u001b[0;34m()\u001b[0m\n\u001b[1;32m      4\u001b[0m \u001b[0mprint\u001b[0m\u001b[0;34m(\u001b[0m\u001b[0musuario\u001b[0m\u001b[0;34m)\u001b[0m\u001b[0;34m\u001b[0m\u001b[0;34m\u001b[0m\u001b[0m\n\u001b[1;32m      5\u001b[0m \u001b[0;34m\u001b[0m\u001b[0m\n\u001b[0;32m----> 6\u001b[0;31m \u001b[0musuario\u001b[0m\u001b[0;34m[\u001b[0m\u001b[0;36m1\u001b[0m\u001b[0;34m]\u001b[0m \u001b[0;34m=\u001b[0m \u001b[0;34m'123645'\u001b[0m\u001b[0;34m\u001b[0m\u001b[0;34m\u001b[0m\u001b[0m\n\u001b[0m",
            "\u001b[0;31mTypeError\u001b[0m: 'tuple' object does not support item assignment"
          ]
        }
      ]
    },
    {
      "cell_type": "markdown",
      "source": [
        "Implemente um código em Python que recebe as notas de um aluno em três disciplinas\n",
        "e armazena essas notas em uma tupla. Em seguida, calcule e imprima a média das\n",
        "notas."
      ],
      "metadata": {
        "id": "PI9l-gwnb-MY"
      }
    },
    {
      "cell_type": "code",
      "source": [
        "nota1 = float(input(\"Digite sua primeira nota:\"))\n",
        "nota2 = float(input(\"Digite sua segunda nota:\"))\n",
        "nota3 = float(input(\"Digite sua terceira nota:\"))\n",
        "notas_aluno = (nota1, nota2, nota3)\n",
        "mediaNota = sum(notas_aluno) / len(notas_aluno)\n",
        "\n",
        "#print(round(mediaNota,2))\n",
        "print(f\"resultado: {mediaNota:.2f}\")"
      ],
      "metadata": {
        "colab": {
          "base_uri": "https://localhost:8080/"
        },
        "id": "AYq1MquDb9-_",
        "outputId": "ea5d0cbb-4a6c-4149-c5e3-77223c8fbd8f"
      },
      "execution_count": null,
      "outputs": [
        {
          "output_type": "stream",
          "name": "stdout",
          "text": [
            "Digite sua primeira nota:10\n",
            "Digite sua segunda nota:8\n",
            "Digite sua terceira nota:4\n",
            "resultado: 7.33\n"
          ]
        }
      ]
    },
    {
      "cell_type": "markdown",
      "source": [
        "# **if else**"
      ],
      "metadata": {
        "id": "FN1zJwv8c6Yf"
      }
    },
    {
      "cell_type": "code",
      "source": [
        "4 == 4"
      ],
      "metadata": {
        "colab": {
          "base_uri": "https://localhost:8080/"
        },
        "id": "bVEs9F4ic523",
        "outputId": "4cd03cfe-4a56-42ae-9bd9-7887641cea2d"
      },
      "execution_count": null,
      "outputs": [
        {
          "output_type": "execute_result",
          "data": {
            "text/plain": [
              "True"
            ]
          },
          "metadata": {},
          "execution_count": 1
        }
      ]
    },
    {
      "cell_type": "code",
      "source": [
        "'a' == 7"
      ],
      "metadata": {
        "colab": {
          "base_uri": "https://localhost:8080/"
        },
        "id": "vfkm8wb1dDlI",
        "outputId": "3afe0200-6e63-45f3-99c2-c10dbfcc7ef2"
      },
      "execution_count": null,
      "outputs": [
        {
          "output_type": "execute_result",
          "data": {
            "text/plain": [
              "False"
            ]
          },
          "metadata": {},
          "execution_count": 2
        }
      ]
    },
    {
      "cell_type": "code",
      "source": [
        "5 == 10/2"
      ],
      "metadata": {
        "colab": {
          "base_uri": "https://localhost:8080/"
        },
        "id": "-CQ1jCk5dHJn",
        "outputId": "811cf5f0-41b6-4b68-aa25-d883382664d7"
      },
      "execution_count": null,
      "outputs": [
        {
          "output_type": "execute_result",
          "data": {
            "text/plain": [
              "True"
            ]
          },
          "metadata": {},
          "execution_count": 3
        }
      ]
    },
    {
      "cell_type": "code",
      "source": [
        "5 != 5"
      ],
      "metadata": {
        "colab": {
          "base_uri": "https://localhost:8080/"
        },
        "id": "HdjuIZI-dgUv",
        "outputId": "65238a0d-9895-416f-b699-e19b9a1f62cf"
      },
      "execution_count": null,
      "outputs": [
        {
          "output_type": "execute_result",
          "data": {
            "text/plain": [
              "False"
            ]
          },
          "metadata": {},
          "execution_count": 7
        }
      ]
    },
    {
      "cell_type": "code",
      "source": [
        "'a' != 'a'"
      ],
      "metadata": {
        "colab": {
          "base_uri": "https://localhost:8080/"
        },
        "id": "k02hPnlkdkl3",
        "outputId": "911ac6c7-a853-4e35-dfcd-99e0fe1021a8"
      },
      "execution_count": null,
      "outputs": [
        {
          "output_type": "execute_result",
          "data": {
            "text/plain": [
              "False"
            ]
          },
          "metadata": {},
          "execution_count": 8
        }
      ]
    },
    {
      "cell_type": "code",
      "source": [
        "10 != 100/10"
      ],
      "metadata": {
        "colab": {
          "base_uri": "https://localhost:8080/"
        },
        "id": "5QiWZ0UDdo0h",
        "outputId": "dfe038a4-c0bd-4cb1-80ab-1f4111c24766"
      },
      "execution_count": null,
      "outputs": [
        {
          "output_type": "execute_result",
          "data": {
            "text/plain": [
              "False"
            ]
          },
          "metadata": {},
          "execution_count": 9
        }
      ]
    },
    {
      "cell_type": "code",
      "source": [
        "10 > 10"
      ],
      "metadata": {
        "colab": {
          "base_uri": "https://localhost:8080/"
        },
        "id": "n1LNP3n5e0ZH",
        "outputId": "16095af2-9fed-4108-f541-57f07b54578d"
      },
      "execution_count": null,
      "outputs": [
        {
          "output_type": "execute_result",
          "data": {
            "text/plain": [
              "False"
            ]
          },
          "metadata": {},
          "execution_count": 15
        }
      ]
    },
    {
      "cell_type": "code",
      "source": [
        "10 >= 10"
      ],
      "metadata": {
        "colab": {
          "base_uri": "https://localhost:8080/"
        },
        "id": "3O32av8fe2bv",
        "outputId": "0d06052d-fe1c-40d7-809e-2e838018604f"
      },
      "execution_count": null,
      "outputs": [
        {
          "output_type": "execute_result",
          "data": {
            "text/plain": [
              "True"
            ]
          },
          "metadata": {},
          "execution_count": 16
        }
      ]
    },
    {
      "cell_type": "code",
      "source": [
        "11 > 9"
      ],
      "metadata": {
        "colab": {
          "base_uri": "https://localhost:8080/"
        },
        "id": "sODiwsF3fDO-",
        "outputId": "e0de54ca-5519-46b4-8935-c47f26791e3c"
      },
      "execution_count": null,
      "outputs": [
        {
          "output_type": "execute_result",
          "data": {
            "text/plain": [
              "True"
            ]
          },
          "metadata": {},
          "execution_count": 17
        }
      ]
    },
    {
      "cell_type": "code",
      "source": [
        "'a' > 'b'"
      ],
      "metadata": {
        "colab": {
          "base_uri": "https://localhost:8080/"
        },
        "id": "JFaxe2HDfGv-",
        "outputId": "47254250-232c-419b-d69f-9496b8b367c9"
      },
      "execution_count": null,
      "outputs": [
        {
          "output_type": "execute_result",
          "data": {
            "text/plain": [
              "False"
            ]
          },
          "metadata": {},
          "execution_count": 18
        }
      ]
    },
    {
      "cell_type": "code",
      "source": [
        "'b' > 'a'"
      ],
      "metadata": {
        "colab": {
          "base_uri": "https://localhost:8080/"
        },
        "id": "bLljYJoAfJi-",
        "outputId": "68e4c4de-89f1-424d-8ac3-88cbc649d582"
      },
      "execution_count": null,
      "outputs": [
        {
          "output_type": "execute_result",
          "data": {
            "text/plain": [
              "True"
            ]
          },
          "metadata": {},
          "execution_count": 19
        }
      ]
    },
    {
      "cell_type": "code",
      "source": [
        "'a' < 'b'"
      ],
      "metadata": {
        "colab": {
          "base_uri": "https://localhost:8080/"
        },
        "id": "K7hY1t3UfoCn",
        "outputId": "89a3aace-f91f-42b7-a907-a5d8ae4e4b5c"
      },
      "execution_count": null,
      "outputs": [
        {
          "output_type": "execute_result",
          "data": {
            "text/plain": [
              "True"
            ]
          },
          "metadata": {},
          "execution_count": 21
        }
      ]
    },
    {
      "cell_type": "code",
      "source": [
        "10 <= 10"
      ],
      "metadata": {
        "colab": {
          "base_uri": "https://localhost:8080/"
        },
        "id": "qWc1f_P6fqfG",
        "outputId": "eff45de7-a79d-4918-ab23-d7f4c6354bcb"
      },
      "execution_count": null,
      "outputs": [
        {
          "output_type": "execute_result",
          "data": {
            "text/plain": [
              "True"
            ]
          },
          "metadata": {},
          "execution_count": 22
        }
      ]
    },
    {
      "cell_type": "code",
      "source": [
        "10 < 100"
      ],
      "metadata": {
        "colab": {
          "base_uri": "https://localhost:8080/"
        },
        "id": "5r1b6fs7fte_",
        "outputId": "24573397-ab95-46cb-b7c0-13c27c0203ab"
      },
      "execution_count": null,
      "outputs": [
        {
          "output_type": "execute_result",
          "data": {
            "text/plain": [
              "True"
            ]
          },
          "metadata": {},
          "execution_count": 23
        }
      ]
    },
    {
      "cell_type": "markdown",
      "source": [
        "# **AND, OR**"
      ],
      "metadata": {
        "id": "jBxtK94nh0vH"
      }
    },
    {
      "cell_type": "code",
      "source": [
        "A = 4 == 4\n",
        "B = 4 > 10\n",
        "\n",
        "print(A)\n",
        "print(B)"
      ],
      "metadata": {
        "colab": {
          "base_uri": "https://localhost:8080/"
        },
        "id": "o-eaL41Jh3pO",
        "outputId": "6568c621-74ea-4275-beaa-8765d0730c19"
      },
      "execution_count": null,
      "outputs": [
        {
          "output_type": "stream",
          "name": "stdout",
          "text": [
            "True\n",
            "False\n"
          ]
        }
      ]
    },
    {
      "cell_type": "code",
      "source": [
        "A and B"
      ],
      "metadata": {
        "colab": {
          "base_uri": "https://localhost:8080/"
        },
        "id": "Firew2AJiBte",
        "outputId": "f3bf4b30-7dcc-4b5b-f123-74154da4398c"
      },
      "execution_count": null,
      "outputs": [
        {
          "output_type": "execute_result",
          "data": {
            "text/plain": [
              "False"
            ]
          },
          "metadata": {},
          "execution_count": 25
        }
      ]
    },
    {
      "cell_type": "code",
      "source": [
        "A = 4 == 4\n",
        "B = 4 7 10\n",
        "\n",
        "print(A)\n",
        "print(B)"
      ],
      "metadata": {
        "id": "11jFlSdsiJ6m"
      },
      "execution_count": null,
      "outputs": []
    },
    {
      "cell_type": "code",
      "source": [
        "A or B"
      ],
      "metadata": {
        "colab": {
          "base_uri": "https://localhost:8080/"
        },
        "id": "h21VV0w4in4l",
        "outputId": "762cf1e7-834d-41d1-f956-e37a7df47f37"
      },
      "execution_count": null,
      "outputs": [
        {
          "output_type": "execute_result",
          "data": {
            "text/plain": [
              "True"
            ]
          },
          "metadata": {},
          "execution_count": 26
        }
      ]
    },
    {
      "cell_type": "code",
      "source": [
        "formG = input(\"Digite seu genero: (M ou F) \")\n",
        "formI = int(input(\"Digite sua idade: \"))\n",
        "if formI >= 18 and formG == 'M':\n",
        "  print('parabens! conseguiu entrar para o time')\n",
        "elif formI < 18:\n",
        "  print('Você é menor de idade, não podemos continuar')\n",
        "elif formG != 'M':\n",
        "  print('Você é mulher, só aceitamos do sexo masculino')\n",
        "else:\n",
        "  print(\"Digite as informações corretamente\")"
      ],
      "metadata": {
        "colab": {
          "base_uri": "https://localhost:8080/"
        },
        "id": "mF0pvcIIisLm",
        "outputId": "ed154b47-650b-4b33-a67d-6d4d8d53a0ee"
      },
      "execution_count": null,
      "outputs": [
        {
          "output_type": "stream",
          "name": "stdout",
          "text": [
            "Digite seu genero: (M ou F) M\n",
            "Digite sua idade: 19\n",
            "parabens! conseguiu entrar para o time\n"
          ]
        }
      ]
    },
    {
      "cell_type": "code",
      "source": [
        "A = float(input(\"Digite um numero: \"))\n",
        "B = float(input(\"Digite outro numero: \"))\n",
        "if A > B:\n",
        "  print('A é maior que B')\n",
        "else:\n",
        "  print('A é menor que B')"
      ],
      "metadata": {
        "colab": {
          "base_uri": "https://localhost:8080/"
        },
        "id": "atTQmPv2m3bd",
        "outputId": "41c2bc28-41bf-4696-8392-d9322ae9d982"
      },
      "execution_count": null,
      "outputs": [
        {
          "output_type": "stream",
          "name": "stdout",
          "text": [
            "Digite um numero: 14\n",
            "Digite outro numero: 156\n",
            "A é menor que B\n"
          ]
        }
      ]
    },
    {
      "cell_type": "markdown",
      "source": [
        "# **NOT**"
      ],
      "metadata": {
        "id": "EXrZYpYMjLYO"
      }
    },
    {
      "cell_type": "code",
      "source": [
        "print(4 == 4)\n",
        "print('----------')\n",
        "print(not 4 == 4)"
      ],
      "metadata": {
        "colab": {
          "base_uri": "https://localhost:8080/"
        },
        "id": "gaalB1VojJPl",
        "outputId": "4aef5fb6-1c26-4429-88f2-53e8ff979bb5"
      },
      "execution_count": null,
      "outputs": [
        {
          "output_type": "stream",
          "name": "stdout",
          "text": [
            "True\n",
            "----------\n",
            "False\n"
          ]
        }
      ]
    },
    {
      "cell_type": "code",
      "source": [
        "A = float(input(\"Digite o numero do A: \"))\n",
        "B = float(input(\"Digite o numero da B: \"))\n",
        "\n",
        "#if (A/B) == 2:\n",
        "if A == 2*B:\n",
        "  print('A é duas vezes maior que B')\n",
        "elif  A > B:\n",
        "  print('A é +++maior que B')\n",
        "else:\n",
        "  print('A é ---menor que B')"
      ],
      "metadata": {
        "colab": {
          "base_uri": "https://localhost:8080/"
        },
        "id": "6DVH0SrJ13GK",
        "outputId": "51881912-ef1d-4e89-89f8-ef9b4c09b47b"
      },
      "execution_count": null,
      "outputs": [
        {
          "output_type": "stream",
          "name": "stdout",
          "text": [
            "Digite o numero do A: 100\n",
            "Digite o numero da B: 50\n",
            "A é duas vezes maior que B\n"
          ]
        }
      ]
    },
    {
      "cell_type": "code",
      "source": [
        "numero = int(input(\"Digite um numero: \"))\n",
        "\n",
        "if numero % 2 == 0:\n",
        "  print(\"O Numero é par\")\n",
        "else:\n",
        "  print(\"O Numero é ímpar\")"
      ],
      "metadata": {
        "colab": {
          "base_uri": "https://localhost:8080/"
        },
        "id": "nucs0zLC6WIq",
        "outputId": "c245e0e1-0531-4efa-ba06-41f91663e5f4"
      },
      "execution_count": null,
      "outputs": [
        {
          "output_type": "stream",
          "name": "stdout",
          "text": [
            "Digite um numero: 123\n",
            "O Numero é ímpar\n"
          ]
        }
      ]
    },
    {
      "cell_type": "code",
      "source": [
        "idade = int(input(\"Digite sua idade: \"))\n",
        "if idade >= 18:\n",
        "  print('Você é maior de idade.')\n",
        "else:\n",
        "  print('Você é menor de idade.')"
      ],
      "metadata": {
        "colab": {
          "base_uri": "https://localhost:8080/"
        },
        "id": "iT4pLWZB8-cx",
        "outputId": "48e93f0a-973c-4d6d-ba4d-5408d2efb252"
      },
      "execution_count": null,
      "outputs": [
        {
          "output_type": "stream",
          "name": "stdout",
          "text": [
            "Digite sua idade: 18\n",
            "Você é maior de idade.\n"
          ]
        }
      ]
    },
    {
      "cell_type": "code",
      "source": [
        "nota = float(input(\"Digite a sua nota de 0 a 10: \"))\n",
        "\n",
        "if nota >= 9:\n",
        "  print('A')\n",
        "elif nota >= 7:\n",
        "  print('B')\n",
        "elif nota >= 5:\n",
        "  print('C')\n",
        "else:\n",
        "  print('D')"
      ],
      "metadata": {
        "colab": {
          "base_uri": "https://localhost:8080/"
        },
        "id": "hTCsuOIU-F9J",
        "outputId": "2435529f-eac0-47a0-f42d-22cddc2bb50a"
      },
      "execution_count": null,
      "outputs": [
        {
          "output_type": "stream",
          "name": "stdout",
          "text": [
            "Digite a sua nota de 0 a 10: 15\n",
            "A\n"
          ]
        }
      ]
    },
    {
      "cell_type": "code",
      "source": [
        "numero = int(input(\"digite um numero: \"))\n",
        "\n",
        "if numero > 0:\n",
        "  print(\"Numero é positivo\")\n",
        "elif numero < 0:\n",
        "  print(\"Numero negativo\")\n",
        "else:\n",
        "  print(\"Zero\")"
      ],
      "metadata": {
        "colab": {
          "base_uri": "https://localhost:8080/"
        },
        "id": "a1AgA2pSGWyO",
        "outputId": "be4003e7-f12d-4a43-9eb1-328a69cf19ad"
      },
      "execution_count": null,
      "outputs": [
        {
          "output_type": "stream",
          "name": "stdout",
          "text": [
            "digite um numero: 0\n",
            "Zero\n"
          ]
        }
      ]
    },
    {
      "cell_type": "code",
      "source": [
        "idade = int(input(\"Digite sua idade: \"))\n",
        "if idade >= 65:\n",
        "  print('Idoso')\n",
        "elif idade >= 18:\n",
        "  print(\"Adulto\")\n",
        "else:\n",
        "  print('Criança/Adolescente')"
      ],
      "metadata": {
        "colab": {
          "base_uri": "https://localhost:8080/"
        },
        "id": "3AgYBtazHesn",
        "outputId": "a01cb350-8a5d-4fb0-ffc3-1f1dca6868df"
      },
      "execution_count": null,
      "outputs": [
        {
          "output_type": "stream",
          "name": "stdout",
          "text": [
            "Digite sua idade: 66\n",
            "Idoso\n"
          ]
        }
      ]
    },
    {
      "cell_type": "code",
      "source": [
        "nacionalidade = input(\"Digite sua nacionalidade (brasileiro, americano, canadense): \")\n",
        "\n",
        "match nacionalidade:\n",
        "  case \"brasileiro\":\n",
        "    print(\"Você é do Brasil!\")\n",
        "  case \"americano\":\n",
        "    print(\"Você é do EUA!\")\n",
        "  case \"canadense\":\n",
        "    print(\"Você é do País do Justin Bieber!\")\n",
        "  case _:\n",
        "    print(\"Digite uma das três opções!\")"
      ],
      "metadata": {
        "colab": {
          "base_uri": "https://localhost:8080/"
        },
        "id": "p8lZtw3AkngU",
        "outputId": "63a6ecd2-0c6c-4404-8ade-c2db60c2b70d"
      },
      "execution_count": null,
      "outputs": [
        {
          "output_type": "stream",
          "name": "stdout",
          "text": [
            "Digite sua nacionalidade (brasileiro, americano, canadense): uruguaiano\n",
            "Digite uma das três opções!\n"
          ]
        }
      ]
    },
    {
      "cell_type": "code",
      "source": [
        "cor = \"vermelho\"\n",
        "\n",
        "match cor:\n",
        "  case \"vermelho\" | \"azul\" | \"verde\":\n",
        "    print(\"É uma cor primária\")\n",
        "  case _:\n",
        "    print(\"Cor não reconhecida\")"
      ],
      "metadata": {
        "colab": {
          "base_uri": "https://localhost:8080/"
        },
        "id": "Ksft6wzVpmas",
        "outputId": "1b335498-7bbf-4d25-dc06-1fc2ce6a03fb"
      },
      "execution_count": null,
      "outputs": [
        {
          "output_type": "stream",
          "name": "stdout",
          "text": [
            "É uma cor primária\n"
          ]
        }
      ]
    },
    {
      "cell_type": "code",
      "source": [
        "dados = [42, \"resposta\"]\n",
        "\n",
        "match dados:\n",
        "  case [str(numero), int(texto)] if numero == 42 and texto == \"resposta\":\n",
        "    print(\"Encontramos a resposta\")\n",
        "  case _:\n",
        "    print(\"Dados diferentes\")"
      ],
      "metadata": {
        "colab": {
          "base_uri": "https://localhost:8080/"
        },
        "id": "2tNpq-FxtIx1",
        "outputId": "04d671ea-d324-458c-df1f-e8db66953f1e"
      },
      "execution_count": null,
      "outputs": [
        {
          "output_type": "stream",
          "name": "stdout",
          "text": [
            "Dados diferentes\n"
          ]
        }
      ]
    },
    {
      "cell_type": "code",
      "source": [
        "'''  5 > 3 and 10 < 20 '''"
      ],
      "metadata": {
        "colab": {
          "base_uri": "https://localhost:8080/"
        },
        "id": "dEMrkBto-okU",
        "outputId": "a2bc3c73-aa70-4750-8470-04ae743c29d8"
      },
      "execution_count": null,
      "outputs": [
        {
          "output_type": "execute_result",
          "data": {
            "text/plain": [
              "True"
            ]
          },
          "metadata": {},
          "execution_count": 7
        }
      ]
    },
    {
      "cell_type": "code",
      "source": [
        "'''  True and False '''"
      ],
      "metadata": {
        "colab": {
          "base_uri": "https://localhost:8080/"
        },
        "id": "JU7vaGC1-r-s",
        "outputId": "5b788f5e-0a0d-4fed-e7d4-da4a325c1ee0"
      },
      "execution_count": null,
      "outputs": [
        {
          "output_type": "execute_result",
          "data": {
            "text/plain": [
              "False"
            ]
          },
          "metadata": {},
          "execution_count": 8
        }
      ]
    },
    {
      "cell_type": "markdown",
      "source": [
        "# **Atividade 7 -- 1)**"
      ],
      "metadata": {
        "id": "WtOdnyE8_ArU"
      }
    },
    {
      "cell_type": "code",
      "source": [
        "salario_func = float(input(\"Por favor, escreva seu salário atual na empresa: \"))\n",
        "autovaliacao_func = int(input(\"Em uma escala de 1 a 5, faça sua autoavaliação de desempenho na empresa: \"))\n",
        "\n",
        "if autovaliacao_func == 5:\n",
        "  resultado = salario_func * 0.2\n",
        "  print(f\"Você recebera um bônus que será de {resultado:.2F}, 20% do seu salário atual.\")\n",
        "elif autovaliacao_func == 4:\n",
        "  resultado = salario_func * 0.15\n",
        "  print(f\"Você recebera um bônus que será de {resultado:.2F}, 15% do seu salário atual.\")\n",
        "elif autovaliacao_func == 3:\n",
        "  resultado = salario_func * 0.1\n",
        "  print(f\"Você recebera um bônus que será de {resultado:.2F}, 10% do seu salário atual.\")\n",
        "elif autovaliacao_func == 2:\n",
        "  resultado = salario_func * 0.05\n",
        "  print(f\"Você recebera um bônus que será de {resultado:.2F}, 5% do seu salário atual.\")\n",
        "elif autovaliacao_func == 1:\n",
        "  print(f\"Você não recebera um bônus no seu salário.\")\n",
        "else:\n",
        "  print(\"Digite um numero em uma escala de 1 a 5!!\")"
      ],
      "metadata": {
        "colab": {
          "base_uri": "https://localhost:8080/"
        },
        "id": "021HaYNN_xTU",
        "outputId": "cffcbd41-e132-4521-a1ec-1102ccbe9e7b"
      },
      "execution_count": null,
      "outputs": [
        {
          "output_type": "stream",
          "name": "stdout",
          "text": [
            "Por favor, escreva seu salário atual na empresa: 0\n",
            "Em uma escala de 1 a 5, faça sua autoavaliação de desempenho na empresa: 0\n",
            "Digite um numero em uma escala de 1 a 5!!\n"
          ]
        }
      ]
    },
    {
      "cell_type": "markdown",
      "source": [
        "# **2)**"
      ],
      "metadata": {
        "id": "yyPdInvCBeUj"
      }
    },
    {
      "cell_type": "code",
      "source": [
        "numero = float(input(\"digite um numero: \"))\n",
        "\n",
        "if numero > 0:\n",
        "  print(\"Numero é positivo\")\n",
        "elif numero < 0:\n",
        "  print(\"Numero negativo\")\n",
        "else:\n",
        "  print(\"Zero\")"
      ],
      "metadata": {
        "colab": {
          "base_uri": "https://localhost:8080/"
        },
        "id": "ZCXoNZ0nBdm8",
        "outputId": "3fddeda2-8b35-49fd-8a9c-1354a68b8e38"
      },
      "execution_count": null,
      "outputs": [
        {
          "output_type": "stream",
          "name": "stdout",
          "text": [
            "digite um numero: 1562.98\n",
            "Numero é positivo\n"
          ]
        }
      ]
    },
    {
      "cell_type": "markdown",
      "source": [
        "# **3)**"
      ],
      "metadata": {
        "id": "zd-AwyDaCKvb"
      }
    },
    {
      "cell_type": "code",
      "source": [
        "renda_mensal = float(input(\"Digite sua Renda Mensal: \"))\n",
        "pontuacao_credito = float(input(\"Digite sua Pontuação de Crédito: \"))\n",
        "inputs = [renda_mensal, pontuacao_credito]\n",
        "match inputs:\n",
        "  case [renda, pontuacao] if renda > 5000 and pontuacao >= 700:\n",
        "    print(\"Você é um cliente elegível para o empréstimo.\")\n",
        "  case [renda, pontuacao] if renda > 3000 and pontuacao >= 600:\n",
        "    print(\"Você é um cliente elegível para o empréstimo, mas com uma taxa de juros mais alta.\")\n",
        "  case _:\n",
        "    print(\"Dados insuficientes, cliente não é elegível para o empréstimo\")"
      ],
      "metadata": {
        "colab": {
          "base_uri": "https://localhost:8080/"
        },
        "id": "n4PJR-0bCMQz",
        "outputId": "f1ba5f82-662c-463f-f876-4c73ea4fdaa3"
      },
      "execution_count": null,
      "outputs": [
        {
          "output_type": "stream",
          "name": "stdout",
          "text": [
            "Digite sua Renda Mensal: 5000\n",
            "Digite sua Pontuação de Crédito: 600\n",
            "Você é um cliente elegível para o empréstimo, mas com uma taxa de juros mais alta.\n"
          ]
        }
      ]
    },
    {
      "cell_type": "markdown",
      "source": [
        "# **For e While**"
      ],
      "metadata": {
        "id": "qQy_hm8awiYS"
      }
    },
    {
      "cell_type": "code",
      "source": [
        "%%time\n",
        "n = int(input(\"informe o numero para calcular o seu fatorial: \"))\n",
        "\n",
        "resultado = 1\n",
        "i = 1\n",
        "\n",
        "while i <= n:\n",
        "  resultado = resultado * i\n",
        "  i = i + 1\n",
        "\n",
        "print(\"O fatorial de {} é: {}\".format(n, resultado))"
      ],
      "metadata": {
        "colab": {
          "base_uri": "https://localhost:8080/"
        },
        "id": "aYOxsXyMwiCT",
        "outputId": "893b83e0-58bd-443e-9d8f-55fcb338d17b"
      },
      "execution_count": null,
      "outputs": [
        {
          "output_type": "stream",
          "name": "stdout",
          "text": [
            "informe o numero para calcular o seu fatorial: 6\n",
            "O fatorial de 6 é: 720\n",
            "CPU times: user 29.3 ms, sys: 3.06 ms, total: 32.3 ms\n",
            "Wall time: 1.47 s\n"
          ]
        }
      ]
    },
    {
      "cell_type": "code",
      "source": [
        "%%time\n",
        "n = 5\n",
        "\n",
        "i = 1\n",
        "\n",
        "while i <= n:\n",
        "  print(\"Print : {}\".format(i))\n",
        "  i = i + 1\n",
        "\n",
        "print(\"O esses são os os numeros de 1 a 5\")"
      ],
      "metadata": {
        "colab": {
          "base_uri": "https://localhost:8080/"
        },
        "id": "mzu_HCjhtuUz",
        "outputId": "0de6a5b8-c114-4bd7-d2a1-eb4ba0371181"
      },
      "execution_count": null,
      "outputs": [
        {
          "output_type": "stream",
          "name": "stdout",
          "text": [
            "Print : 1\n",
            "Print : 2\n",
            "Print : 3\n",
            "Print : 4\n",
            "Print : 5\n",
            "O esses são os os numeros de 1 a 5\n",
            "CPU times: user 2 ms, sys: 1.03 ms, total: 3.03 ms\n",
            "Wall time: 2.96 ms\n"
          ]
        }
      ]
    },
    {
      "cell_type": "markdown",
      "source": [
        "# **ou**"
      ],
      "metadata": {
        "id": "AtF7l-8W25cR"
      }
    },
    {
      "cell_type": "code",
      "source": [
        "contador = 1\n",
        "while contador <= 5:\n",
        "  print(contador)\n",
        "  contador += contador"
      ],
      "metadata": {
        "colab": {
          "base_uri": "https://localhost:8080/"
        },
        "id": "nhifUmx7237y",
        "outputId": "698dc930-a240-4e04-ea26-2b218f1d6bab"
      },
      "execution_count": null,
      "outputs": [
        {
          "output_type": "stream",
          "name": "stdout",
          "text": [
            "1\n",
            "2\n",
            "4\n"
          ]
        }
      ]
    },
    {
      "cell_type": "code",
      "source": [
        "num = int(input(\"Digite um numero inteiro: \"))\n",
        "\n",
        "contador = 1\n",
        "\n",
        "while contador <= num:\n",
        "  impar = num % 2 != 0\n",
        "  contador += impar\n",
        "\n",
        "print(contador)"
      ],
      "metadata": {
        "colab": {
          "base_uri": "https://localhost:8080/",
          "height": 228
        },
        "id": "3Yyz7LZD3g8K",
        "outputId": "4097eca4-1950-413e-a077-a13bc1488fc7"
      },
      "execution_count": null,
      "outputs": [
        {
          "name": "stdout",
          "output_type": "stream",
          "text": [
            "Digite um numero inteiro: 20\n"
          ]
        },
        {
          "output_type": "error",
          "ename": "KeyboardInterrupt",
          "evalue": "",
          "traceback": [
            "\u001b[0;31m---------------------------------------------------------------------------\u001b[0m",
            "\u001b[0;31mKeyboardInterrupt\u001b[0m                         Traceback (most recent call last)",
            "\u001b[0;32m<ipython-input-74-0b51d7ec5b37>\u001b[0m in \u001b[0;36m<cell line: 5>\u001b[0;34m()\u001b[0m\n\u001b[1;32m      3\u001b[0m \u001b[0mcontador\u001b[0m \u001b[0;34m=\u001b[0m \u001b[0;36m1\u001b[0m\u001b[0;34m\u001b[0m\u001b[0;34m\u001b[0m\u001b[0m\n\u001b[1;32m      4\u001b[0m \u001b[0;34m\u001b[0m\u001b[0m\n\u001b[0;32m----> 5\u001b[0;31m \u001b[0;32mwhile\u001b[0m \u001b[0mcontador\u001b[0m \u001b[0;34m<=\u001b[0m \u001b[0mnum\u001b[0m\u001b[0;34m:\u001b[0m\u001b[0;34m\u001b[0m\u001b[0;34m\u001b[0m\u001b[0m\n\u001b[0m\u001b[1;32m      6\u001b[0m   \u001b[0mimpar\u001b[0m \u001b[0;34m=\u001b[0m \u001b[0mnum\u001b[0m \u001b[0;34m%\u001b[0m \u001b[0;36m2\u001b[0m \u001b[0;34m!=\u001b[0m \u001b[0;36m0\u001b[0m\u001b[0;34m\u001b[0m\u001b[0;34m\u001b[0m\u001b[0m\n\u001b[1;32m      7\u001b[0m   \u001b[0mcontador\u001b[0m \u001b[0;34m+=\u001b[0m \u001b[0mimpar\u001b[0m\u001b[0;34m\u001b[0m\u001b[0;34m\u001b[0m\u001b[0m\n",
            "\u001b[0;31mKeyboardInterrupt\u001b[0m: "
          ]
        }
      ]
    },
    {
      "cell_type": "markdown",
      "source": [
        "faz uma conta de todos os numeros impares dentro do valor inserido. ex: 20 (é 100)"
      ],
      "metadata": {
        "id": "peaa58oBHlXK"
      }
    },
    {
      "cell_type": "code",
      "source": [
        "num = int(input(\"Digite um numero inteiro: \"))\n",
        "soma_impar = 0\n",
        "contador = 1\n",
        "\n",
        "while contador <= num:\n",
        "  if contador % 2 != 0:\n",
        "    soma_impar += contador\n",
        "  contador += 1\n",
        "\n",
        "print(f'Essa é a soma dos numeros impares de {num}, é {soma_impar}')"
      ],
      "metadata": {
        "colab": {
          "base_uri": "https://localhost:8080/"
        },
        "id": "hG9knulv_SZK",
        "outputId": "438f7043-faac-424c-b84f-3f64b740bb12"
      },
      "execution_count": null,
      "outputs": [
        {
          "output_type": "stream",
          "name": "stdout",
          "text": [
            "Digite um numero inteiro: 20\n",
            "Essa é a soma dos numeros impares de 20, \"é\" 100\n"
          ]
        }
      ]
    },
    {
      "cell_type": "markdown",
      "source": [
        "# **tabuada usando o while**"
      ],
      "metadata": {
        "id": "kBVEClKeIKJJ"
      }
    },
    {
      "cell_type": "code",
      "source": [
        "num = int(input(\"Digite um numero de 1 a 10: \"))\n",
        "contador = 1\n",
        "tabuada = 0\n",
        "\n",
        "while contador <= 10:\n",
        "  tabuada = contador * num\n",
        "  contador += 1\n",
        "  print(f\"{num} X {contador} = {tabuada}\")"
      ],
      "metadata": {
        "colab": {
          "base_uri": "https://localhost:8080/"
        },
        "id": "lpK43PLXIKZR",
        "outputId": "b31b4e7d-b5a1-4f22-a9fa-af07f6ad9b22"
      },
      "execution_count": null,
      "outputs": [
        {
          "output_type": "stream",
          "name": "stdout",
          "text": [
            "Digite um numero de 1 a 10: 6\n",
            "6 X 2 = 6\n",
            "6 X 3 = 12\n",
            "6 X 4 = 18\n",
            "6 X 5 = 24\n",
            "6 X 6 = 30\n",
            "6 X 7 = 36\n",
            "6 X 8 = 42\n",
            "6 X 9 = 48\n",
            "6 X 10 = 54\n",
            "6 X 11 = 60\n"
          ]
        }
      ]
    },
    {
      "cell_type": "markdown",
      "source": [
        "ex de looping infinito"
      ],
      "metadata": {
        "id": "D72K9a0JPuWR"
      }
    },
    {
      "cell_type": "code",
      "source": [
        "result = 1\n",
        "i = 1\n",
        "while i <= 100:\n",
        "  result = result * i\n",
        "#  i += 1\n",
        "print(result)"
      ],
      "metadata": {
        "colab": {
          "base_uri": "https://localhost:8080/"
        },
        "id": "_M9tpJ3lPxWZ",
        "outputId": "1e82a893-53eb-4735-d6e4-83ce8386ecdb"
      },
      "execution_count": null,
      "outputs": [
        {
          "output_type": "stream",
          "name": "stdout",
          "text": [
            "93326215443944152681699238856266700490715968264381621468592963895217599993229915608941463976156518286253697920827223758251185210916864000000000000000000000000\n"
          ]
        }
      ]
    },
    {
      "cell_type": "markdown",
      "source": [
        "BREAK. serve para sair da mesma linha do while"
      ],
      "metadata": {
        "id": "9q96gBCORbbZ"
      }
    },
    {
      "cell_type": "code",
      "source": [
        "i = 1\n",
        "result = 1\n",
        "\n",
        "while i <= 100:\n",
        "  result *= i\n",
        "  if i == 42:\n",
        "    print(\"Chegou no 42! Parar execução\")\n",
        "    break\n",
        "  i += 1\n",
        "print(\"i:\", i)\n",
        "print(\"resultado:\", result)"
      ],
      "metadata": {
        "colab": {
          "base_uri": "https://localhost:8080/"
        },
        "id": "pkhwH-K7R-Ox",
        "outputId": "fea5fb4d-9f98-489f-fbd7-9cfe8413fa86"
      },
      "execution_count": null,
      "outputs": [
        {
          "output_type": "stream",
          "name": "stdout",
          "text": [
            "Chegou no 42! Parar execução\n",
            "i: 42\n",
            "resultado: 1405006117752879898543142606244511569936384000000000\n"
          ]
        }
      ]
    },
    {
      "cell_type": "markdown",
      "source": [
        "CONTINUE. serve para parar o looping e voltar desde o começo"
      ],
      "metadata": {
        "id": "OCYxhbEHUpuy"
      }
    },
    {
      "cell_type": "code",
      "source": [
        "i = 1\n",
        "result = 1\n",
        "\n",
        "while i <= 20:\n",
        "  i += 1\n",
        "  if i % 2 == 0:\n",
        "    print(f\"Pular {i}\")\n",
        "    continue\n",
        "  print(f\"Multiplica com {i}\")\n",
        "  result *= i\n",
        "\n",
        "print(\"i:\", i)\n",
        "print(\"resultado:\", result)"
      ],
      "metadata": {
        "colab": {
          "base_uri": "https://localhost:8080/"
        },
        "id": "4crRDPvpUo1F",
        "outputId": "332f617b-9f66-4f1b-e138-d6f16ab31ffd"
      },
      "execution_count": null,
      "outputs": [
        {
          "output_type": "stream",
          "name": "stdout",
          "text": [
            "Pular 2\n",
            "Multiplica com 3\n",
            "Pular 4\n",
            "Multiplica com 5\n",
            "Pular 6\n",
            "Multiplica com 7\n",
            "Pular 8\n",
            "Multiplica com 9\n",
            "Pular 10\n",
            "Multiplica com 11\n",
            "Pular 12\n",
            "Multiplica com 13\n",
            "Pular 14\n",
            "Multiplica com 15\n",
            "Pular 16\n",
            "Multiplica com 17\n",
            "Pular 18\n",
            "Multiplica com 19\n",
            "Pular 20\n",
            "Multiplica com 21\n",
            "i: 21\n",
            "resultado: 13749310575\n"
          ]
        }
      ]
    },
    {
      "cell_type": "markdown",
      "source": [
        "desafio"
      ],
      "metadata": {
        "id": "hjPD9ypjV4i1"
      }
    },
    {
      "cell_type": "code",
      "source": [
        "import random\n",
        "numero_aleatorio = random.randint(1,5)\n",
        "contador = 1\n",
        "tentativa = int(input(\"Tente a sorte:(de 1 a 5): \"))\n",
        "while tentativa != numero_aleatorio:\n",
        "  tentativa = int(input(\"Tente a sorte:(de 1 a 5): \"))\n",
        "  if tentativa == numero_aleatorio:\n",
        "    print(\"Parabens!Você acerto e ganhou 1 milhao de reais\")\n",
        "    break"
      ],
      "metadata": {
        "colab": {
          "base_uri": "https://localhost:8080/"
        },
        "id": "bVc-D2NjYF4h",
        "outputId": "374484d5-4506-4106-cfe1-1a4beae08611"
      },
      "execution_count": null,
      "outputs": [
        {
          "output_type": "stream",
          "name": "stdout",
          "text": [
            "Tente a sorte:(de 1 a 5): 5\n",
            "Tente a sorte:(de 1 a 5): 4\n",
            "Tente a sorte:(de 1 a 5): 3\n",
            "Tente a sorte:(de 1 a 5): 2\n",
            "Parabens!Você acerto e ganhou 1 milhao de reais\n"
          ]
        }
      ]
    },
    {
      "cell_type": "markdown",
      "source": [
        "# **ex de for**"
      ],
      "metadata": {
        "id": "qcnqC4nK7LWT"
      }
    },
    {
      "cell_type": "code",
      "source": [
        "dias = ['segunda', 'terça', 'quarta', 'quinta', 'sexta']\n",
        "\n",
        "for dia in dias:\n",
        "  print(dia)"
      ],
      "metadata": {
        "colab": {
          "base_uri": "https://localhost:8080/"
        },
        "id": "f_hVBr4M6qm7",
        "outputId": "781b9438-b749-4359-c81f-0ea632df4f11"
      },
      "execution_count": null,
      "outputs": [
        {
          "output_type": "stream",
          "name": "stdout",
          "text": [
            "segunda\n",
            "terça\n",
            "quarta\n",
            "quinta\n",
            "sexta\n"
          ]
        }
      ]
    },
    {
      "cell_type": "code",
      "source": [
        "#looping sobre a string\n",
        "for char in 'Segunda ':\n",
        "  print(char)"
      ],
      "metadata": {
        "colab": {
          "base_uri": "https://localhost:8080/"
        },
        "id": "uniRWPb19KUb",
        "outputId": "684a8de8-17ac-4053-d8d0-fb58da43e0a8"
      },
      "execution_count": null,
      "outputs": [
        {
          "output_type": "stream",
          "name": "stdout",
          "text": [
            "S\n",
            "e\n",
            "g\n",
            "u\n",
            "n\n",
            "d\n",
            "a\n",
            " \n"
          ]
        }
      ]
    },
    {
      "cell_type": "code",
      "source": [
        "for fruta in ('Maçã', 'Banana', 'Uva'):\n",
        "  print(\"A fruta:\", fruta)"
      ],
      "metadata": {
        "colab": {
          "base_uri": "https://localhost:8080/"
        },
        "id": "MVqfVLi89xTT",
        "outputId": "55f8e557-245d-4142-a57a-8327a4229ceb"
      },
      "execution_count": null,
      "outputs": [
        {
          "output_type": "stream",
          "name": "stdout",
          "text": [
            "A fruta: Maçã\n",
            "A fruta: Banana\n",
            "A fruta: Uva\n"
          ]
        }
      ]
    },
    {
      "cell_type": "code",
      "source": [
        "#looping sobre dicionario\n",
        "\n",
        "person1 = {\n",
        "    'nome': 'Pedro',\n",
        "    'sexo': 'Masculino',\n",
        "    'idade': 18,\n",
        "    'casado': True\n",
        "}\n",
        "\n",
        "for key in person1:\n",
        "  print(\"Key:\", key, \" \", \"Value:\", person1[key])"
      ],
      "metadata": {
        "colab": {
          "base_uri": "https://localhost:8080/"
        },
        "id": "EBIXdCzS-tp7",
        "outputId": "31d63478-ef75-47e2-f8f5-de0835e0f6f9"
      },
      "execution_count": null,
      "outputs": [
        {
          "output_type": "stream",
          "name": "stdout",
          "text": [
            "Key: nome   Value: Pedro\n",
            "Key: sexo   Value: Masculino\n",
            "Key: idade   Value: 18\n",
            "Key: casado   Value: True\n"
          ]
        }
      ]
    },
    {
      "cell_type": "code",
      "source": [
        "for i in range(7):\n",
        "  print(i)"
      ],
      "metadata": {
        "colab": {
          "base_uri": "https://localhost:8080/"
        },
        "id": "Aa14UEgdARib",
        "outputId": "3816eb45-61cd-490e-9cfd-b81adfead12e"
      },
      "execution_count": null,
      "outputs": [
        {
          "output_type": "stream",
          "name": "stdout",
          "text": [
            "0\n",
            "1\n",
            "2\n",
            "3\n",
            "4\n",
            "5\n",
            "6\n"
          ]
        }
      ]
    },
    {
      "cell_type": "code",
      "source": [
        "for i in range(3, 16, 4):\n",
        "  print(i)"
      ],
      "metadata": {
        "colab": {
          "base_uri": "https://localhost:8080/"
        },
        "id": "xwMqFJ1rBG67",
        "outputId": "a0f45c90-7c88-42db-95c3-4f81e5db6f01"
      },
      "execution_count": null,
      "outputs": [
        {
          "output_type": "stream",
          "name": "stdout",
          "text": [
            "3\n",
            "7\n",
            "11\n",
            "15\n"
          ]
        }
      ]
    },
    {
      "cell_type": "code",
      "source": [
        "a_list= ['Segunda', 'Terça', 'Quarta', 'Quinta', 'Sexta']\n",
        "\n",
        "for i in range(len(a_list)):\n",
        "  print(\"O Valor na posição {} é {}\".format(i, a_list[i]))"
      ],
      "metadata": {
        "colab": {
          "base_uri": "https://localhost:8080/"
        },
        "id": "-B7zawIZCkHL",
        "outputId": "74a350aa-890a-46ff-ee8e-ea12520d41f5"
      },
      "execution_count": null,
      "outputs": [
        {
          "output_type": "stream",
          "name": "stdout",
          "text": [
            "O Valor na posição 0 é Segunda\n",
            "O Valor na posição 1 é Terça\n",
            "O Valor na posição 2 é Quarta\n",
            "O Valor na posição 3 é Quinta\n",
            "O Valor na posição 4 é Sexta\n"
          ]
        }
      ]
    },
    {
      "cell_type": "code",
      "source": [
        "persons= [{\n",
        "    'nome': 'Pedro',\n",
        "    'sexo': 'Masculino'\n",
        "}, {\n",
        "    'nome': 'Paola',\n",
        "    'sexo': 'Feminino'\n",
        "}]\n",
        "#Já que existe uma lista com 2 objetos, precisamos criar dois for.\n",
        "\n",
        "#Esse para pegar os (dois) objetos\n",
        "for person in persons:\n",
        "#esse aqui para pegar as chaves de cada objeto\n",
        "  for key in person:\n",
        "    print(key, \":\", person[key])# aqui ele pega a chave e o valor da chave logo em seguida\n",
        "  print(\" \")#para dar espaço entre os objetos\n"
      ],
      "metadata": {
        "colab": {
          "base_uri": "https://localhost:8080/"
        },
        "id": "p3zkQwzTDbjj",
        "outputId": "ed8ace4f-a89c-42f9-e154-7388a4782f7e"
      },
      "execution_count": null,
      "outputs": [
        {
          "output_type": "stream",
          "name": "stdout",
          "text": [
            "nome : Pedro\n",
            "sexo : Masculino\n",
            " \n",
            "nome : Paola\n",
            "sexo : Feminino\n",
            " \n"
          ]
        }
      ]
    },
    {
      "cell_type": "markdown",
      "source": [
        "exercicio"
      ],
      "metadata": {
        "id": "M8XT3BQWFt7c"
      }
    },
    {
      "cell_type": "code",
      "source": [
        "for i in range(1, 6):\n",
        "  print(i)"
      ],
      "metadata": {
        "colab": {
          "base_uri": "https://localhost:8080/"
        },
        "id": "PWaDs3XOFu5K",
        "outputId": "f6ecccff-e893-4169-9896-3c7a2a645f85"
      },
      "execution_count": null,
      "outputs": [
        {
          "output_type": "stream",
          "name": "stdout",
          "text": [
            "1\n",
            "2\n",
            "3\n",
            "4\n",
            "5\n"
          ]
        }
      ]
    },
    {
      "cell_type": "markdown",
      "source": [
        "# **tabuada usando o for**"
      ],
      "metadata": {
        "id": "IaOcOXVqGlny"
      }
    },
    {
      "cell_type": "code",
      "source": [
        "numero = int(input(\"Digite um numero de 1 a 10: \"))\n",
        "\n",
        "for i in range(1, 11):\n",
        "  resultado = numero * i\n",
        "  print(f\"{numero} X {i} = {resultado}\")"
      ],
      "metadata": {
        "colab": {
          "base_uri": "https://localhost:8080/"
        },
        "id": "ocKOeZQrGlYS",
        "outputId": "d15b8d9f-e1a2-44ab-a37c-840aa76fc25b"
      },
      "execution_count": null,
      "outputs": [
        {
          "output_type": "stream",
          "name": "stdout",
          "text": [
            "Digite um numero de 1 a 10: 9\n",
            "9 X 1 = 9\n",
            "9 X 2 = 18\n",
            "9 X 3 = 27\n",
            "9 X 4 = 36\n",
            "9 X 5 = 45\n",
            "9 X 6 = 54\n",
            "9 X 7 = 63\n",
            "9 X 8 = 72\n",
            "9 X 9 = 81\n",
            "9 X 10 = 90\n"
          ]
        }
      ]
    },
    {
      "cell_type": "markdown",
      "source": [
        "# **Utilizando for para pegar numeros pares**"
      ],
      "metadata": {
        "id": "41mK7d5BIsL7"
      }
    },
    {
      "cell_type": "code",
      "source": [
        "for i in range(101):\n",
        "  if i % 2 == 0:\n",
        "    print(i)\n",
        "#ou\n",
        "for i in range(0, 100):\n",
        "  if i % 2 == 0:\n",
        "    print(i)"
      ],
      "metadata": {
        "colab": {
          "base_uri": "https://localhost:8080/"
        },
        "id": "GgBvncSiIz4L",
        "outputId": "97bc5c2c-65ae-487c-fb94-d8f970d00895"
      },
      "execution_count": null,
      "outputs": [
        {
          "output_type": "stream",
          "name": "stdout",
          "text": [
            "0\n",
            "2\n",
            "4\n",
            "6\n",
            "8\n",
            "10\n",
            "12\n",
            "14\n",
            "16\n",
            "18\n",
            "20\n",
            "22\n",
            "24\n",
            "26\n",
            "28\n",
            "30\n",
            "32\n",
            "34\n",
            "36\n",
            "38\n",
            "40\n",
            "42\n",
            "44\n",
            "46\n",
            "48\n",
            "50\n",
            "52\n",
            "54\n",
            "56\n",
            "58\n",
            "60\n",
            "62\n",
            "64\n",
            "66\n",
            "68\n",
            "70\n",
            "72\n",
            "74\n",
            "76\n",
            "78\n",
            "80\n",
            "82\n",
            "84\n",
            "86\n",
            "88\n",
            "90\n",
            "92\n",
            "94\n",
            "96\n",
            "98\n",
            "100\n"
          ]
        }
      ]
    },
    {
      "cell_type": "markdown",
      "source": [
        "# **para fazer somar numeros pares**"
      ],
      "metadata": {
        "id": "cg1CLSOLKttj"
      }
    },
    {
      "cell_type": "code",
      "source": [
        "soma_par = 0\n",
        "for i in range(101):\n",
        "  if i % 2 == 0:\n",
        "    soma_par += i\n",
        "\n",
        "    #print(i)\n",
        "print(soma_par)"
      ],
      "metadata": {
        "colab": {
          "base_uri": "https://localhost:8080/"
        },
        "id": "cTHhuxAWKyJz",
        "outputId": "a222d2b5-de40-44d0-8856-be466ecf8e87"
      },
      "execution_count": null,
      "outputs": [
        {
          "output_type": "stream",
          "name": "stdout",
          "text": [
            "2550\n"
          ]
        }
      ]
    },
    {
      "cell_type": "markdown",
      "source": [
        "# **para somar todos**"
      ],
      "metadata": {
        "id": "kwIFZbL3LPFj"
      }
    },
    {
      "cell_type": "code",
      "source": [
        "soma_par = 0\n",
        "for i in range(101):\n",
        "  soma_par += i\n",
        "  #print(i)\n",
        "print(soma_par)"
      ],
      "metadata": {
        "colab": {
          "base_uri": "https://localhost:8080/"
        },
        "id": "ZrhyLADhLegq",
        "outputId": "6bef3159-8413-4d41-f83b-c17f2e09a919"
      },
      "execution_count": null,
      "outputs": [
        {
          "output_type": "stream",
          "name": "stdout",
          "text": [
            "5050\n"
          ]
        }
      ]
    },
    {
      "cell_type": "markdown",
      "source": [
        "# **para imprimir string**"
      ],
      "metadata": {
        "id": "yztJ3mpKL08a"
      }
    },
    {
      "cell_type": "code",
      "source": [
        "for letras in \"PYTHON\":\n",
        "  print(letras)"
      ],
      "metadata": {
        "colab": {
          "base_uri": "https://localhost:8080/"
        },
        "id": "tzABWckiL3Qy",
        "outputId": "ba1970f9-c890-4044-a230-9463adddfd4a"
      },
      "execution_count": null,
      "outputs": [
        {
          "output_type": "stream",
          "name": "stdout",
          "text": [
            "P\n",
            "Y\n",
            "T\n",
            "H\n",
            "O\n",
            "N\n"
          ]
        }
      ]
    },
    {
      "cell_type": "code",
      "source": [
        "numeros = [0, 1, 2, 3, 4, 5, 6, 7, 8, 9, 10]\n",
        "pares = 0\n",
        "for i in numeros:\n",
        "   if i % 2 == 0:\n",
        "    pares += 1\n",
        "    print(i)\n",
        "print(\"Existe {} numeros pares dentro dessa lista\".format(pares))"
      ],
      "metadata": {
        "colab": {
          "base_uri": "https://localhost:8080/"
        },
        "id": "YgfWRrq9YdSS",
        "outputId": "4d2ee8bb-6464-4367-870c-fce776acbba3"
      },
      "execution_count": null,
      "outputs": [
        {
          "output_type": "stream",
          "name": "stdout",
          "text": [
            "0\n",
            "2\n",
            "4\n",
            "6\n",
            "8\n",
            "10\n",
            "Existe 6 numeros pares dentro dessa lista\n"
          ]
        }
      ]
    },
    {
      "cell_type": "code",
      "source": [
        "notas_alunos = {\"João\": 8.5, \"Maria\": 7.2, \"Pedro\": 9.0}\n",
        "media = 0\n",
        "for i in notas_alunos:\n",
        "  media += notas_alunos[i]\n",
        "media /= len(notas_alunos)\n",
        "print(\"A media dos alunos : {}, é {}.\".format(i, media))"
      ],
      "metadata": {
        "colab": {
          "base_uri": "https://localhost:8080/"
        },
        "id": "INfBrqtqZlgi",
        "outputId": "9ae5f1fb-9afd-49a0-c8f7-e6117df03c4c"
      },
      "execution_count": null,
      "outputs": [
        {
          "output_type": "stream",
          "name": "stdout",
          "text": [
            "A media dos alunos : Pedro, é 8.233333333333333.\n"
          ]
        }
      ]
    },
    {
      "cell_type": "code",
      "source": [
        "pessoas = {\"João\": 28, \"Maria\": 35, \"Pedro\": 40, \"Ana\": 25}\n",
        "acima = []\n",
        "for i in pessoas:\n",
        "  if pessoas[i] >= 30:\n",
        "    acima.append(i)\n",
        "\n",
        "print(acima)"
      ],
      "metadata": {
        "colab": {
          "base_uri": "https://localhost:8080/"
        },
        "id": "dd2vsDyZjeiy",
        "outputId": "81c714c5-b0a0-4c78-8893-2842d2e0c368"
      },
      "execution_count": null,
      "outputs": [
        {
          "output_type": "stream",
          "name": "stdout",
          "text": [
            "['Maria', 'Pedro']\n"
          ]
        }
      ]
    },
    {
      "cell_type": "markdown",
      "source": [
        "def"
      ],
      "metadata": {
        "id": "VSYk2wna3kLU"
      }
    },
    {
      "cell_type": "markdown",
      "source": [
        "lambda"
      ],
      "metadata": {
        "id": "kgRJC9_g45hh"
      }
    },
    {
      "cell_type": "markdown",
      "source": [
        "# **(LAMBDA) função `*map*` - para fazer ao quadrado**"
      ],
      "metadata": {
        "id": "ofjUkYfa5WV6"
      }
    },
    {
      "cell_type": "code",
      "source": [
        "numeros = [1, 2, 3, 4, 5]\n",
        "ao_quadrado = list(map(lambda x: x**2, numeros))\n",
        "print(ao_quadrado)"
      ],
      "metadata": {
        "colab": {
          "base_uri": "https://localhost:8080/"
        },
        "id": "7ao8lwY05YQy",
        "outputId": "aacdc6e9-27f9-46aa-c8b9-0ffb2b141b82"
      },
      "execution_count": null,
      "outputs": [
        {
          "output_type": "stream",
          "name": "stdout",
          "text": [
            "[1, 4, 9, 16, 25]\n"
          ]
        }
      ]
    },
    {
      "cell_type": "markdown",
      "source": [
        "# **(LAMBDA) função `*filter*` - para pegar numeros pares**"
      ],
      "metadata": {
        "id": "xIEor7-16zOK"
      }
    },
    {
      "cell_type": "code",
      "source": [
        "numeros = [1, 2, 3, 4, 5]\n",
        "pares = list(filter(lambda x: x % 2 == 0, numeros))\n",
        "print(pares)"
      ],
      "metadata": {
        "colab": {
          "base_uri": "https://localhost:8080/"
        },
        "id": "IP45pIxv6-MB",
        "outputId": "1461736d-2d1a-4eeb-900c-63d2db65c479"
      },
      "execution_count": null,
      "outputs": [
        {
          "output_type": "stream",
          "name": "stdout",
          "text": [
            "[2, 4]\n"
          ]
        }
      ]
    },
    {
      "cell_type": "markdown",
      "source": [
        "# **IMPORTANDO BIBLIOTECA - para realizar a `*raiz quadrada*`**"
      ],
      "metadata": {
        "id": "2Mej9cXA8x5S"
      }
    },
    {
      "cell_type": "code",
      "source": [
        "from math import sqrt\n",
        "\n",
        "resultado = sqrt(25)\n",
        "print(resultado)"
      ],
      "metadata": {
        "colab": {
          "base_uri": "https://localhost:8080/"
        },
        "id": "jCaTn_w286kR",
        "outputId": "fb74ecae-ba5d-483e-94ad-5272ca314c53"
      },
      "execution_count": null,
      "outputs": [
        {
          "output_type": "stream",
          "name": "stdout",
          "text": [
            "5.0\n"
          ]
        }
      ]
    },
    {
      "cell_type": "markdown",
      "source": [
        "# **COMANDO PARA INSTALAR BIBLIOTECAS**"
      ],
      "metadata": {
        "id": "1BMHIg0_-k8a"
      }
    },
    {
      "cell_type": "markdown",
      "source": [
        "1.   No google colab:\n",
        "    !pip install nome_da_biblioteca\n",
        "2.   No terminal do VS Code:\n",
        "    pip install nome_da_biblioteca\n",
        "\n"
      ],
      "metadata": {
        "id": "hnJ4kkZQ-obh"
      }
    },
    {
      "cell_type": "markdown",
      "source": [
        "# **FUNÇÃO DE TRATATIVA DE ERRO - TRY**"
      ],
      "metadata": {
        "id": "NI3G6SYPCFKK"
      }
    },
    {
      "cell_type": "code",
      "source": [
        "try:\n",
        "  a = int(input(\"vamo ver qual numero é divido pelo 100: \"))\n",
        "  print(100 / a)\n",
        "except:\n",
        "  print(\"Informe um numero > 0!!!\")"
      ],
      "metadata": {
        "colab": {
          "base_uri": "https://localhost:8080/"
        },
        "id": "vdCB7s12-67Z",
        "outputId": "f0669fb9-270f-4322-8b25-ecba9941e88b"
      },
      "execution_count": null,
      "outputs": [
        {
          "output_type": "stream",
          "name": "stdout",
          "text": [
            "vamo ver qual numero é divido pelo 100: 0\n",
            "Informe um numero > 0!!!\n"
          ]
        }
      ]
    },
    {
      "cell_type": "markdown",
      "source": [
        "# **MANIPULAÇÕES DE ARQUIVOS**"
      ],
      "metadata": {
        "id": "zVkTBaPLFK4y"
      }
    },
    {
      "cell_type": "code",
      "source": [
        "#Abrir o arquivo no modo leitura ('r')\n",
        "arquivo = open('meu_nome.txt', 'r')\n",
        "\n",
        "#Ler todo o conteúdo do arquivo\n",
        "conteudo = arquivo.read()\n",
        "\n",
        "#Exibir o conteúdo do arquivo\n",
        "print(conteudo)\n",
        "\n",
        "#Fechar o arquivo após o uso\n",
        "  arquivo.close()"
      ],
      "metadata": {
        "id": "iyNHqyh6_CJx",
        "colab": {
          "base_uri": "https://localhost:8080/"
        },
        "outputId": "98273444-7698-4c67-d356-be70cc425888"
      },
      "execution_count": null,
      "outputs": [
        {
          "output_type": "stream",
          "name": "stdout",
          "text": [
            "Pedro Isac de Souza\n"
          ]
        }
      ]
    },
    {
      "cell_type": "markdown",
      "source": [
        "**Criando arquivo no código (no pelo)**"
      ],
      "metadata": {
        "id": "cTvpjxMWGgJa"
      }
    },
    {
      "cell_type": "code",
      "source": [
        "#Abrir o arquivo no modo escrita ('w')\n",
        "arquivo = open('novo_arquivo.txt', 'w')\n",
        "\n",
        "#Escrever conteúdo no arquivo\n",
        "arquivo.write(\"Olá, este é i, novo arquivo!\\n\")\n",
        "arquivo.write(\"Python é muito chave para manipular arquivos.\")\n",
        "\n",
        "#Abrir o arquivo no modo leitura ('r')\n",
        "arquivo = open('novo_arquivo.txt', 'r')\n",
        "\n",
        "#Ler todo o conteúdo do arquivo\n",
        "conteudo = arquivo.read()\n",
        "\n",
        "#Exibir o conteúdo do arquivo\n",
        "print(conteudo)\n",
        "\n",
        "#Fechar o arquivo\n",
        "arquivo.close()"
      ],
      "metadata": {
        "colab": {
          "base_uri": "https://localhost:8080/"
        },
        "id": "6cT0MuaFGlLC",
        "outputId": "78590d01-66a5-456c-ec41-e77e9c06c9e6"
      },
      "execution_count": null,
      "outputs": [
        {
          "output_type": "stream",
          "name": "stdout",
          "text": [
            "Olá, este é i, novo arquivo!\n",
            "Python é muito chave para manipular arquivos.\n"
          ]
        }
      ]
    },
    {
      "cell_type": "markdown",
      "source": [
        "# **Renomear o arquivo**"
      ],
      "metadata": {
        "id": "vIgIq-_8IyXj"
      }
    },
    {
      "cell_type": "code",
      "source": [
        "import os\n",
        "\n",
        "#Renomear o arquivo 'novo_arquivo.txt' para 'arquivo_renomeado.txt'\n",
        "os.rename('novo_arquivo.txt', 'arquivo_renomeado.txt')\n",
        "\n",
        "print(\"Arquivo renomeado com sucesso!\")"
      ],
      "metadata": {
        "colab": {
          "base_uri": "https://localhost:8080/"
        },
        "id": "CpEQ67UiHm1R",
        "outputId": "1ecfbf37-631c-44e5-e590-fb05f17e18cb"
      },
      "execution_count": null,
      "outputs": [
        {
          "output_type": "stream",
          "name": "stdout",
          "text": [
            "Arquivo renomeado com sucesso!\n"
          ]
        }
      ]
    },
    {
      "cell_type": "markdown",
      "source": [
        "# **Deletar o arquivo**"
      ],
      "metadata": {
        "id": "N2YcUhFxI1Up"
      }
    },
    {
      "cell_type": "code",
      "source": [
        "import os\n",
        "\n",
        "#Verificar se o arquivo existe antes de tentar excluí-lo\n",
        "if os.path.exists('arquivo_renomeado.txt'):\n",
        "  os.remove('arquivo_renomeado.txt')\n",
        "  print(\"Arquivo excluído com sucesso!\")\n",
        "else:\n",
        "  print(\"O arquivo não foi encontrado.\")"
      ],
      "metadata": {
        "colab": {
          "base_uri": "https://localhost:8080/"
        },
        "id": "ggJNNxZEIxzZ",
        "outputId": "20b5afdd-f691-4cce-ca14-a3396f6025c6"
      },
      "execution_count": null,
      "outputs": [
        {
          "output_type": "stream",
          "name": "stdout",
          "text": [
            "Arquivo excluído com sucesso!\n"
          ]
        }
      ]
    },
    {
      "cell_type": "markdown",
      "source": [
        "exercicio"
      ],
      "metadata": {
        "id": "a-kZmthwKXhh"
      }
    },
    {
      "cell_type": "code",
      "source": [
        "#Abrir o arquivo no modo escrita ('w')\n",
        "arquivo = open('dados.txt', 'w')\n",
        "\n",
        "#Escrever conteúdo no arquivo\n",
        "arquivo.write(\"Nome: Pedro Isac de Souza\\n\")\n",
        "arquivo.write(\"Idade: 18 anos\\n\")\n",
        "arquivo.write(\"Cidade: Campinas\")\n",
        "\n",
        "#Abrir o arquivo no modo leitura ('r')\n",
        "arquivo = open('dados.txt', 'r')\n",
        "\n",
        "#Ler todo o conteúdo do arquivo\n",
        "conteudo = arquivo.read()\n",
        "\n",
        "#Exibir o conteúdo do arquivo\n",
        "print(conteudo)\n",
        "\n",
        "#Fechar o arquivo\n",
        "arquivo.close()"
      ],
      "metadata": {
        "colab": {
          "base_uri": "https://localhost:8080/"
        },
        "id": "Vy1WaQLGKXOR",
        "outputId": "e1cacf7d-7969-4edc-a8bd-92c0b758de87"
      },
      "execution_count": null,
      "outputs": [
        {
          "output_type": "stream",
          "name": "stdout",
          "text": [
            "Nome: Pedro Isac de Souza\n",
            "Idade: 18 anos\n",
            "Cidade: Campinas\n"
          ]
        }
      ]
    },
    {
      "cell_type": "markdown",
      "source": [
        "exercicio"
      ],
      "metadata": {
        "id": "R712tEM9uUv7"
      }
    },
    {
      "cell_type": "code",
      "source": [
        "import os\n",
        "\n",
        "#Verificar se o arquivo existe antes de tentar excluí-lo\n",
        "if os.path.exists('relatorio_2024.txt'):\n",
        "  os.remove('arquivo_renomeado.txt')\n",
        "  print(\"Arquivo excluído com sucesso!\")\n",
        "else:\n",
        "  print(\"O arquivo não foi encontrado.\")"
      ],
      "metadata": {
        "colab": {
          "base_uri": "https://localhost:8080/"
        },
        "id": "ai0QtsEMuQFN",
        "outputId": "4637b0ab-fbd9-4378-dc24-c8c1ed33083b"
      },
      "execution_count": null,
      "outputs": [
        {
          "output_type": "stream",
          "name": "stdout",
          "text": [
            "O arquivo não foi encontrado.\n"
          ]
        }
      ]
    },
    {
      "cell_type": "code",
      "source": [
        "A = 10\n",
        "B = 9\n",
        "X = A + B\n",
        "print(\"X = \" + str(X))"
      ],
      "metadata": {
        "colab": {
          "base_uri": "https://localhost:8080/"
        },
        "id": "WeULUWo2wYhE",
        "outputId": "4f0084fd-fe04-4389-ad48-41c3c3062a95"
      },
      "execution_count": null,
      "outputs": [
        {
          "output_type": "stream",
          "name": "stdout",
          "text": [
            "X = 19\n"
          ]
        }
      ]
    },
    {
      "cell_type": "markdown",
      "source": [
        "Jogo de adivinhação"
      ],
      "metadata": {
        "id": "JAjVBqpTxMZM"
      }
    },
    {
      "cell_type": "code",
      "source": [
        "import random\n",
        "nome = input(\"Antes de começar, digite seu nome: \")\n",
        "numero_aleatorio = random.randint(1,5)\n",
        "contador = 1\n",
        "tentativas = 0\n",
        "tentativa = int(input(\"Tente a sorte:(de 1 a 5): \"))\n",
        "while tentativa != numero_aleatorio:\n",
        "  tentativa = int(input(\"Tente a sorte:(de 1 a 5): \"))\n",
        "  tentativas += 1\n",
        "  if tentativa == numero_aleatorio:\n",
        "    print(\"Parabens! Você acerto e ganhou 1 milhao de reais\")\n",
        "    tentativas += 1\n",
        "    break\n",
        "\n",
        "#Abrir o arquivo no modo escrita ('w')\n",
        "arquivo = open('ficha_milionaria.txt', 'w')\n",
        "\n",
        "#Escrever conteúdo no arquivo\n",
        "arquivo.write(\"Nome do ganhador: \" + nome + \"\\n\")\n",
        "arquivo.write(\"Quantidade de tentativas: \" + str(tentativas))\n",
        "\n",
        "#Abrir o arquivo no modo leitura ('r')\n",
        "arquivo = open('ficha_milionaria.txt', 'r')\n",
        "\n",
        "#Ler todo o conteúdo do arquivo\n",
        "conteudo = arquivo.read()\n",
        "\n",
        "#Exibir o conteúdo do arquivo\n",
        "print(conteudo)\n",
        "\n",
        "#Fechar o arquivo\n",
        "arquivo.close()"
      ],
      "metadata": {
        "colab": {
          "base_uri": "https://localhost:8080/",
          "height": 356
        },
        "id": "A-G5ckwXxObE",
        "outputId": "342a5776-aca1-4a72-e765-a8919dedd1c2"
      },
      "execution_count": null,
      "outputs": [
        {
          "output_type": "error",
          "ename": "KeyboardInterrupt",
          "evalue": "Interrupted by user",
          "traceback": [
            "\u001b[0;31m---------------------------------------------------------------------------\u001b[0m",
            "\u001b[0;31mKeyboardInterrupt\u001b[0m                         Traceback (most recent call last)",
            "\u001b[0;32m<ipython-input-1-e2b6bb6c1f4c>\u001b[0m in \u001b[0;36m<cell line: 2>\u001b[0;34m()\u001b[0m\n\u001b[1;32m      1\u001b[0m \u001b[0;32mimport\u001b[0m \u001b[0mrandom\u001b[0m\u001b[0;34m\u001b[0m\u001b[0;34m\u001b[0m\u001b[0m\n\u001b[0;32m----> 2\u001b[0;31m \u001b[0mnome\u001b[0m \u001b[0;34m=\u001b[0m \u001b[0minput\u001b[0m\u001b[0;34m(\u001b[0m\u001b[0;34m\"Antes de começar, digite seu nome: \"\u001b[0m\u001b[0;34m)\u001b[0m\u001b[0;34m\u001b[0m\u001b[0;34m\u001b[0m\u001b[0m\n\u001b[0m\u001b[1;32m      3\u001b[0m \u001b[0mnumero_aleatorio\u001b[0m \u001b[0;34m=\u001b[0m \u001b[0mrandom\u001b[0m\u001b[0;34m.\u001b[0m\u001b[0mrandint\u001b[0m\u001b[0;34m(\u001b[0m\u001b[0;36m1\u001b[0m\u001b[0;34m,\u001b[0m\u001b[0;36m5\u001b[0m\u001b[0;34m)\u001b[0m\u001b[0;34m\u001b[0m\u001b[0;34m\u001b[0m\u001b[0m\n\u001b[1;32m      4\u001b[0m \u001b[0mcontador\u001b[0m \u001b[0;34m=\u001b[0m \u001b[0;36m1\u001b[0m\u001b[0;34m\u001b[0m\u001b[0;34m\u001b[0m\u001b[0m\n\u001b[1;32m      5\u001b[0m \u001b[0mtentativas\u001b[0m \u001b[0;34m=\u001b[0m \u001b[0;36m0\u001b[0m\u001b[0;34m\u001b[0m\u001b[0;34m\u001b[0m\u001b[0m\n",
            "\u001b[0;32m/usr/local/lib/python3.10/dist-packages/ipykernel/kernelbase.py\u001b[0m in \u001b[0;36mraw_input\u001b[0;34m(self, prompt)\u001b[0m\n\u001b[1;32m    849\u001b[0m                 \u001b[0;34m\"raw_input was called, but this frontend does not support input requests.\"\u001b[0m\u001b[0;34m\u001b[0m\u001b[0;34m\u001b[0m\u001b[0m\n\u001b[1;32m    850\u001b[0m             )\n\u001b[0;32m--> 851\u001b[0;31m         return self._input_request(str(prompt),\n\u001b[0m\u001b[1;32m    852\u001b[0m             \u001b[0mself\u001b[0m\u001b[0;34m.\u001b[0m\u001b[0m_parent_ident\u001b[0m\u001b[0;34m,\u001b[0m\u001b[0;34m\u001b[0m\u001b[0;34m\u001b[0m\u001b[0m\n\u001b[1;32m    853\u001b[0m             \u001b[0mself\u001b[0m\u001b[0;34m.\u001b[0m\u001b[0m_parent_header\u001b[0m\u001b[0;34m,\u001b[0m\u001b[0;34m\u001b[0m\u001b[0;34m\u001b[0m\u001b[0m\n",
            "\u001b[0;32m/usr/local/lib/python3.10/dist-packages/ipykernel/kernelbase.py\u001b[0m in \u001b[0;36m_input_request\u001b[0;34m(self, prompt, ident, parent, password)\u001b[0m\n\u001b[1;32m    893\u001b[0m             \u001b[0;32mexcept\u001b[0m \u001b[0mKeyboardInterrupt\u001b[0m\u001b[0;34m:\u001b[0m\u001b[0;34m\u001b[0m\u001b[0;34m\u001b[0m\u001b[0m\n\u001b[1;32m    894\u001b[0m                 \u001b[0;31m# re-raise KeyboardInterrupt, to truncate traceback\u001b[0m\u001b[0;34m\u001b[0m\u001b[0;34m\u001b[0m\u001b[0m\n\u001b[0;32m--> 895\u001b[0;31m                 \u001b[0;32mraise\u001b[0m \u001b[0mKeyboardInterrupt\u001b[0m\u001b[0;34m(\u001b[0m\u001b[0;34m\"Interrupted by user\"\u001b[0m\u001b[0;34m)\u001b[0m \u001b[0;32mfrom\u001b[0m \u001b[0;32mNone\u001b[0m\u001b[0;34m\u001b[0m\u001b[0;34m\u001b[0m\u001b[0m\n\u001b[0m\u001b[1;32m    896\u001b[0m             \u001b[0;32mexcept\u001b[0m \u001b[0mException\u001b[0m \u001b[0;32mas\u001b[0m \u001b[0me\u001b[0m\u001b[0;34m:\u001b[0m\u001b[0;34m\u001b[0m\u001b[0;34m\u001b[0m\u001b[0m\n\u001b[1;32m    897\u001b[0m                 \u001b[0mself\u001b[0m\u001b[0;34m.\u001b[0m\u001b[0mlog\u001b[0m\u001b[0;34m.\u001b[0m\u001b[0mwarning\u001b[0m\u001b[0;34m(\u001b[0m\u001b[0;34m\"Invalid Message:\"\u001b[0m\u001b[0;34m,\u001b[0m \u001b[0mexc_info\u001b[0m\u001b[0;34m=\u001b[0m\u001b[0;32mTrue\u001b[0m\u001b[0;34m)\u001b[0m\u001b[0;34m\u001b[0m\u001b[0;34m\u001b[0m\u001b[0m\n",
            "\u001b[0;31mKeyboardInterrupt\u001b[0m: Interrupted by user"
          ]
        }
      ]
    },
    {
      "cell_type": "markdown",
      "source": [
        "# **Instalando biblioteca**"
      ],
      "metadata": {
        "id": "szK8bJZE1SmT"
      }
    },
    {
      "cell_type": "code",
      "source": [
        "!pip install openpyxl"
      ],
      "metadata": {
        "colab": {
          "base_uri": "https://localhost:8080/"
        },
        "id": "4Aimm8881oJs",
        "outputId": "10f8b7ad-64ef-4fb8-a3c5-6cb1ed7cd93f"
      },
      "execution_count": null,
      "outputs": [
        {
          "output_type": "stream",
          "name": "stdout",
          "text": [
            "Requirement already satisfied: openpyxl in /usr/local/lib/python3.10/dist-packages (3.1.5)\n",
            "Requirement already satisfied: et-xmlfile in /usr/local/lib/python3.10/dist-packages (from openpyxl) (2.0.0)\n"
          ]
        }
      ]
    },
    {
      "cell_type": "code",
      "source": [
        "from openpyxl import load_workbook\n",
        "\n",
        "#Caminho do arquivo Excel\n",
        "arquivo = '/content/Excel_+_Python.xlsx'\n",
        "\n",
        "#Carregar o arquivo Excel\n",
        "wb = load_workbook(arquivo)\n",
        "\n",
        "#Selecionar a planilha ativa (a primeira planilha por padrão)\n",
        "planilha = wb.active\n",
        "\n"
      ],
      "metadata": {
        "id": "CUXsy_bK3kcb"
      },
      "execution_count": null,
      "outputs": []
    },
    {
      "cell_type": "code",
      "source": [
        "dados = []\n",
        "\n",
        "#Interar por todas as linhas e colunas\n",
        "for row in planilha.iter_rows():\n",
        "  dados.append([cell.value for cell in row])\n",
        "\n",
        "for linha in dados:\n",
        "  print(dados)"
      ],
      "metadata": {
        "colab": {
          "base_uri": "https://localhost:8080/"
        },
        "id": "xKdv_Zxf7sgj",
        "outputId": "e095087f-ad08-484e-cad0-1ce65bab7f24"
      },
      "execution_count": null,
      "outputs": [
        {
          "output_type": "stream",
          "name": "stdout",
          "text": [
            "[['julia', 40.0], ['paula', 26.0], ['ana', 18.0]]\n",
            "[['julia', 40.0], ['paula', 26.0], ['ana', 18.0]]\n",
            "[['julia', 40.0], ['paula', 26.0], ['ana', 18.0]]\n"
          ]
        }
      ]
    },
    {
      "cell_type": "code",
      "source": [
        "for i in planilha.iter_rows():\n",
        "  print(i)"
      ],
      "metadata": {
        "colab": {
          "base_uri": "https://localhost:8080/"
        },
        "id": "2fq-B96_74YC",
        "outputId": "aab2cd7e-20f8-4480-f820-d9a2bf3b98e5"
      },
      "execution_count": null,
      "outputs": [
        {
          "output_type": "stream",
          "name": "stdout",
          "text": [
            "(<Cell 'Página1'.A1>, <Cell 'Página1'.B1>)\n",
            "(<Cell 'Página1'.A2>, <Cell 'Página1'.B2>)\n",
            "(<Cell 'Página1'.A3>, <Cell 'Página1'.B3>)\n"
          ]
        }
      ]
    },
    {
      "cell_type": "code",
      "source": [
        "from openpyxl import Workbook\n",
        "\n",
        "#Criar uma nova planilha de trabalho (workbook)\n",
        "wb = Workbook()\n",
        "\n",
        "#Selecionar a planilha ativa (a primeira planilha por padrão)\n",
        "planilha = wb.active\n",
        "planilha.title = \"Planilha1\" #Você pode dar um nome para a planilha\n",
        "\n",
        "#Adicionar dados nas células (por exemplo, na primeira linha e coluna)\n",
        "planilha['A1'] = \"Nome\"\n",
        "planilha['B1'] = \"Idade\"\n",
        "planilha['C1'] = \"Cidade\"\n",
        "\n",
        "#Adicionar mais dados\n",
        "planilha['A2'] = \"João\"\n",
        "planilha['B2'] = 18\n",
        "planilha['C2'] = \"São Paulo\"\n",
        "\n",
        "planilha['A3'] = \"Maria\"\n",
        "planilha['B3'] = 24\n",
        "planilha['C3'] = \"Rio de Janeiro\"\n",
        "\n",
        "planilha['A4'] = \"Carlos\"\n",
        "planilha['B4'] = 30\n",
        "planilha['C4'] = \"Belo Horizonte\"\n",
        "\n",
        "#Salvar o arquivo Excel\n",
        "wb.save(\"novo_arquivo.xlsx\")"
      ],
      "metadata": {
        "id": "FInhunvv8qpq"
      },
      "execution_count": null,
      "outputs": []
    },
    {
      "cell_type": "markdown",
      "source": [
        "importando pandas"
      ],
      "metadata": {
        "id": "lF53YmJv_7_M"
      }
    },
    {
      "cell_type": "code",
      "source": [
        "import pandas as pd\n",
        "\n",
        "#Ler o excel\n",
        "df = pd.read_excel('/content/Excel_+_Python.xlsx')\n",
        "df"
      ],
      "metadata": {
        "colab": {
          "base_uri": "https://localhost:8080/",
          "height": 143
        },
        "id": "YrrF2SyJ_-eL",
        "outputId": "ce959a62-832e-4232-935f-6c7f879352f0"
      },
      "execution_count": null,
      "outputs": [
        {
          "output_type": "execute_result",
          "data": {
            "text/plain": [
              "    Nome  Idade\n",
              "0  paula     26\n",
              "1    ana     18\n",
              "2  julia     40"
            ],
            "text/html": [
              "\n",
              "  <div id=\"df-d2a019fa-334e-4733-9052-894e39d2ca36\" class=\"colab-df-container\">\n",
              "    <div>\n",
              "<style scoped>\n",
              "    .dataframe tbody tr th:only-of-type {\n",
              "        vertical-align: middle;\n",
              "    }\n",
              "\n",
              "    .dataframe tbody tr th {\n",
              "        vertical-align: top;\n",
              "    }\n",
              "\n",
              "    .dataframe thead th {\n",
              "        text-align: right;\n",
              "    }\n",
              "</style>\n",
              "<table border=\"1\" class=\"dataframe\">\n",
              "  <thead>\n",
              "    <tr style=\"text-align: right;\">\n",
              "      <th></th>\n",
              "      <th>Nome</th>\n",
              "      <th>Idade</th>\n",
              "    </tr>\n",
              "  </thead>\n",
              "  <tbody>\n",
              "    <tr>\n",
              "      <th>0</th>\n",
              "      <td>paula</td>\n",
              "      <td>26</td>\n",
              "    </tr>\n",
              "    <tr>\n",
              "      <th>1</th>\n",
              "      <td>ana</td>\n",
              "      <td>18</td>\n",
              "    </tr>\n",
              "    <tr>\n",
              "      <th>2</th>\n",
              "      <td>julia</td>\n",
              "      <td>40</td>\n",
              "    </tr>\n",
              "  </tbody>\n",
              "</table>\n",
              "</div>\n",
              "    <div class=\"colab-df-buttons\">\n",
              "\n",
              "  <div class=\"colab-df-container\">\n",
              "    <button class=\"colab-df-convert\" onclick=\"convertToInteractive('df-d2a019fa-334e-4733-9052-894e39d2ca36')\"\n",
              "            title=\"Convert this dataframe to an interactive table.\"\n",
              "            style=\"display:none;\">\n",
              "\n",
              "  <svg xmlns=\"http://www.w3.org/2000/svg\" height=\"24px\" viewBox=\"0 -960 960 960\">\n",
              "    <path d=\"M120-120v-720h720v720H120Zm60-500h600v-160H180v160Zm220 220h160v-160H400v160Zm0 220h160v-160H400v160ZM180-400h160v-160H180v160Zm440 0h160v-160H620v160ZM180-180h160v-160H180v160Zm440 0h160v-160H620v160Z\"/>\n",
              "  </svg>\n",
              "    </button>\n",
              "\n",
              "  <style>\n",
              "    .colab-df-container {\n",
              "      display:flex;\n",
              "      gap: 12px;\n",
              "    }\n",
              "\n",
              "    .colab-df-convert {\n",
              "      background-color: #E8F0FE;\n",
              "      border: none;\n",
              "      border-radius: 50%;\n",
              "      cursor: pointer;\n",
              "      display: none;\n",
              "      fill: #1967D2;\n",
              "      height: 32px;\n",
              "      padding: 0 0 0 0;\n",
              "      width: 32px;\n",
              "    }\n",
              "\n",
              "    .colab-df-convert:hover {\n",
              "      background-color: #E2EBFA;\n",
              "      box-shadow: 0px 1px 2px rgba(60, 64, 67, 0.3), 0px 1px 3px 1px rgba(60, 64, 67, 0.15);\n",
              "      fill: #174EA6;\n",
              "    }\n",
              "\n",
              "    .colab-df-buttons div {\n",
              "      margin-bottom: 4px;\n",
              "    }\n",
              "\n",
              "    [theme=dark] .colab-df-convert {\n",
              "      background-color: #3B4455;\n",
              "      fill: #D2E3FC;\n",
              "    }\n",
              "\n",
              "    [theme=dark] .colab-df-convert:hover {\n",
              "      background-color: #434B5C;\n",
              "      box-shadow: 0px 1px 3px 1px rgba(0, 0, 0, 0.15);\n",
              "      filter: drop-shadow(0px 1px 2px rgba(0, 0, 0, 0.3));\n",
              "      fill: #FFFFFF;\n",
              "    }\n",
              "  </style>\n",
              "\n",
              "    <script>\n",
              "      const buttonEl =\n",
              "        document.querySelector('#df-d2a019fa-334e-4733-9052-894e39d2ca36 button.colab-df-convert');\n",
              "      buttonEl.style.display =\n",
              "        google.colab.kernel.accessAllowed ? 'block' : 'none';\n",
              "\n",
              "      async function convertToInteractive(key) {\n",
              "        const element = document.querySelector('#df-d2a019fa-334e-4733-9052-894e39d2ca36');\n",
              "        const dataTable =\n",
              "          await google.colab.kernel.invokeFunction('convertToInteractive',\n",
              "                                                    [key], {});\n",
              "        if (!dataTable) return;\n",
              "\n",
              "        const docLinkHtml = 'Like what you see? Visit the ' +\n",
              "          '<a target=\"_blank\" href=https://colab.research.google.com/notebooks/data_table.ipynb>data table notebook</a>'\n",
              "          + ' to learn more about interactive tables.';\n",
              "        element.innerHTML = '';\n",
              "        dataTable['output_type'] = 'display_data';\n",
              "        await google.colab.output.renderOutput(dataTable, element);\n",
              "        const docLink = document.createElement('div');\n",
              "        docLink.innerHTML = docLinkHtml;\n",
              "        element.appendChild(docLink);\n",
              "      }\n",
              "    </script>\n",
              "  </div>\n",
              "\n",
              "\n",
              "<div id=\"df-461ad954-7ae2-4225-bef7-cbc274e3a992\">\n",
              "  <button class=\"colab-df-quickchart\" onclick=\"quickchart('df-461ad954-7ae2-4225-bef7-cbc274e3a992')\"\n",
              "            title=\"Suggest charts\"\n",
              "            style=\"display:none;\">\n",
              "\n",
              "<svg xmlns=\"http://www.w3.org/2000/svg\" height=\"24px\"viewBox=\"0 0 24 24\"\n",
              "     width=\"24px\">\n",
              "    <g>\n",
              "        <path d=\"M19 3H5c-1.1 0-2 .9-2 2v14c0 1.1.9 2 2 2h14c1.1 0 2-.9 2-2V5c0-1.1-.9-2-2-2zM9 17H7v-7h2v7zm4 0h-2V7h2v10zm4 0h-2v-4h2v4z\"/>\n",
              "    </g>\n",
              "</svg>\n",
              "  </button>\n",
              "\n",
              "<style>\n",
              "  .colab-df-quickchart {\n",
              "      --bg-color: #E8F0FE;\n",
              "      --fill-color: #1967D2;\n",
              "      --hover-bg-color: #E2EBFA;\n",
              "      --hover-fill-color: #174EA6;\n",
              "      --disabled-fill-color: #AAA;\n",
              "      --disabled-bg-color: #DDD;\n",
              "  }\n",
              "\n",
              "  [theme=dark] .colab-df-quickchart {\n",
              "      --bg-color: #3B4455;\n",
              "      --fill-color: #D2E3FC;\n",
              "      --hover-bg-color: #434B5C;\n",
              "      --hover-fill-color: #FFFFFF;\n",
              "      --disabled-bg-color: #3B4455;\n",
              "      --disabled-fill-color: #666;\n",
              "  }\n",
              "\n",
              "  .colab-df-quickchart {\n",
              "    background-color: var(--bg-color);\n",
              "    border: none;\n",
              "    border-radius: 50%;\n",
              "    cursor: pointer;\n",
              "    display: none;\n",
              "    fill: var(--fill-color);\n",
              "    height: 32px;\n",
              "    padding: 0;\n",
              "    width: 32px;\n",
              "  }\n",
              "\n",
              "  .colab-df-quickchart:hover {\n",
              "    background-color: var(--hover-bg-color);\n",
              "    box-shadow: 0 1px 2px rgba(60, 64, 67, 0.3), 0 1px 3px 1px rgba(60, 64, 67, 0.15);\n",
              "    fill: var(--button-hover-fill-color);\n",
              "  }\n",
              "\n",
              "  .colab-df-quickchart-complete:disabled,\n",
              "  .colab-df-quickchart-complete:disabled:hover {\n",
              "    background-color: var(--disabled-bg-color);\n",
              "    fill: var(--disabled-fill-color);\n",
              "    box-shadow: none;\n",
              "  }\n",
              "\n",
              "  .colab-df-spinner {\n",
              "    border: 2px solid var(--fill-color);\n",
              "    border-color: transparent;\n",
              "    border-bottom-color: var(--fill-color);\n",
              "    animation:\n",
              "      spin 1s steps(1) infinite;\n",
              "  }\n",
              "\n",
              "  @keyframes spin {\n",
              "    0% {\n",
              "      border-color: transparent;\n",
              "      border-bottom-color: var(--fill-color);\n",
              "      border-left-color: var(--fill-color);\n",
              "    }\n",
              "    20% {\n",
              "      border-color: transparent;\n",
              "      border-left-color: var(--fill-color);\n",
              "      border-top-color: var(--fill-color);\n",
              "    }\n",
              "    30% {\n",
              "      border-color: transparent;\n",
              "      border-left-color: var(--fill-color);\n",
              "      border-top-color: var(--fill-color);\n",
              "      border-right-color: var(--fill-color);\n",
              "    }\n",
              "    40% {\n",
              "      border-color: transparent;\n",
              "      border-right-color: var(--fill-color);\n",
              "      border-top-color: var(--fill-color);\n",
              "    }\n",
              "    60% {\n",
              "      border-color: transparent;\n",
              "      border-right-color: var(--fill-color);\n",
              "    }\n",
              "    80% {\n",
              "      border-color: transparent;\n",
              "      border-right-color: var(--fill-color);\n",
              "      border-bottom-color: var(--fill-color);\n",
              "    }\n",
              "    90% {\n",
              "      border-color: transparent;\n",
              "      border-bottom-color: var(--fill-color);\n",
              "    }\n",
              "  }\n",
              "</style>\n",
              "\n",
              "  <script>\n",
              "    async function quickchart(key) {\n",
              "      const quickchartButtonEl =\n",
              "        document.querySelector('#' + key + ' button');\n",
              "      quickchartButtonEl.disabled = true;  // To prevent multiple clicks.\n",
              "      quickchartButtonEl.classList.add('colab-df-spinner');\n",
              "      try {\n",
              "        const charts = await google.colab.kernel.invokeFunction(\n",
              "            'suggestCharts', [key], {});\n",
              "      } catch (error) {\n",
              "        console.error('Error during call to suggestCharts:', error);\n",
              "      }\n",
              "      quickchartButtonEl.classList.remove('colab-df-spinner');\n",
              "      quickchartButtonEl.classList.add('colab-df-quickchart-complete');\n",
              "    }\n",
              "    (() => {\n",
              "      let quickchartButtonEl =\n",
              "        document.querySelector('#df-461ad954-7ae2-4225-bef7-cbc274e3a992 button');\n",
              "      quickchartButtonEl.style.display =\n",
              "        google.colab.kernel.accessAllowed ? 'block' : 'none';\n",
              "    })();\n",
              "  </script>\n",
              "</div>\n",
              "\n",
              "  <div id=\"id_fca1b896-be0a-41d6-b79a-c861521dfef1\">\n",
              "    <style>\n",
              "      .colab-df-generate {\n",
              "        background-color: #E8F0FE;\n",
              "        border: none;\n",
              "        border-radius: 50%;\n",
              "        cursor: pointer;\n",
              "        display: none;\n",
              "        fill: #1967D2;\n",
              "        height: 32px;\n",
              "        padding: 0 0 0 0;\n",
              "        width: 32px;\n",
              "      }\n",
              "\n",
              "      .colab-df-generate:hover {\n",
              "        background-color: #E2EBFA;\n",
              "        box-shadow: 0px 1px 2px rgba(60, 64, 67, 0.3), 0px 1px 3px 1px rgba(60, 64, 67, 0.15);\n",
              "        fill: #174EA6;\n",
              "      }\n",
              "\n",
              "      [theme=dark] .colab-df-generate {\n",
              "        background-color: #3B4455;\n",
              "        fill: #D2E3FC;\n",
              "      }\n",
              "\n",
              "      [theme=dark] .colab-df-generate:hover {\n",
              "        background-color: #434B5C;\n",
              "        box-shadow: 0px 1px 3px 1px rgba(0, 0, 0, 0.15);\n",
              "        filter: drop-shadow(0px 1px 2px rgba(0, 0, 0, 0.3));\n",
              "        fill: #FFFFFF;\n",
              "      }\n",
              "    </style>\n",
              "    <button class=\"colab-df-generate\" onclick=\"generateWithVariable('df')\"\n",
              "            title=\"Generate code using this dataframe.\"\n",
              "            style=\"display:none;\">\n",
              "\n",
              "  <svg xmlns=\"http://www.w3.org/2000/svg\" height=\"24px\"viewBox=\"0 0 24 24\"\n",
              "       width=\"24px\">\n",
              "    <path d=\"M7,19H8.4L18.45,9,17,7.55,7,17.6ZM5,21V16.75L18.45,3.32a2,2,0,0,1,2.83,0l1.4,1.43a1.91,1.91,0,0,1,.58,1.4,1.91,1.91,0,0,1-.58,1.4L9.25,21ZM18.45,9,17,7.55Zm-12,3A5.31,5.31,0,0,0,4.9,8.1,5.31,5.31,0,0,0,1,6.5,5.31,5.31,0,0,0,4.9,4.9,5.31,5.31,0,0,0,6.5,1,5.31,5.31,0,0,0,8.1,4.9,5.31,5.31,0,0,0,12,6.5,5.46,5.46,0,0,0,6.5,12Z\"/>\n",
              "  </svg>\n",
              "    </button>\n",
              "    <script>\n",
              "      (() => {\n",
              "      const buttonEl =\n",
              "        document.querySelector('#id_fca1b896-be0a-41d6-b79a-c861521dfef1 button.colab-df-generate');\n",
              "      buttonEl.style.display =\n",
              "        google.colab.kernel.accessAllowed ? 'block' : 'none';\n",
              "\n",
              "      buttonEl.onclick = () => {\n",
              "        google.colab.notebook.generateWithVariable('df');\n",
              "      }\n",
              "      })();\n",
              "    </script>\n",
              "  </div>\n",
              "\n",
              "    </div>\n",
              "  </div>\n"
            ],
            "application/vnd.google.colaboratory.intrinsic+json": {
              "type": "dataframe",
              "variable_name": "df",
              "summary": "{\n  \"name\": \"df\",\n  \"rows\": 3,\n  \"fields\": [\n    {\n      \"column\": \"Nome\",\n      \"properties\": {\n        \"dtype\": \"string\",\n        \"num_unique_values\": 3,\n        \"samples\": [\n          \"paula\",\n          \"ana\",\n          \"julia\"\n        ],\n        \"semantic_type\": \"\",\n        \"description\": \"\"\n      }\n    },\n    {\n      \"column\": \"Idade\",\n      \"properties\": {\n        \"dtype\": \"number\",\n        \"std\": 11,\n        \"min\": 18,\n        \"max\": 40,\n        \"num_unique_values\": 3,\n        \"samples\": [\n          26,\n          18,\n          40\n        ],\n        \"semantic_type\": \"\",\n        \"description\": \"\"\n      }\n    }\n  ]\n}"
            }
          },
          "metadata": {},
          "execution_count": 20
        }
      ]
    },
    {
      "cell_type": "code",
      "source": [
        "import pandas as pd\n",
        "\n",
        "#Criar um DataFrame com os dados\n",
        "dados = {\n",
        "    \"Nome\": [\"João\", \"Kleber\", \"Gugu\"],\n",
        "    \"Idade\": [18, 60, 66],\n",
        "    \"Cidade\": [\"São Paulo\", \"Rio de Janeiro\", \"Belo Horizonte\"]\n",
        "}\n",
        "\n",
        "df = pd.DataFrame(dados)\n",
        "\n",
        "#Salvar o DataFrame em um arquivo Excel\n",
        "df.to_excel(\"Planilha1.xlsx\", index = False, sheet_name=\"Planilha1\")\n",
        "\n",
        "print(\"Planilha criada com sucesso!!\")"
      ],
      "metadata": {
        "colab": {
          "base_uri": "https://localhost:8080/"
        },
        "id": "M1wy5OjlBlYT",
        "outputId": "ab1f7430-a115-4207-9fef-96a2595f4ff1"
      },
      "execution_count": null,
      "outputs": [
        {
          "output_type": "stream",
          "name": "stdout",
          "text": [
            "Planilha criada com sucesso!!\n"
          ]
        }
      ]
    },
    {
      "cell_type": "code",
      "source": [
        "import pandas as pd\n",
        "\n",
        "#Gerar dados\n",
        "df = pd.DataFrame({\n",
        "    \"Produto\": [\"Produto A\", \"Produto B\", \"Produto C\"],\n",
        "    \"Quantidade\": [12, 7, 10],\n",
        "    \"Valor Unitário\": [15, 20, 12],\n",
        "    \"total\": [180, 140, 120],\n",
        "})\n",
        "\n",
        "df.to_excel(\"Semana_2.xlsx\", index=False)"
      ],
      "metadata": {
        "id": "jB1DOwuIDH0s"
      },
      "execution_count": null,
      "outputs": []
    },
    {
      "cell_type": "code",
      "source": [
        "import pandas as pd\n",
        "import glob\n",
        "import os\n",
        "\n",
        "#Caminho onde oos arquivos Excel estão armazenados\n",
        "caminho = \"/content/\" #Substitua pelo seu caminho\n",
        "arquivos = glob.glob(os.path.join(caminho, \"*.xlsx\"))\n",
        "\n",
        "#Lista para armazenar os DataFrames individuais\n",
        "consolidado = []\n",
        "\n",
        "#Loop pelos arquivos para combinar\n",
        "for arquivo in arquivos:\n",
        "  #Carregar o arquivo Excel\n",
        "  df = pd.read_excel(arquivo)\n",
        "\n",
        "  #Extrair o nome do arquivo (ex: \"semana1.xlsx\") para identificar a semana\n",
        "  nome_arquivo = os.path.basename(arquivo).split('.')[0]\n",
        "  df[\"Semana\"] = nome_arquivo #Adicionar uma coluna com a identificação da semana\n",
        "\n",
        "  #Adicionar o DataFrame á lista\n",
        "  consolidado.append(df)\n",
        "\n",
        "#Combinar todos os DataFrames em um único\n",
        "df_completo = pd.concat(consolidado, ignore_index = True)\n",
        "\n",
        "#Salvar o resultado consolidado em um único arquivo Excel\n",
        "df_completo.to_excel(\"Relatorio_Mensal.xlsx\", index = False)\n",
        "\n",
        "print(\"Relatórios semanais consolidados com sucesso!\")"
      ],
      "metadata": {
        "colab": {
          "base_uri": "https://localhost:8080/"
        },
        "id": "Rm3ASDNLE9lr",
        "outputId": "a7cc4ff9-66ef-45b2-c0fa-4d2f6b6fee15"
      },
      "execution_count": null,
      "outputs": [
        {
          "output_type": "stream",
          "name": "stdout",
          "text": [
            "Relatórios semanais consolidados com sucesso!\n"
          ]
        }
      ]
    },
    {
      "cell_type": "code",
      "source": [
        "df_completo"
      ],
      "metadata": {
        "colab": {
          "base_uri": "https://localhost:8080/",
          "height": 238
        },
        "id": "EjGLFg2XQ1lj",
        "outputId": "30366426-cadb-4755-9cd9-24144ee739f2"
      },
      "execution_count": null,
      "outputs": [
        {
          "output_type": "execute_result",
          "data": {
            "text/plain": [
              "     Produto  Quantidade  Valor Unitário  total    Semana\n",
              "0  Produto A          12              15    180  Semana_2\n",
              "1  Produto B           7              20    140  Semana_2\n",
              "2  Produto C          10              12    120  Semana_2\n",
              "3  Produto A          10              15    150  Semana_1\n",
              "4  Produto B          15              20    100  Semana_1\n",
              "5  Produto C           8              12     96  Semana_1"
            ],
            "text/html": [
              "\n",
              "  <div id=\"df-ff5a731c-0c7e-42b7-81dd-d34371437c4a\" class=\"colab-df-container\">\n",
              "    <div>\n",
              "<style scoped>\n",
              "    .dataframe tbody tr th:only-of-type {\n",
              "        vertical-align: middle;\n",
              "    }\n",
              "\n",
              "    .dataframe tbody tr th {\n",
              "        vertical-align: top;\n",
              "    }\n",
              "\n",
              "    .dataframe thead th {\n",
              "        text-align: right;\n",
              "    }\n",
              "</style>\n",
              "<table border=\"1\" class=\"dataframe\">\n",
              "  <thead>\n",
              "    <tr style=\"text-align: right;\">\n",
              "      <th></th>\n",
              "      <th>Produto</th>\n",
              "      <th>Quantidade</th>\n",
              "      <th>Valor Unitário</th>\n",
              "      <th>total</th>\n",
              "      <th>Semana</th>\n",
              "    </tr>\n",
              "  </thead>\n",
              "  <tbody>\n",
              "    <tr>\n",
              "      <th>0</th>\n",
              "      <td>Produto A</td>\n",
              "      <td>12</td>\n",
              "      <td>15</td>\n",
              "      <td>180</td>\n",
              "      <td>Semana_2</td>\n",
              "    </tr>\n",
              "    <tr>\n",
              "      <th>1</th>\n",
              "      <td>Produto B</td>\n",
              "      <td>7</td>\n",
              "      <td>20</td>\n",
              "      <td>140</td>\n",
              "      <td>Semana_2</td>\n",
              "    </tr>\n",
              "    <tr>\n",
              "      <th>2</th>\n",
              "      <td>Produto C</td>\n",
              "      <td>10</td>\n",
              "      <td>12</td>\n",
              "      <td>120</td>\n",
              "      <td>Semana_2</td>\n",
              "    </tr>\n",
              "    <tr>\n",
              "      <th>3</th>\n",
              "      <td>Produto A</td>\n",
              "      <td>10</td>\n",
              "      <td>15</td>\n",
              "      <td>150</td>\n",
              "      <td>Semana_1</td>\n",
              "    </tr>\n",
              "    <tr>\n",
              "      <th>4</th>\n",
              "      <td>Produto B</td>\n",
              "      <td>15</td>\n",
              "      <td>20</td>\n",
              "      <td>100</td>\n",
              "      <td>Semana_1</td>\n",
              "    </tr>\n",
              "    <tr>\n",
              "      <th>5</th>\n",
              "      <td>Produto C</td>\n",
              "      <td>8</td>\n",
              "      <td>12</td>\n",
              "      <td>96</td>\n",
              "      <td>Semana_1</td>\n",
              "    </tr>\n",
              "  </tbody>\n",
              "</table>\n",
              "</div>\n",
              "    <div class=\"colab-df-buttons\">\n",
              "\n",
              "  <div class=\"colab-df-container\">\n",
              "    <button class=\"colab-df-convert\" onclick=\"convertToInteractive('df-ff5a731c-0c7e-42b7-81dd-d34371437c4a')\"\n",
              "            title=\"Convert this dataframe to an interactive table.\"\n",
              "            style=\"display:none;\">\n",
              "\n",
              "  <svg xmlns=\"http://www.w3.org/2000/svg\" height=\"24px\" viewBox=\"0 -960 960 960\">\n",
              "    <path d=\"M120-120v-720h720v720H120Zm60-500h600v-160H180v160Zm220 220h160v-160H400v160Zm0 220h160v-160H400v160ZM180-400h160v-160H180v160Zm440 0h160v-160H620v160ZM180-180h160v-160H180v160Zm440 0h160v-160H620v160Z\"/>\n",
              "  </svg>\n",
              "    </button>\n",
              "\n",
              "  <style>\n",
              "    .colab-df-container {\n",
              "      display:flex;\n",
              "      gap: 12px;\n",
              "    }\n",
              "\n",
              "    .colab-df-convert {\n",
              "      background-color: #E8F0FE;\n",
              "      border: none;\n",
              "      border-radius: 50%;\n",
              "      cursor: pointer;\n",
              "      display: none;\n",
              "      fill: #1967D2;\n",
              "      height: 32px;\n",
              "      padding: 0 0 0 0;\n",
              "      width: 32px;\n",
              "    }\n",
              "\n",
              "    .colab-df-convert:hover {\n",
              "      background-color: #E2EBFA;\n",
              "      box-shadow: 0px 1px 2px rgba(60, 64, 67, 0.3), 0px 1px 3px 1px rgba(60, 64, 67, 0.15);\n",
              "      fill: #174EA6;\n",
              "    }\n",
              "\n",
              "    .colab-df-buttons div {\n",
              "      margin-bottom: 4px;\n",
              "    }\n",
              "\n",
              "    [theme=dark] .colab-df-convert {\n",
              "      background-color: #3B4455;\n",
              "      fill: #D2E3FC;\n",
              "    }\n",
              "\n",
              "    [theme=dark] .colab-df-convert:hover {\n",
              "      background-color: #434B5C;\n",
              "      box-shadow: 0px 1px 3px 1px rgba(0, 0, 0, 0.15);\n",
              "      filter: drop-shadow(0px 1px 2px rgba(0, 0, 0, 0.3));\n",
              "      fill: #FFFFFF;\n",
              "    }\n",
              "  </style>\n",
              "\n",
              "    <script>\n",
              "      const buttonEl =\n",
              "        document.querySelector('#df-ff5a731c-0c7e-42b7-81dd-d34371437c4a button.colab-df-convert');\n",
              "      buttonEl.style.display =\n",
              "        google.colab.kernel.accessAllowed ? 'block' : 'none';\n",
              "\n",
              "      async function convertToInteractive(key) {\n",
              "        const element = document.querySelector('#df-ff5a731c-0c7e-42b7-81dd-d34371437c4a');\n",
              "        const dataTable =\n",
              "          await google.colab.kernel.invokeFunction('convertToInteractive',\n",
              "                                                    [key], {});\n",
              "        if (!dataTable) return;\n",
              "\n",
              "        const docLinkHtml = 'Like what you see? Visit the ' +\n",
              "          '<a target=\"_blank\" href=https://colab.research.google.com/notebooks/data_table.ipynb>data table notebook</a>'\n",
              "          + ' to learn more about interactive tables.';\n",
              "        element.innerHTML = '';\n",
              "        dataTable['output_type'] = 'display_data';\n",
              "        await google.colab.output.renderOutput(dataTable, element);\n",
              "        const docLink = document.createElement('div');\n",
              "        docLink.innerHTML = docLinkHtml;\n",
              "        element.appendChild(docLink);\n",
              "      }\n",
              "    </script>\n",
              "  </div>\n",
              "\n",
              "\n",
              "<div id=\"df-f20fd3cb-6c1e-4538-b770-29f9be4e9e85\">\n",
              "  <button class=\"colab-df-quickchart\" onclick=\"quickchart('df-f20fd3cb-6c1e-4538-b770-29f9be4e9e85')\"\n",
              "            title=\"Suggest charts\"\n",
              "            style=\"display:none;\">\n",
              "\n",
              "<svg xmlns=\"http://www.w3.org/2000/svg\" height=\"24px\"viewBox=\"0 0 24 24\"\n",
              "     width=\"24px\">\n",
              "    <g>\n",
              "        <path d=\"M19 3H5c-1.1 0-2 .9-2 2v14c0 1.1.9 2 2 2h14c1.1 0 2-.9 2-2V5c0-1.1-.9-2-2-2zM9 17H7v-7h2v7zm4 0h-2V7h2v10zm4 0h-2v-4h2v4z\"/>\n",
              "    </g>\n",
              "</svg>\n",
              "  </button>\n",
              "\n",
              "<style>\n",
              "  .colab-df-quickchart {\n",
              "      --bg-color: #E8F0FE;\n",
              "      --fill-color: #1967D2;\n",
              "      --hover-bg-color: #E2EBFA;\n",
              "      --hover-fill-color: #174EA6;\n",
              "      --disabled-fill-color: #AAA;\n",
              "      --disabled-bg-color: #DDD;\n",
              "  }\n",
              "\n",
              "  [theme=dark] .colab-df-quickchart {\n",
              "      --bg-color: #3B4455;\n",
              "      --fill-color: #D2E3FC;\n",
              "      --hover-bg-color: #434B5C;\n",
              "      --hover-fill-color: #FFFFFF;\n",
              "      --disabled-bg-color: #3B4455;\n",
              "      --disabled-fill-color: #666;\n",
              "  }\n",
              "\n",
              "  .colab-df-quickchart {\n",
              "    background-color: var(--bg-color);\n",
              "    border: none;\n",
              "    border-radius: 50%;\n",
              "    cursor: pointer;\n",
              "    display: none;\n",
              "    fill: var(--fill-color);\n",
              "    height: 32px;\n",
              "    padding: 0;\n",
              "    width: 32px;\n",
              "  }\n",
              "\n",
              "  .colab-df-quickchart:hover {\n",
              "    background-color: var(--hover-bg-color);\n",
              "    box-shadow: 0 1px 2px rgba(60, 64, 67, 0.3), 0 1px 3px 1px rgba(60, 64, 67, 0.15);\n",
              "    fill: var(--button-hover-fill-color);\n",
              "  }\n",
              "\n",
              "  .colab-df-quickchart-complete:disabled,\n",
              "  .colab-df-quickchart-complete:disabled:hover {\n",
              "    background-color: var(--disabled-bg-color);\n",
              "    fill: var(--disabled-fill-color);\n",
              "    box-shadow: none;\n",
              "  }\n",
              "\n",
              "  .colab-df-spinner {\n",
              "    border: 2px solid var(--fill-color);\n",
              "    border-color: transparent;\n",
              "    border-bottom-color: var(--fill-color);\n",
              "    animation:\n",
              "      spin 1s steps(1) infinite;\n",
              "  }\n",
              "\n",
              "  @keyframes spin {\n",
              "    0% {\n",
              "      border-color: transparent;\n",
              "      border-bottom-color: var(--fill-color);\n",
              "      border-left-color: var(--fill-color);\n",
              "    }\n",
              "    20% {\n",
              "      border-color: transparent;\n",
              "      border-left-color: var(--fill-color);\n",
              "      border-top-color: var(--fill-color);\n",
              "    }\n",
              "    30% {\n",
              "      border-color: transparent;\n",
              "      border-left-color: var(--fill-color);\n",
              "      border-top-color: var(--fill-color);\n",
              "      border-right-color: var(--fill-color);\n",
              "    }\n",
              "    40% {\n",
              "      border-color: transparent;\n",
              "      border-right-color: var(--fill-color);\n",
              "      border-top-color: var(--fill-color);\n",
              "    }\n",
              "    60% {\n",
              "      border-color: transparent;\n",
              "      border-right-color: var(--fill-color);\n",
              "    }\n",
              "    80% {\n",
              "      border-color: transparent;\n",
              "      border-right-color: var(--fill-color);\n",
              "      border-bottom-color: var(--fill-color);\n",
              "    }\n",
              "    90% {\n",
              "      border-color: transparent;\n",
              "      border-bottom-color: var(--fill-color);\n",
              "    }\n",
              "  }\n",
              "</style>\n",
              "\n",
              "  <script>\n",
              "    async function quickchart(key) {\n",
              "      const quickchartButtonEl =\n",
              "        document.querySelector('#' + key + ' button');\n",
              "      quickchartButtonEl.disabled = true;  // To prevent multiple clicks.\n",
              "      quickchartButtonEl.classList.add('colab-df-spinner');\n",
              "      try {\n",
              "        const charts = await google.colab.kernel.invokeFunction(\n",
              "            'suggestCharts', [key], {});\n",
              "      } catch (error) {\n",
              "        console.error('Error during call to suggestCharts:', error);\n",
              "      }\n",
              "      quickchartButtonEl.classList.remove('colab-df-spinner');\n",
              "      quickchartButtonEl.classList.add('colab-df-quickchart-complete');\n",
              "    }\n",
              "    (() => {\n",
              "      let quickchartButtonEl =\n",
              "        document.querySelector('#df-f20fd3cb-6c1e-4538-b770-29f9be4e9e85 button');\n",
              "      quickchartButtonEl.style.display =\n",
              "        google.colab.kernel.accessAllowed ? 'block' : 'none';\n",
              "    })();\n",
              "  </script>\n",
              "</div>\n",
              "\n",
              "  <div id=\"id_6b4db911-491d-4f67-9e90-927ff20c5a4a\">\n",
              "    <style>\n",
              "      .colab-df-generate {\n",
              "        background-color: #E8F0FE;\n",
              "        border: none;\n",
              "        border-radius: 50%;\n",
              "        cursor: pointer;\n",
              "        display: none;\n",
              "        fill: #1967D2;\n",
              "        height: 32px;\n",
              "        padding: 0 0 0 0;\n",
              "        width: 32px;\n",
              "      }\n",
              "\n",
              "      .colab-df-generate:hover {\n",
              "        background-color: #E2EBFA;\n",
              "        box-shadow: 0px 1px 2px rgba(60, 64, 67, 0.3), 0px 1px 3px 1px rgba(60, 64, 67, 0.15);\n",
              "        fill: #174EA6;\n",
              "      }\n",
              "\n",
              "      [theme=dark] .colab-df-generate {\n",
              "        background-color: #3B4455;\n",
              "        fill: #D2E3FC;\n",
              "      }\n",
              "\n",
              "      [theme=dark] .colab-df-generate:hover {\n",
              "        background-color: #434B5C;\n",
              "        box-shadow: 0px 1px 3px 1px rgba(0, 0, 0, 0.15);\n",
              "        filter: drop-shadow(0px 1px 2px rgba(0, 0, 0, 0.3));\n",
              "        fill: #FFFFFF;\n",
              "      }\n",
              "    </style>\n",
              "    <button class=\"colab-df-generate\" onclick=\"generateWithVariable('df_completo')\"\n",
              "            title=\"Generate code using this dataframe.\"\n",
              "            style=\"display:none;\">\n",
              "\n",
              "  <svg xmlns=\"http://www.w3.org/2000/svg\" height=\"24px\"viewBox=\"0 0 24 24\"\n",
              "       width=\"24px\">\n",
              "    <path d=\"M7,19H8.4L18.45,9,17,7.55,7,17.6ZM5,21V16.75L18.45,3.32a2,2,0,0,1,2.83,0l1.4,1.43a1.91,1.91,0,0,1,.58,1.4,1.91,1.91,0,0,1-.58,1.4L9.25,21ZM18.45,9,17,7.55Zm-12,3A5.31,5.31,0,0,0,4.9,8.1,5.31,5.31,0,0,0,1,6.5,5.31,5.31,0,0,0,4.9,4.9,5.31,5.31,0,0,0,6.5,1,5.31,5.31,0,0,0,8.1,4.9,5.31,5.31,0,0,0,12,6.5,5.46,5.46,0,0,0,6.5,12Z\"/>\n",
              "  </svg>\n",
              "    </button>\n",
              "    <script>\n",
              "      (() => {\n",
              "      const buttonEl =\n",
              "        document.querySelector('#id_6b4db911-491d-4f67-9e90-927ff20c5a4a button.colab-df-generate');\n",
              "      buttonEl.style.display =\n",
              "        google.colab.kernel.accessAllowed ? 'block' : 'none';\n",
              "\n",
              "      buttonEl.onclick = () => {\n",
              "        google.colab.notebook.generateWithVariable('df_completo');\n",
              "      }\n",
              "      })();\n",
              "    </script>\n",
              "  </div>\n",
              "\n",
              "    </div>\n",
              "  </div>\n"
            ],
            "application/vnd.google.colaboratory.intrinsic+json": {
              "type": "dataframe",
              "variable_name": "df_completo",
              "summary": "{\n  \"name\": \"df_completo\",\n  \"rows\": 6,\n  \"fields\": [\n    {\n      \"column\": \"Produto\",\n      \"properties\": {\n        \"dtype\": \"string\",\n        \"num_unique_values\": 3,\n        \"samples\": [\n          \"Produto A\",\n          \"Produto B\",\n          \"Produto C\"\n        ],\n        \"semantic_type\": \"\",\n        \"description\": \"\"\n      }\n    },\n    {\n      \"column\": \"Quantidade\",\n      \"properties\": {\n        \"dtype\": \"number\",\n        \"std\": 2,\n        \"min\": 7,\n        \"max\": 15,\n        \"num_unique_values\": 5,\n        \"samples\": [\n          7,\n          8,\n          10\n        ],\n        \"semantic_type\": \"\",\n        \"description\": \"\"\n      }\n    },\n    {\n      \"column\": \"Valor Unit\\u00e1rio\",\n      \"properties\": {\n        \"dtype\": \"number\",\n        \"std\": 3,\n        \"min\": 12,\n        \"max\": 20,\n        \"num_unique_values\": 3,\n        \"samples\": [\n          15,\n          20,\n          12\n        ],\n        \"semantic_type\": \"\",\n        \"description\": \"\"\n      }\n    },\n    {\n      \"column\": \"total\",\n      \"properties\": {\n        \"dtype\": \"number\",\n        \"std\": 32,\n        \"min\": 96,\n        \"max\": 180,\n        \"num_unique_values\": 6,\n        \"samples\": [\n          180,\n          140,\n          96\n        ],\n        \"semantic_type\": \"\",\n        \"description\": \"\"\n      }\n    },\n    {\n      \"column\": \"Semana\",\n      \"properties\": {\n        \"dtype\": \"category\",\n        \"num_unique_values\": 2,\n        \"samples\": [\n          \"Semana_1\",\n          \"Semana_2\"\n        ],\n        \"semantic_type\": \"\",\n        \"description\": \"\"\n      }\n    }\n  ]\n}"
            }
          },
          "metadata": {},
          "execution_count": 29
        }
      ]
    },
    {
      "cell_type": "markdown",
      "source": [
        "# **Enviar e-mail com gmail(ativação dos dois fatores)**"
      ],
      "metadata": {
        "id": "AzZjAN8sTlvL"
      }
    },
    {
      "cell_type": "markdown",
      "source": [
        "https://support.google.com/accounts/answer/185833?hl=pt-BR"
      ],
      "metadata": {
        "id": "5MQnO1k1Txqb"
      }
    },
    {
      "cell_type": "code",
      "source": [
        "from google.colab import userdata"
      ],
      "metadata": {
        "id": "ksnS92lTTuP6"
      },
      "execution_count": null,
      "outputs": []
    },
    {
      "cell_type": "code",
      "source": [
        "import smtplib\n",
        "from email.message import EmailMessage\n",
        "\n",
        "#Defina as informações do e-mail\n",
        "remetente = userdata.get('email') # Substitua pelo seu e-mail\n",
        "destinatario = userdata.get('email') # Substitua pelo e-mail do destinatário\n",
        "senha = userdata.get('senha') # Substitua pela senha do seu e-mail (a senha é o código que o google dá, quando vc habilita dois fatores e cria um usuario)"
      ],
      "metadata": {
        "id": "iw2-XOzkWfkC"
      },
      "execution_count": null,
      "outputs": []
    },
    {
      "cell_type": "markdown",
      "source": [
        "Código"
      ],
      "metadata": {
        "id": "EreTr-WgYTIz"
      }
    },
    {
      "cell_type": "code",
      "source": [
        "#Crie a mensagem aqui\n",
        "msg = EmailMessage()\n",
        "msg.set_content('Olá, este é um e-mail enviado via Python!')\n",
        "msg['Subject'] = 'Assunto do E-mail'\n",
        "msg['From'] = remetente\n",
        "msg['To'] = destinatario\n",
        "\n",
        "# Configuração do servidor SMTP\n",
        "smtp_server = 'smtp.gmail.com' #Usando o servidor SMTP do Gmail\n",
        "smtp_port = 587 #Porta de e-mail via TLS"
      ],
      "metadata": {
        "id": "Q_hmaQSEYSuy"
      },
      "execution_count": null,
      "outputs": []
    },
    {
      "cell_type": "markdown",
      "source": [
        "Envio do e-mail"
      ],
      "metadata": {
        "id": "dzfIrO3cZ7eS"
      }
    },
    {
      "cell_type": "code",
      "source": [
        "#Envio do e-mail\n",
        "try:\n",
        "  with smtplib.SMTP(smtp_server, smtp_port) as server:\n",
        "    server.starttls() #Inicia a criptografia TLS\n",
        "    server.login(remetente, senha) #Realiza o login com seu e-mail e senha\n",
        "    server.send_message(msg) #Envia a mensagem\n",
        "    print(\"E-mail enviado com sucesso!\")\n",
        "except Exception as e:\n",
        "  print(f\"Ocorreu um erro ao enviar o e-mail: {e}\")"
      ],
      "metadata": {
        "id": "gO-KGLGiZ9pa"
      },
      "execution_count": null,
      "outputs": []
    },
    {
      "cell_type": "code",
      "source": [
        "raio = float(input(\"\"))\n",
        "n = 3.14159\n",
        "area = n * (raio**2)\n",
        "print(f\"A={area:.4f}\"))"
      ],
      "metadata": {
        "colab": {
          "base_uri": "https://localhost:8080/"
        },
        "id": "dPOQpkDupSFS",
        "outputId": "78cb22ca-34ee-4d28-cf00-94cff2ab4433"
      },
      "execution_count": null,
      "outputs": [
        {
          "output_type": "stream",
          "name": "stdout",
          "text": [
            "2.00\n",
            "A=12.5664\n"
          ]
        }
      ]
    },
    {
      "cell_type": "code",
      "source": [
        "# -*- coding: utf-8 -*-\n",
        "\n",
        "A = int(input(\"\"))\n",
        "B = int(input(\"\"))\n",
        "SOMA = A + B\n",
        "print(\"SOMA = \" + str(SOMA))"
      ],
      "metadata": {
        "colab": {
          "base_uri": "https://localhost:8080/"
        },
        "id": "wA_pFYdWtO-l",
        "outputId": "b5926e7d-f7a2-4d84-d145-fe8cf829804e"
      },
      "execution_count": null,
      "outputs": [
        {
          "output_type": "stream",
          "name": "stdout",
          "text": [
            "10\n",
            "5\n",
            "SOMA = 15\n"
          ]
        }
      ]
    },
    {
      "cell_type": "code",
      "source": [
        "a, b, c = map(int, input().split())\n",
        "\n",
        "maiorAB = (a+b+abs(a - b)) / 2\n",
        "maior = (maiorAB+c+abs(maiorAB - c)) / 2\n",
        "print(f'{maior:.0f} eh o maior')"
      ],
      "metadata": {
        "colab": {
          "base_uri": "https://localhost:8080/"
        },
        "id": "fzVv_1-sLgL1",
        "outputId": "f81bc7fc-5e22-4e0e-c9ce-cf4c569a9c37"
      },
      "execution_count": null,
      "outputs": [
        {
          "output_type": "stream",
          "name": "stdout",
          "text": [
            "7 14 106\n",
            "106 eh o maior\n"
          ]
        }
      ]
    },
    {
      "cell_type": "code",
      "source": [
        "X = int(input())\n",
        "Y = float(input())\n",
        "media = float(X) / Y\n",
        "print(f'{media:.3f} km/l')"
      ],
      "metadata": {
        "colab": {
          "base_uri": "https://localhost:8080/"
        },
        "id": "Oy30su0IT3z-",
        "outputId": "d8244992-1d4e-49e8-ef25-e519c6dbc032"
      },
      "execution_count": null,
      "outputs": [
        {
          "output_type": "stream",
          "name": "stdout",
          "text": [
            "500\n",
            "35.0\n",
            "14.286 km/l\n"
          ]
        }
      ]
    },
    {
      "cell_type": "code",
      "source": [
        "import math\n",
        "x1, y1 = map(float,input().split())\n",
        "x2, y2 = map(float,input().split())\n",
        "distancia = math.sqrt((x2 - x1)**2 + (y2 - y1)**2)\n",
        "print(f'{distancia:.4f}')"
      ],
      "metadata": {
        "colab": {
          "base_uri": "https://localhost:8080/"
        },
        "id": "6AWi6OElW4Cv",
        "outputId": "697fd4ea-eb78-4046-e189-5bb56f4b32dd"
      },
      "execution_count": null,
      "outputs": [
        {
          "output_type": "stream",
          "name": "stdout",
          "text": [
            "1.0 7.0\n",
            "5.0 9.0\n",
            "4.47213595499958\n"
          ]
        }
      ]
    },
    {
      "cell_type": "code",
      "source": [
        "distancia = int(input())\n",
        "print(f'{distancia * 2} minutos')"
      ],
      "metadata": {
        "id": "Ir7Na48EXZW9"
      },
      "execution_count": null,
      "outputs": []
    },
    {
      "cell_type": "code",
      "source": [
        "distancia = int(input())\n",
        "tempo = (distancia*60) // 30\n",
        "print(f'{tempo} minutos')"
      ],
      "metadata": {
        "id": "xkVgxK0OZ_Nn"
      },
      "execution_count": null,
      "outputs": []
    },
    {
      "cell_type": "code",
      "source": [],
      "metadata": {
        "id": "II6Sg6bLaKov"
      },
      "execution_count": null,
      "outputs": []
    }
  ]
}